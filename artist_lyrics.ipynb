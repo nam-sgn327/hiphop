{
 "cells": [
  {
   "cell_type": "code",
   "execution_count": 2,
   "id": "50e628c8-ff4e-4363-8ccc-8d707e5b174a",
   "metadata": {},
   "outputs": [],
   "source": [
    "import requests\n",
    "import pandas as pd\n",
    "from bs4 import BeautifulSoup\n",
    "import re\n",
    "from datetime import datetime\n",
    "from tqdm import tqdm\n",
    "from time import sleep"
   ]
  },
  {
   "cell_type": "markdown",
   "id": "b1f2a75e-d4fa-4de1-b871-23f94092e788",
   "metadata": {},
   "source": [
    "## 0.1 Authenticate spotify api"
   ]
  },
  {
   "cell_type": "code",
   "execution_count": 3,
   "id": "d06f79f7-20f1-4cb7-92b8-aa04860d43ba",
   "metadata": {},
   "outputs": [],
   "source": [
    "data = {\n",
    "    'grant_type': 'client_credentials',\n",
    "    'client_id': '7cac4fdb349f4b7ba7bdfeb0a9a6935d',\n",
    "    'client_secret': '73af44d83f70450b9aca7b532aa43896',\n",
    "}"
   ]
  },
  {
   "cell_type": "code",
   "execution_count": 1083,
   "id": "8a261f1a-08c8-46a1-aac9-e688b31c0956",
   "metadata": {},
   "outputs": [
    {
     "ename": "SyntaxError",
     "evalue": "invalid syntax (2800041430.py, line 1)",
     "output_type": "error",
     "traceback": [
      "\u001b[1;36m  Cell \u001b[1;32mIn[1083], line 1\u001b[1;36m\u001b[0m\n\u001b[1;33m    `jupyter notebook --NotebookApp.iopub_data_rate_limit=1.0e10`\u001b[0m\n\u001b[1;37m    ^\u001b[0m\n\u001b[1;31mSyntaxError\u001b[0m\u001b[1;31m:\u001b[0m invalid syntax\n"
     ]
    }
   ],
   "source": [
    "`jupyter notebook --NotebookApp.iopub_data_rate_limit=1.0e10` \n"
   ]
  },
  {
   "cell_type": "code",
   "execution_count": 4,
   "id": "e1b3e177-30c7-4ea5-91af-78a9d1088210",
   "metadata": {},
   "outputs": [],
   "source": [
    "response = requests.post('https://accounts.spotify.com/api/token', data=data)\n",
    "response = response.json()"
   ]
  },
  {
   "cell_type": "code",
   "execution_count": 5,
   "id": "1cee7530-635d-4fd1-a6b7-a1b3c8f3ca7e",
   "metadata": {},
   "outputs": [],
   "source": [
    "token = response['access_token']"
   ]
  },
  {
   "cell_type": "code",
   "execution_count": 6,
   "id": "a07f716d-a54f-4840-9b80-3f5f244dc2fe",
   "metadata": {},
   "outputs": [],
   "source": [
    "%store -r"
   ]
  },
  {
   "cell_type": "code",
   "execution_count": 105,
   "id": "716f4a12-7446-48cf-af63-fcb834e44d0c",
   "metadata": {},
   "outputs": [],
   "source": [
    "headers = {\n",
    "    'Authorization': f'Bearer {token}',\n",
    "}\n",
    "\n",
    "# response_api = requests.get('https://api.spotify.com/v1/artists/3diftVOq7aEIebXKkC34oR', headers=headers)"
   ]
  },
  {
   "cell_type": "code",
   "execution_count": 99,
   "id": "9bb7ba93-afbf-4685-9247-2c2e9bd9134e",
   "metadata": {},
   "outputs": [],
   "source": [
    "request = requests.get(base_url, headers=headers)\n",
    "request = request.json()"
   ]
  },
  {
   "cell_type": "code",
   "execution_count": 558,
   "id": "56afc5ad-3865-4a0e-ad6a-83901664ee24",
   "metadata": {},
   "outputs": [],
   "source": [
    "base_url = 'https://api.spotify.com/v1/search?query=genre%253vietnamese%2520hip%2520hop&type=artist&market=VN'"
   ]
  },
  {
   "cell_type": "code",
   "execution_count": 426,
   "id": "b78c2700-855f-484c-8cfb-aa9332f14fc5",
   "metadata": {},
   "outputs": [],
   "source": [
    "trap_url = 'https://api.spotify.com/v1/search?query=genre%253vietnamese%2520trap&type=artist&market=VN'"
   ]
  },
  {
   "cell_type": "code",
   "execution_count": 503,
   "id": "a258196b-e2b5-485b-9aae-fc2377908f8c",
   "metadata": {},
   "outputs": [],
   "source": [
    "tag_url = 'https://api.spotify.com/v1/search?q=tag%3Avietnamese+hip+hop&type=artist&market=VN'"
   ]
  },
  {
   "cell_type": "code",
   "execution_count": 563,
   "id": "34448f24-de2c-4015-b05c-b84630277615",
   "metadata": {},
   "outputs": [],
   "source": [
    "rows = []\n",
    "for i in range(0, 800, 50):\n",
    "    modified_url = f\"{base_url}&limit=50&offset={i}\"\n",
    "    # print(modified_url)\n",
    "    request = requests.get(modified_url, headers=headers)\n",
    "    request = request.json()\n",
    "    # print(request)\n",
    "    # print(request['artists']['items'])\n",
    "    for artist in request['artists']['items']:\n",
    "        cells = {\n",
    "        'uri': None,\n",
    "        'name': None,\n",
    "        'followers': None,\n",
    "        'popularity': None,\n",
    "        'genres': None,\n",
    "        'url': None}\n",
    "        cells['uri'] = artist['uri']\n",
    "        cells['name'] = artist['name']\n",
    "        cells['followers'] = artist['followers']['total']\n",
    "        cells['popularity'] = artist['popularity']\n",
    "        cells['genres'] = artist['genres']\n",
    "        cells['url'] = artist['external_urls']['spotify']\n",
    "        rows.append(cells)"
   ]
  },
  {
   "cell_type": "code",
   "execution_count": 566,
   "id": "f66b286a-0e61-4f5b-812d-1e052f154473",
   "metadata": {},
   "outputs": [
    {
     "data": {
      "text/plain": [
       "100"
      ]
     },
     "execution_count": 566,
     "metadata": {},
     "output_type": "execute_result"
    }
   ],
   "source": [
    "len(rows)"
   ]
  },
  {
   "cell_type": "code",
   "execution_count": 428,
   "id": "d87d08f6-7ace-4bf7-ac05-18e4955b13f0",
   "metadata": {},
   "outputs": [],
   "source": [
    "rows_2 = []\n",
    "for i in range(0, 800, 50):\n",
    "    modified_url = f\"{trap_url}&offset={i}&limit=50\"\n",
    "    # print(modified_url)\n",
    "    request = requests.get(modified_url, headers=headers)\n",
    "    request = request.json()\n",
    "    # print(request)\n",
    "    # print(request['artists']['items'])\n",
    "    for artist in request['artists']['items']:\n",
    "        cells = {\n",
    "        'uri': None,\n",
    "        'name': None,\n",
    "        'followers': None,\n",
    "        'popularity': None,\n",
    "        'genres': None,\n",
    "        'url': None}\n",
    "        cells['uri'] = artist['uri']\n",
    "        cells['name'] = artist['name']\n",
    "        cells['followers'] = artist['followers']['total']\n",
    "        cells['popularity'] = artist['popularity']\n",
    "        cells['genres'] = artist['genres']\n",
    "        cells['url'] = artist['external_urls']['spotify']\n",
    "        rows_2.append(cells)"
   ]
  },
  {
   "cell_type": "code",
   "execution_count": 460,
   "id": "83ee75f8-9ff7-42af-b433-f7f1e04e61cb",
   "metadata": {},
   "outputs": [],
   "source": [
    "for row in rows_2:\n",
    "    row['uri'] = row['uri'].replace('spotify:artist:','')"
   ]
  },
  {
   "cell_type": "code",
   "execution_count": 504,
   "id": "58d53d8b-d3d6-464d-85e3-29398b274610",
   "metadata": {},
   "outputs": [
    {
     "name": "stdout",
     "output_type": "stream",
     "text": [
      "https://api.spotify.com/v1/search?q=tag%3Avietnamese+hip+hop&type=artist&market=VN&offset=0&limit=50\n",
      "https://api.spotify.com/v1/search?q=tag%3Avietnamese+hip+hop&type=artist&market=VN&offset=50&limit=50\n",
      "https://api.spotify.com/v1/search?q=tag%3Avietnamese+hip+hop&type=artist&market=VN&offset=100&limit=50\n",
      "https://api.spotify.com/v1/search?q=tag%3Avietnamese+hip+hop&type=artist&market=VN&offset=150&limit=50\n",
      "https://api.spotify.com/v1/search?q=tag%3Avietnamese+hip+hop&type=artist&market=VN&offset=200&limit=50\n",
      "https://api.spotify.com/v1/search?q=tag%3Avietnamese+hip+hop&type=artist&market=VN&offset=250&limit=50\n",
      "https://api.spotify.com/v1/search?q=tag%3Avietnamese+hip+hop&type=artist&market=VN&offset=300&limit=50\n",
      "https://api.spotify.com/v1/search?q=tag%3Avietnamese+hip+hop&type=artist&market=VN&offset=350&limit=50\n",
      "https://api.spotify.com/v1/search?q=tag%3Avietnamese+hip+hop&type=artist&market=VN&offset=400&limit=50\n",
      "https://api.spotify.com/v1/search?q=tag%3Avietnamese+hip+hop&type=artist&market=VN&offset=450&limit=50\n",
      "https://api.spotify.com/v1/search?q=tag%3Avietnamese+hip+hop&type=artist&market=VN&offset=500&limit=50\n",
      "https://api.spotify.com/v1/search?q=tag%3Avietnamese+hip+hop&type=artist&market=VN&offset=550&limit=50\n",
      "https://api.spotify.com/v1/search?q=tag%3Avietnamese+hip+hop&type=artist&market=VN&offset=600&limit=50\n",
      "https://api.spotify.com/v1/search?q=tag%3Avietnamese+hip+hop&type=artist&market=VN&offset=650&limit=50\n",
      "https://api.spotify.com/v1/search?q=tag%3Avietnamese+hip+hop&type=artist&market=VN&offset=700&limit=50\n",
      "https://api.spotify.com/v1/search?q=tag%3Avietnamese+hip+hop&type=artist&market=VN&offset=750&limit=50\n"
     ]
    }
   ],
   "source": [
    "rows_3 = []\n",
    "for i in range(0, 800, 50):\n",
    "    modified_url = f\"{tag_url}&offset={i}&limit=50\"\n",
    "    print(modified_url)\n",
    "    request = requests.get(modified_url, headers=headers)\n",
    "    request = request.json()\n",
    "    # # print(request)\n",
    "    # # print(request['artists']['items'])\n",
    "    for artist in request['artists']['items']:\n",
    "        cells = {\n",
    "        'uri': None,\n",
    "        'name': None,\n",
    "        'followers': None,\n",
    "        'popularity': None,\n",
    "        'genres': None,\n",
    "        'url': None}\n",
    "        cells['uri'] = artist['uri'].replace('spotify:artist:','')\n",
    "        cells['name'] = artist['name']\n",
    "        cells['followers'] = artist['followers']['total']\n",
    "        cells['popularity'] = artist['popularity']\n",
    "        cells['genres'] = artist['genres']\n",
    "        cells['url'] = artist['external_urls']['spotify']\n",
    "        rows_3.append(cells)"
   ]
  },
  {
   "cell_type": "code",
   "execution_count": 505,
   "id": "913ed227-50bf-40f3-b64e-73fbb4f80b7a",
   "metadata": {},
   "outputs": [],
   "source": [
    "df3 = pd.DataFrame(rows_3)"
   ]
  },
  {
   "cell_type": "code",
   "execution_count": 507,
   "id": "83f07af3-5cb7-45ca-ab59-2f2066a31142",
   "metadata": {},
   "outputs": [
    {
     "data": {
      "text/plain": [
       "100"
      ]
     },
     "execution_count": 507,
     "metadata": {},
     "output_type": "execute_result"
    }
   ],
   "source": [
    "len(rows_3)"
   ]
  },
  {
   "cell_type": "code",
   "execution_count": 506,
   "id": "0c15e0c7-5818-418b-8fb0-9c2e778e3efc",
   "metadata": {},
   "outputs": [
    {
     "data": {
      "text/html": [
       "<div>\n",
       "<style scoped>\n",
       "    .dataframe tbody tr th:only-of-type {\n",
       "        vertical-align: middle;\n",
       "    }\n",
       "\n",
       "    .dataframe tbody tr th {\n",
       "        vertical-align: top;\n",
       "    }\n",
       "\n",
       "    .dataframe thead th {\n",
       "        text-align: right;\n",
       "    }\n",
       "</style>\n",
       "<table border=\"1\" class=\"dataframe\">\n",
       "  <thead>\n",
       "    <tr style=\"text-align: right;\">\n",
       "      <th></th>\n",
       "      <th>uri</th>\n",
       "      <th>name</th>\n",
       "      <th>followers</th>\n",
       "      <th>popularity</th>\n",
       "      <th>genres</th>\n",
       "      <th>url</th>\n",
       "    </tr>\n",
       "  </thead>\n",
       "  <tbody>\n",
       "    <tr>\n",
       "      <th>0</th>\n",
       "      <td>3diftVOq7aEIebXKkC34oR</td>\n",
       "      <td>tlinh</td>\n",
       "      <td>407913</td>\n",
       "      <td>59</td>\n",
       "      <td>[indie viet, v-pop, vietnamese hip hop, vietna...</td>\n",
       "      <td>https://open.spotify.com/artist/3diftVOq7aEIeb...</td>\n",
       "    </tr>\n",
       "    <tr>\n",
       "      <th>1</th>\n",
       "      <td>23xCr75lKvnFvKi8ImHE7S</td>\n",
       "      <td>Táo</td>\n",
       "      <td>238624</td>\n",
       "      <td>43</td>\n",
       "      <td>[v-pop, vietnamese hip hop]</td>\n",
       "      <td>https://open.spotify.com/artist/23xCr75lKvnFvK...</td>\n",
       "    </tr>\n",
       "    <tr>\n",
       "      <th>2</th>\n",
       "      <td>1zSv9qZANOWB4HRE8sxeTL</td>\n",
       "      <td>RPT MCK</td>\n",
       "      <td>526981</td>\n",
       "      <td>60</td>\n",
       "      <td>[vietnamese hip hop, vietnamese melodic rap, v...</td>\n",
       "      <td>https://open.spotify.com/artist/1zSv9qZANOWB4H...</td>\n",
       "    </tr>\n",
       "    <tr>\n",
       "      <th>3</th>\n",
       "      <td>3FZ4GX2mWNn7XElse3fQWd</td>\n",
       "      <td>Khói</td>\n",
       "      <td>236660</td>\n",
       "      <td>46</td>\n",
       "      <td>[v-pop, vietnamese hip hop]</td>\n",
       "      <td>https://open.spotify.com/artist/3FZ4GX2mWNn7XE...</td>\n",
       "    </tr>\n",
       "    <tr>\n",
       "      <th>4</th>\n",
       "      <td>0gGd4WhPXBSgDX6fdOHcOw</td>\n",
       "      <td>Rhymastic</td>\n",
       "      <td>586664</td>\n",
       "      <td>50</td>\n",
       "      <td>[v-pop, vietnamese hip hop, vietnamese melodic...</td>\n",
       "      <td>https://open.spotify.com/artist/0gGd4WhPXBSgDX...</td>\n",
       "    </tr>\n",
       "  </tbody>\n",
       "</table>\n",
       "</div>"
      ],
      "text/plain": [
       "                      uri       name  followers  popularity  \\\n",
       "0  3diftVOq7aEIebXKkC34oR      tlinh     407913          59   \n",
       "1  23xCr75lKvnFvKi8ImHE7S        Táo     238624          43   \n",
       "2  1zSv9qZANOWB4HRE8sxeTL    RPT MCK     526981          60   \n",
       "3  3FZ4GX2mWNn7XElse3fQWd       Khói     236660          46   \n",
       "4  0gGd4WhPXBSgDX6fdOHcOw  Rhymastic     586664          50   \n",
       "\n",
       "                                              genres  \\\n",
       "0  [indie viet, v-pop, vietnamese hip hop, vietna...   \n",
       "1                        [v-pop, vietnamese hip hop]   \n",
       "2  [vietnamese hip hop, vietnamese melodic rap, v...   \n",
       "3                        [v-pop, vietnamese hip hop]   \n",
       "4  [v-pop, vietnamese hip hop, vietnamese melodic...   \n",
       "\n",
       "                                                 url  \n",
       "0  https://open.spotify.com/artist/3diftVOq7aEIeb...  \n",
       "1  https://open.spotify.com/artist/23xCr75lKvnFvK...  \n",
       "2  https://open.spotify.com/artist/1zSv9qZANOWB4H...  \n",
       "3  https://open.spotify.com/artist/3FZ4GX2mWNn7XE...  \n",
       "4  https://open.spotify.com/artist/0gGd4WhPXBSgDX...  "
      ]
     },
     "execution_count": 506,
     "metadata": {},
     "output_type": "execute_result"
    }
   ],
   "source": [
    "df3.head()"
   ]
  },
  {
   "cell_type": "code",
   "execution_count": 481,
   "id": "c47ffd2f-e115-43b1-803b-89527eb51504",
   "metadata": {},
   "outputs": [],
   "source": [
    "df2 = pd.DataFrame(rows_2)"
   ]
  },
  {
   "cell_type": "code",
   "execution_count": 490,
   "id": "7adb781b-863d-4e4d-b190-15afaaf57909",
   "metadata": {},
   "outputs": [],
   "source": [
    "df2 = pd.concat([df2, df3], ignore_index=True)"
   ]
  },
  {
   "cell_type": "code",
   "execution_count": 500,
   "id": "32c56d9a-2ac7-43e7-84bb-3a0d347e35a2",
   "metadata": {},
   "outputs": [
    {
     "data": {
      "text/html": [
       "<div>\n",
       "<style scoped>\n",
       "    .dataframe tbody tr th:only-of-type {\n",
       "        vertical-align: middle;\n",
       "    }\n",
       "\n",
       "    .dataframe tbody tr th {\n",
       "        vertical-align: top;\n",
       "    }\n",
       "\n",
       "    .dataframe thead th {\n",
       "        text-align: right;\n",
       "    }\n",
       "</style>\n",
       "<table border=\"1\" class=\"dataframe\">\n",
       "  <thead>\n",
       "    <tr style=\"text-align: right;\">\n",
       "      <th></th>\n",
       "      <th>uri</th>\n",
       "      <th>name</th>\n",
       "      <th>followers</th>\n",
       "      <th>popularity</th>\n",
       "      <th>genres</th>\n",
       "      <th>url</th>\n",
       "    </tr>\n",
       "  </thead>\n",
       "  <tbody>\n",
       "    <tr>\n",
       "      <th>0</th>\n",
       "      <td>1cPpd989kghzlZqfpP4KwL</td>\n",
       "      <td>RAP VIỆT</td>\n",
       "      <td>1127659</td>\n",
       "      <td>62</td>\n",
       "      <td>[v-pop, vietnamese hip hop, vietnamese melodic...</td>\n",
       "      <td>https://open.spotify.com/artist/1cPpd989kghzlZ...</td>\n",
       "    </tr>\n",
       "    <tr>\n",
       "      <th>1</th>\n",
       "      <td>1zSv9qZANOWB4HRE8sxeTL</td>\n",
       "      <td>RPT MCK</td>\n",
       "      <td>526981</td>\n",
       "      <td>60</td>\n",
       "      <td>[vietnamese hip hop, vietnamese melodic rap, v...</td>\n",
       "      <td>https://open.spotify.com/artist/1zSv9qZANOWB4H...</td>\n",
       "    </tr>\n",
       "    <tr>\n",
       "      <th>2</th>\n",
       "      <td>3diftVOq7aEIebXKkC34oR</td>\n",
       "      <td>tlinh</td>\n",
       "      <td>407913</td>\n",
       "      <td>59</td>\n",
       "      <td>[indie viet, v-pop, vietnamese hip hop, vietna...</td>\n",
       "      <td>https://open.spotify.com/artist/3diftVOq7aEIeb...</td>\n",
       "    </tr>\n",
       "    <tr>\n",
       "      <th>3</th>\n",
       "      <td>1LEtM3AleYg1xabW6CRkpi</td>\n",
       "      <td>Đen</td>\n",
       "      <td>3409017</td>\n",
       "      <td>58</td>\n",
       "      <td>[indie viet, v-pop, vietnamese hip hop, vietna...</td>\n",
       "      <td>https://open.spotify.com/artist/1LEtM3AleYg1xa...</td>\n",
       "    </tr>\n",
       "    <tr>\n",
       "      <th>4</th>\n",
       "      <td>6fIF1TzV4K21TUWPXoQDAj</td>\n",
       "      <td>UMIE</td>\n",
       "      <td>30960</td>\n",
       "      <td>52</td>\n",
       "      <td>[viet chill rap]</td>\n",
       "      <td>https://open.spotify.com/artist/6fIF1TzV4K21TU...</td>\n",
       "    </tr>\n",
       "  </tbody>\n",
       "</table>\n",
       "</div>"
      ],
      "text/plain": [
       "                      uri      name  followers  popularity  \\\n",
       "0  1cPpd989kghzlZqfpP4KwL  RAP VIỆT    1127659          62   \n",
       "1  1zSv9qZANOWB4HRE8sxeTL   RPT MCK     526981          60   \n",
       "2  3diftVOq7aEIebXKkC34oR     tlinh     407913          59   \n",
       "3  1LEtM3AleYg1xabW6CRkpi       Đen    3409017          58   \n",
       "4  6fIF1TzV4K21TUWPXoQDAj      UMIE      30960          52   \n",
       "\n",
       "                                              genres  \\\n",
       "0  [v-pop, vietnamese hip hop, vietnamese melodic...   \n",
       "1  [vietnamese hip hop, vietnamese melodic rap, v...   \n",
       "2  [indie viet, v-pop, vietnamese hip hop, vietna...   \n",
       "3  [indie viet, v-pop, vietnamese hip hop, vietna...   \n",
       "4                                   [viet chill rap]   \n",
       "\n",
       "                                                 url  \n",
       "0  https://open.spotify.com/artist/1cPpd989kghzlZ...  \n",
       "1  https://open.spotify.com/artist/1zSv9qZANOWB4H...  \n",
       "2  https://open.spotify.com/artist/3diftVOq7aEIeb...  \n",
       "3  https://open.spotify.com/artist/1LEtM3AleYg1xa...  \n",
       "4  https://open.spotify.com/artist/6fIF1TzV4K21TU...  "
      ]
     },
     "execution_count": 500,
     "metadata": {},
     "output_type": "execute_result"
    }
   ],
   "source": [
    "df2.head()"
   ]
  },
  {
   "cell_type": "code",
   "execution_count": 533,
   "id": "6345072e-837d-4ba1-b7be-1d4baf8555d3",
   "metadata": {},
   "outputs": [],
   "source": [
    "url_broad = 'https://api.spotify.com/v1/search?q=genre%3Avietnamese&type=artist&market=VN'"
   ]
  },
  {
   "cell_type": "code",
   "execution_count": 534,
   "id": "37466ac8-de3e-4884-9035-c936de3666bd",
   "metadata": {},
   "outputs": [],
   "source": [
    "rows_4 = []\n",
    "for i in range(0, 800, 50):\n",
    "    modified_url = f\"{url_broad}&limit=50&offset={i}\"\n",
    "    # print(modified_url)\n",
    "    request = requests.get(modified_url, headers=headers)\n",
    "    request = request.json()\n",
    "    # # print(request)\n",
    "    # # print(request['artists']['items'])\n",
    "    for artist in request['artists']['items']:\n",
    "        cells = {\n",
    "        'uri': None,\n",
    "        'name': None,\n",
    "        'followers': None,\n",
    "        'popularity': None,\n",
    "        'genres': None,\n",
    "        'url': None}\n",
    "        cells['uri'] = artist['uri'].replace('spotify:artist:','')\n",
    "        cells['name'] = artist['name']\n",
    "        cells['followers'] = artist['followers']['total']\n",
    "        cells['popularity'] = artist['popularity']\n",
    "        cells['genres'] = artist['genres']\n",
    "        cells['url'] = artist['external_urls']['spotify']\n",
    "        rows_4.append(cells)\n",
    "        sleep(2)"
   ]
  },
  {
   "cell_type": "code",
   "execution_count": 537,
   "id": "264613dd-dd22-4704-9449-8dbf63904cf3",
   "metadata": {},
   "outputs": [
    {
     "data": {
      "text/plain": [
       "767"
      ]
     },
     "execution_count": 537,
     "metadata": {},
     "output_type": "execute_result"
    }
   ],
   "source": [
    "len(rows_4)"
   ]
  },
  {
   "cell_type": "code",
   "execution_count": 538,
   "id": "2a8103a2-fbe0-460b-9ac2-43d674e46c45",
   "metadata": {},
   "outputs": [],
   "source": [
    "df = pd.DataFrame(rows_4)"
   ]
  },
  {
   "cell_type": "code",
   "execution_count": 547,
   "id": "116775a6-cbe9-4d4f-91e8-652ce97596c8",
   "metadata": {},
   "outputs": [],
   "source": [
    "df = df.explode('genres')"
   ]
  },
  {
   "cell_type": "code",
   "execution_count": 575,
   "id": "10c11c7e-bd1b-44c3-8f23-eaaf5692895a",
   "metadata": {},
   "outputs": [
    {
     "data": {
      "text/html": [
       "<div>\n",
       "<style scoped>\n",
       "    .dataframe tbody tr th:only-of-type {\n",
       "        vertical-align: middle;\n",
       "    }\n",
       "\n",
       "    .dataframe tbody tr th {\n",
       "        vertical-align: top;\n",
       "    }\n",
       "\n",
       "    .dataframe thead th {\n",
       "        text-align: right;\n",
       "    }\n",
       "</style>\n",
       "<table border=\"1\" class=\"dataframe\">\n",
       "  <thead>\n",
       "    <tr style=\"text-align: right;\">\n",
       "      <th></th>\n",
       "      <th>uri</th>\n",
       "      <th>name</th>\n",
       "      <th>followers</th>\n",
       "      <th>popularity</th>\n",
       "      <th>genres</th>\n",
       "      <th>url</th>\n",
       "    </tr>\n",
       "  </thead>\n",
       "  <tbody>\n",
       "    <tr>\n",
       "      <th>0</th>\n",
       "      <td>1cPpd989kghzlZqfpP4KwL</td>\n",
       "      <td>RAP VIỆT</td>\n",
       "      <td>1127659</td>\n",
       "      <td>62</td>\n",
       "      <td>v-pop</td>\n",
       "      <td>https://open.spotify.com/artist/1cPpd989kghzlZ...</td>\n",
       "    </tr>\n",
       "    <tr>\n",
       "      <th>0</th>\n",
       "      <td>1cPpd989kghzlZqfpP4KwL</td>\n",
       "      <td>RAP VIỆT</td>\n",
       "      <td>1127659</td>\n",
       "      <td>62</td>\n",
       "      <td>vietnamese hip hop</td>\n",
       "      <td>https://open.spotify.com/artist/1cPpd989kghzlZ...</td>\n",
       "    </tr>\n",
       "    <tr>\n",
       "      <th>0</th>\n",
       "      <td>1cPpd989kghzlZqfpP4KwL</td>\n",
       "      <td>RAP VIỆT</td>\n",
       "      <td>1127659</td>\n",
       "      <td>62</td>\n",
       "      <td>vietnamese melodic rap</td>\n",
       "      <td>https://open.spotify.com/artist/1cPpd989kghzlZ...</td>\n",
       "    </tr>\n",
       "    <tr>\n",
       "      <th>1</th>\n",
       "      <td>1zSv9qZANOWB4HRE8sxeTL</td>\n",
       "      <td>RPT MCK</td>\n",
       "      <td>526981</td>\n",
       "      <td>60</td>\n",
       "      <td>vietnamese hip hop</td>\n",
       "      <td>https://open.spotify.com/artist/1zSv9qZANOWB4H...</td>\n",
       "    </tr>\n",
       "    <tr>\n",
       "      <th>1</th>\n",
       "      <td>1zSv9qZANOWB4HRE8sxeTL</td>\n",
       "      <td>RPT MCK</td>\n",
       "      <td>526981</td>\n",
       "      <td>60</td>\n",
       "      <td>vietnamese melodic rap</td>\n",
       "      <td>https://open.spotify.com/artist/1zSv9qZANOWB4H...</td>\n",
       "    </tr>\n",
       "  </tbody>\n",
       "</table>\n",
       "</div>"
      ],
      "text/plain": [
       "                      uri      name  followers  popularity  \\\n",
       "0  1cPpd989kghzlZqfpP4KwL  RAP VIỆT    1127659          62   \n",
       "0  1cPpd989kghzlZqfpP4KwL  RAP VIỆT    1127659          62   \n",
       "0  1cPpd989kghzlZqfpP4KwL  RAP VIỆT    1127659          62   \n",
       "1  1zSv9qZANOWB4HRE8sxeTL   RPT MCK     526981          60   \n",
       "1  1zSv9qZANOWB4HRE8sxeTL   RPT MCK     526981          60   \n",
       "\n",
       "                   genres                                                url  \n",
       "0                   v-pop  https://open.spotify.com/artist/1cPpd989kghzlZ...  \n",
       "0      vietnamese hip hop  https://open.spotify.com/artist/1cPpd989kghzlZ...  \n",
       "0  vietnamese melodic rap  https://open.spotify.com/artist/1cPpd989kghzlZ...  \n",
       "1      vietnamese hip hop  https://open.spotify.com/artist/1zSv9qZANOWB4H...  \n",
       "1  vietnamese melodic rap  https://open.spotify.com/artist/1zSv9qZANOWB4H...  "
      ]
     },
     "execution_count": 575,
     "metadata": {},
     "output_type": "execute_result"
    }
   ],
   "source": [
    "df.head()"
   ]
  },
  {
   "cell_type": "code",
   "execution_count": 403,
   "id": "b9e38239-c692-43ce-b8e2-2eadd42c9f78",
   "metadata": {},
   "outputs": [],
   "source": [
    "artists = pd.DataFrame(rows)"
   ]
  },
  {
   "cell_type": "code",
   "execution_count": 405,
   "id": "fffccc72-d129-4864-af64-f945c1ef858f",
   "metadata": {},
   "outputs": [],
   "source": [
    "artists['uri'] = artists['uri'].str.replace('spotify:artist:','')"
   ]
  },
  {
   "cell_type": "code",
   "execution_count": 409,
   "id": "a1fee6a9-c0f8-4aca-bc9f-4c5e599d4f2e",
   "metadata": {},
   "outputs": [],
   "source": [
    "artists_ex = artists.explode('genres')"
   ]
  },
  {
   "cell_type": "code",
   "execution_count": 567,
   "id": "71a02ca5-01ba-4a38-8793-4f2d7c7e6aeb",
   "metadata": {},
   "outputs": [],
   "source": [
    "hip_hop = df[df['genres']=='vietnamese hip hop']"
   ]
  },
  {
   "cell_type": "code",
   "execution_count": 568,
   "id": "aa8cd131-4aa4-4264-a6f9-081d20220816",
   "metadata": {},
   "outputs": [
    {
     "name": "stdout",
     "output_type": "stream",
     "text": [
      "<class 'pandas.core.frame.DataFrame'>\n",
      "Index: 176 entries, 0 to 762\n",
      "Data columns (total 6 columns):\n",
      " #   Column      Non-Null Count  Dtype \n",
      "---  ------      --------------  ----- \n",
      " 0   uri         176 non-null    object\n",
      " 1   name        176 non-null    object\n",
      " 2   followers   176 non-null    int64 \n",
      " 3   popularity  176 non-null    int64 \n",
      " 4   genres      176 non-null    object\n",
      " 5   url         176 non-null    object\n",
      "dtypes: int64(2), object(4)\n",
      "memory usage: 9.6+ KB\n"
     ]
    }
   ],
   "source": [
    "hip_hop.info()"
   ]
  },
  {
   "cell_type": "code",
   "execution_count": 1084,
   "id": "52ea90aa-e8d7-421e-96ec-8e76cb996913",
   "metadata": {},
   "outputs": [
    {
     "name": "stdout",
     "output_type": "stream",
     "text": [
      "Stored 'artists' (DataFrame)\n"
     ]
    }
   ],
   "source": [
    "%store artists"
   ]
  },
  {
   "cell_type": "code",
   "execution_count": 569,
   "id": "4b9c53e8-a519-4e33-b257-8eac1bf875b6",
   "metadata": {},
   "outputs": [
    {
     "name": "stdout",
     "output_type": "stream",
     "text": [
      "Stored 'hip_hop' (DataFrame)\n"
     ]
    }
   ],
   "source": [
    "%store hip_hop"
   ]
  },
  {
   "cell_type": "code",
   "execution_count": 571,
   "id": "fb06b524-3c39-49e3-82ec-2ffec895debc",
   "metadata": {},
   "outputs": [
    {
     "data": {
      "text/html": [
       "<div>\n",
       "<style scoped>\n",
       "    .dataframe tbody tr th:only-of-type {\n",
       "        vertical-align: middle;\n",
       "    }\n",
       "\n",
       "    .dataframe tbody tr th {\n",
       "        vertical-align: top;\n",
       "    }\n",
       "\n",
       "    .dataframe thead th {\n",
       "        text-align: right;\n",
       "    }\n",
       "</style>\n",
       "<table border=\"1\" class=\"dataframe\">\n",
       "  <thead>\n",
       "    <tr style=\"text-align: right;\">\n",
       "      <th></th>\n",
       "      <th>uri</th>\n",
       "      <th>name</th>\n",
       "      <th>followers</th>\n",
       "      <th>popularity</th>\n",
       "      <th>genres</th>\n",
       "      <th>url</th>\n",
       "    </tr>\n",
       "  </thead>\n",
       "  <tbody>\n",
       "    <tr>\n",
       "      <th>4</th>\n",
       "      <td>1LEtM3AleYg1xabW6CRkpi</td>\n",
       "      <td>Đen</td>\n",
       "      <td>3409017</td>\n",
       "      <td>58</td>\n",
       "      <td>vietnamese hip hop</td>\n",
       "      <td>https://open.spotify.com/artist/1LEtM3AleYg1xa...</td>\n",
       "    </tr>\n",
       "    <tr>\n",
       "      <th>0</th>\n",
       "      <td>1cPpd989kghzlZqfpP4KwL</td>\n",
       "      <td>RAP VIỆT</td>\n",
       "      <td>1127659</td>\n",
       "      <td>62</td>\n",
       "      <td>vietnamese hip hop</td>\n",
       "      <td>https://open.spotify.com/artist/1cPpd989kghzlZ...</td>\n",
       "    </tr>\n",
       "    <tr>\n",
       "      <th>9</th>\n",
       "      <td>6zUWZmyi5MLOEynQ5wCI5f</td>\n",
       "      <td>Da LAB</td>\n",
       "      <td>921877</td>\n",
       "      <td>54</td>\n",
       "      <td>vietnamese hip hop</td>\n",
       "      <td>https://open.spotify.com/artist/6zUWZmyi5MLOEy...</td>\n",
       "    </tr>\n",
       "    <tr>\n",
       "      <th>22</th>\n",
       "      <td>2nSO7JYDbJrYbJmP39qUzj</td>\n",
       "      <td>Binz</td>\n",
       "      <td>878619</td>\n",
       "      <td>50</td>\n",
       "      <td>vietnamese hip hop</td>\n",
       "      <td>https://open.spotify.com/artist/2nSO7JYDbJrYbJ...</td>\n",
       "    </tr>\n",
       "    <tr>\n",
       "      <th>7</th>\n",
       "      <td>3rjcQ5VIWCN4q7UFetzdeO</td>\n",
       "      <td>JustaTee</td>\n",
       "      <td>751607</td>\n",
       "      <td>55</td>\n",
       "      <td>vietnamese hip hop</td>\n",
       "      <td>https://open.spotify.com/artist/3rjcQ5VIWCN4q7...</td>\n",
       "    </tr>\n",
       "    <tr>\n",
       "      <th>6</th>\n",
       "      <td>6TITnFVRcl0AcZ4syE7Toe</td>\n",
       "      <td>Low G</td>\n",
       "      <td>732052</td>\n",
       "      <td>55</td>\n",
       "      <td>vietnamese hip hop</td>\n",
       "      <td>https://open.spotify.com/artist/6TITnFVRcl0AcZ...</td>\n",
       "    </tr>\n",
       "    <tr>\n",
       "      <th>11</th>\n",
       "      <td>5HZtdKfC4xU0wvhEyYDWiY</td>\n",
       "      <td>HIEUTHUHAI</td>\n",
       "      <td>615431</td>\n",
       "      <td>54</td>\n",
       "      <td>vietnamese hip hop</td>\n",
       "      <td>https://open.spotify.com/artist/5HZtdKfC4xU0wv...</td>\n",
       "    </tr>\n",
       "    <tr>\n",
       "      <th>19</th>\n",
       "      <td>0gGd4WhPXBSgDX6fdOHcOw</td>\n",
       "      <td>Rhymastic</td>\n",
       "      <td>586664</td>\n",
       "      <td>50</td>\n",
       "      <td>vietnamese hip hop</td>\n",
       "      <td>https://open.spotify.com/artist/0gGd4WhPXBSgDX...</td>\n",
       "    </tr>\n",
       "    <tr>\n",
       "      <th>1</th>\n",
       "      <td>1zSv9qZANOWB4HRE8sxeTL</td>\n",
       "      <td>RPT MCK</td>\n",
       "      <td>526981</td>\n",
       "      <td>60</td>\n",
       "      <td>vietnamese hip hop</td>\n",
       "      <td>https://open.spotify.com/artist/1zSv9qZANOWB4H...</td>\n",
       "    </tr>\n",
       "    <tr>\n",
       "      <th>14</th>\n",
       "      <td>1WvNgEoB66jmHodcj15Zi9</td>\n",
       "      <td>B Ray</td>\n",
       "      <td>514301</td>\n",
       "      <td>52</td>\n",
       "      <td>vietnamese hip hop</td>\n",
       "      <td>https://open.spotify.com/artist/1WvNgEoB66jmHo...</td>\n",
       "    </tr>\n",
       "  </tbody>\n",
       "</table>\n",
       "</div>"
      ],
      "text/plain": [
       "                       uri        name  followers  popularity  \\\n",
       "4   1LEtM3AleYg1xabW6CRkpi         Đen    3409017          58   \n",
       "0   1cPpd989kghzlZqfpP4KwL    RAP VIỆT    1127659          62   \n",
       "9   6zUWZmyi5MLOEynQ5wCI5f      Da LAB     921877          54   \n",
       "22  2nSO7JYDbJrYbJmP39qUzj        Binz     878619          50   \n",
       "7   3rjcQ5VIWCN4q7UFetzdeO    JustaTee     751607          55   \n",
       "6   6TITnFVRcl0AcZ4syE7Toe       Low G     732052          55   \n",
       "11  5HZtdKfC4xU0wvhEyYDWiY  HIEUTHUHAI     615431          54   \n",
       "19  0gGd4WhPXBSgDX6fdOHcOw   Rhymastic     586664          50   \n",
       "1   1zSv9qZANOWB4HRE8sxeTL     RPT MCK     526981          60   \n",
       "14  1WvNgEoB66jmHodcj15Zi9       B Ray     514301          52   \n",
       "\n",
       "                genres                                                url  \n",
       "4   vietnamese hip hop  https://open.spotify.com/artist/1LEtM3AleYg1xa...  \n",
       "0   vietnamese hip hop  https://open.spotify.com/artist/1cPpd989kghzlZ...  \n",
       "9   vietnamese hip hop  https://open.spotify.com/artist/6zUWZmyi5MLOEy...  \n",
       "22  vietnamese hip hop  https://open.spotify.com/artist/2nSO7JYDbJrYbJ...  \n",
       "7   vietnamese hip hop  https://open.spotify.com/artist/3rjcQ5VIWCN4q7...  \n",
       "6   vietnamese hip hop  https://open.spotify.com/artist/6TITnFVRcl0AcZ...  \n",
       "11  vietnamese hip hop  https://open.spotify.com/artist/5HZtdKfC4xU0wv...  \n",
       "19  vietnamese hip hop  https://open.spotify.com/artist/0gGd4WhPXBSgDX...  \n",
       "1   vietnamese hip hop  https://open.spotify.com/artist/1zSv9qZANOWB4H...  \n",
       "14  vietnamese hip hop  https://open.spotify.com/artist/1WvNgEoB66jmHo...  "
      ]
     },
     "execution_count": 571,
     "metadata": {},
     "output_type": "execute_result"
    }
   ],
   "source": [
    "hip_hop.sort_values(by='followers', ascending=False).head(10)"
   ]
  },
  {
   "cell_type": "code",
   "execution_count": 648,
   "id": "bc8223c2-8486-477c-b48c-09aa60c0a1fd",
   "metadata": {},
   "outputs": [],
   "source": [
    "names = hip_hop['name'].to_list()"
   ]
  },
  {
   "cell_type": "code",
   "execution_count": 665,
   "id": "38dbc34d-4f74-4927-a766-1348c16ae8d3",
   "metadata": {},
   "outputs": [],
   "source": [
    "songs = hip_hop[['uri','name']]"
   ]
  },
  {
   "cell_type": "code",
   "execution_count": 695,
   "id": "712e303f-6831-436c-9128-fdc7e9d236c9",
   "metadata": {},
   "outputs": [],
   "source": [
    "songs = hip_hop.sort_values(by='followers', ascending=False)[['uri','name']]"
   ]
  },
  {
   "cell_type": "code",
   "execution_count": 976,
   "id": "7f9519b9-8969-4b57-93c4-9a0cc1372fac",
   "metadata": {},
   "outputs": [],
   "source": [
    "songs['genius_url'] = 'https://genius.com/artists/' + songs['name'].str.replace(' ','-')\n",
    "songs['genius_name'] = None\n",
    "songs['tracks'] = None\n",
    "songs['tracks_url'] = None"
   ]
  },
  {
   "cell_type": "code",
   "execution_count": 1063,
   "id": "11f7c7b4-5ba1-493b-82af-099c85566ba4",
   "metadata": {},
   "outputs": [],
   "source": [
    "artists_dict = songs.to_dict('records')"
   ]
  },
  {
   "cell_type": "code",
   "execution_count": 1066,
   "id": "ff90f8d1-98a4-4717-a1cd-54042b83e2ae",
   "metadata": {
    "collapsed": true,
    "jupyter": {
     "outputs_hidden": true
    },
    "scrolled": true
   },
   "outputs": [
    {
     "name": "stdout",
     "output_type": "stream",
     "text": [
      "0: {'uri': '1LEtM3AleYg1xabW6CRkpi', 'name': 'Đen', 'genius_url': 'https://genius.com/artists/Đen', 'tracks': None, 'tracks_url': None, 'genius_name': None}\n",
      "---\n",
      "1: {'uri': '1cPpd989kghzlZqfpP4KwL', 'name': 'RAP VIỆT', 'genius_url': 'https://genius.com/artists/RAP-VIỆT', 'tracks': None, 'tracks_url': None, 'genius_name': None}\n",
      "---\n",
      "2: {'uri': '6zUWZmyi5MLOEynQ5wCI5f', 'name': 'Da LAB', 'genius_url': 'https://genius.com/artists/Da-LAB', 'tracks': None, 'tracks_url': None, 'genius_name': None}\n",
      "---\n",
      "3: {'uri': '2nSO7JYDbJrYbJmP39qUzj', 'name': 'Binz', 'genius_url': 'https://genius.com/artists/Binz', 'tracks': None, 'tracks_url': None, 'genius_name': None}\n",
      "---\n",
      "4: {'uri': '3rjcQ5VIWCN4q7UFetzdeO', 'name': 'JustaTee', 'genius_url': 'https://genius.com/artists/JustaTee', 'tracks': None, 'tracks_url': None, 'genius_name': None}\n",
      "---\n",
      "5: {'uri': '6TITnFVRcl0AcZ4syE7Toe', 'name': 'Low G', 'genius_url': 'https://genius.com/artists/Low-G', 'tracks': None, 'tracks_url': None, 'genius_name': None}\n",
      "---\n",
      "6: {'uri': '5HZtdKfC4xU0wvhEyYDWiY', 'name': 'HIEUTHUHAI', 'genius_url': 'https://genius.com/artists/HIEUTHUHAI', 'tracks': None, 'tracks_url': None, 'genius_name': None}\n",
      "---\n",
      "7: {'uri': '0gGd4WhPXBSgDX6fdOHcOw', 'name': 'Rhymastic', 'genius_url': 'https://genius.com/artists/Rhymastic', 'tracks': None, 'tracks_url': None, 'genius_name': None}\n",
      "---\n",
      "8: {'uri': '1zSv9qZANOWB4HRE8sxeTL', 'name': 'RPT MCK', 'genius_url': 'https://genius.com/artists/RPT-MCK', 'tracks': None, 'tracks_url': None, 'genius_name': None}\n",
      "---\n",
      "9: {'uri': '1WvNgEoB66jmHodcj15Zi9', 'name': 'B Ray', 'genius_url': 'https://genius.com/artists/B-Ray', 'tracks': None, 'tracks_url': None, 'genius_name': None}\n",
      "---\n",
      "10: {'uri': '3diftVOq7aEIebXKkC34oR', 'name': 'tlinh', 'genius_url': 'https://genius.com/artists/tlinh', 'tracks': None, 'tracks_url': None, 'genius_name': None}\n",
      "---\n",
      "11: {'uri': '4RGBKkUyyvsim9vdBKCCkc', 'name': 'Ngơ', 'genius_url': 'https://genius.com/artists/Ngơ', 'tracks': None, 'tracks_url': None, 'genius_name': None}\n",
      "---\n",
      "12: {'uri': '2Bwp23pD4UVsSkchHDZw4F', 'name': 'Karik', 'genius_url': 'https://genius.com/artists/Karik', 'tracks': None, 'tracks_url': None, 'genius_name': None}\n",
      "---\n",
      "13: {'uri': '23xCr75lKvnFvKi8ImHE7S', 'name': 'Táo', 'genius_url': 'https://genius.com/artists/Táo', 'tracks': None, 'tracks_url': None, 'genius_name': None}\n",
      "---\n",
      "14: {'uri': '3FZ4GX2mWNn7XElse3fQWd', 'name': 'Khói', 'genius_url': 'https://genius.com/artists/Khói', 'tracks': None, 'tracks_url': None, 'genius_name': None}\n",
      "---\n",
      "15: {'uri': '4R3mugkUqCALXgkwSptTbg', 'name': 'Đạt G', 'genius_url': 'https://genius.com/artists/Đạt-G', 'tracks': None, 'tracks_url': None, 'genius_name': None}\n",
      "---\n",
      "16: {'uri': '5U1dINFKjJlYNOSdMrHlRh', 'name': '16 Typh', 'genius_url': 'https://genius.com/artists/16-Typh', 'tracks': None, 'tracks_url': None, 'genius_name': None}\n",
      "---\n",
      "17: {'uri': '30eFAXoU2kTjJPf2cq80B8', 'name': 'WEAN', 'genius_url': 'https://genius.com/artists/WEAN', 'tracks': None, 'tracks_url': None, 'genius_name': None}\n",
      "---\n",
      "18: {'uri': '3oB1lv9FWDKbNOUvdTw75Q', 'name': 'Bình Gold', 'genius_url': 'https://genius.com/artists/Bình-Gold', 'tracks': None, 'tracks_url': None, 'genius_name': None}\n",
      "---\n",
      "19: {'uri': '7H9jPV9qWyp6V629038aXU', 'name': 'Lynk Lee', 'genius_url': 'https://genius.com/artists/Lynk-Lee', 'tracks': None, 'tracks_url': None, 'genius_name': None}\n",
      "---\n",
      "20: {'uri': '4grjJqg7iwQ8RKHs8d9Snh', 'name': 'Andree Right Hand', 'genius_url': 'https://genius.com/artists/Andree-Right-Hand', 'tracks': None, 'tracks_url': None, 'genius_name': None}\n",
      "---\n",
      "21: {'uri': '2Fc5cGXai8xzLhGyltp4tT', 'name': 'Suboi', 'genius_url': 'https://genius.com/artists/Suboi', 'tracks': None, 'tracks_url': None, 'genius_name': None}\n",
      "---\n",
      "22: {'uri': '0ZbgKh0FgPYeFP38nVaEGp', 'name': 'Obito', 'genius_url': 'https://genius.com/artists/Obito', 'tracks': None, 'tracks_url': None, 'genius_name': None}\n",
      "---\n",
      "23: {'uri': '5ayWRfrcpObgDDlzheJ2Gr', 'name': 'TaynguyenSound', 'genius_url': 'https://genius.com/artists/TaynguyenSound', 'tracks': None, 'tracks_url': None, 'genius_name': None}\n",
      "---\n",
      "24: {'uri': '718QENtLy8bL4xVoZPg5PP', 'name': 'YanBi', 'genius_url': 'https://genius.com/artists/YanBi', 'tracks': None, 'tracks_url': None, 'genius_name': None}\n",
      "---\n",
      "25: {'uri': '4LuFOXq87Tg0JSl5U7yxFZ', 'name': 'QNT', 'genius_url': 'https://genius.com/artists/QNT', 'tracks': None, 'tracks_url': None, 'genius_name': None}\n",
      "---\n",
      "26: {'uri': '3Tehj7YghQc7zH0I1faGc6', 'name': 'BigDaddy', 'genius_url': 'https://genius.com/artists/BigDaddy', 'tracks': None, 'tracks_url': None, 'genius_name': None}\n",
      "---\n",
      "27: {'uri': '1Jmkhzve9TuXHUUWGmpANw', 'name': 'Wxrdie', 'genius_url': 'https://genius.com/artists/Wxrdie', 'tracks': None, 'tracks_url': None, 'genius_name': None}\n",
      "---\n",
      "28: {'uri': '4hksJgKaus2VEhQO2Umee9', 'name': 'Sol7', 'genius_url': 'https://genius.com/artists/Sol7', 'tracks': None, 'tracks_url': None, 'genius_name': None}\n",
      "---\n",
      "29: {'uri': '3Wj34lTDJnPp70u4YCl4jz', 'name': 'Lil Wuyn', 'genius_url': 'https://genius.com/artists/Lil-Wuyn', 'tracks': None, 'tracks_url': None, 'genius_name': None}\n",
      "---\n",
      "30: {'uri': '4bPYvyUn1mWwUwIW57oST2', 'name': 'Emcee L (Da LAB)', 'genius_url': 'https://genius.com/artists/Emcee-L-(Da-LAB)', 'tracks': None, 'tracks_url': None, 'genius_name': None}\n",
      "---\n",
      "31: {'uri': '4en2ObzSYlIYbCGknXjgG9', 'name': 'Pháo', 'genius_url': 'https://genius.com/artists/Pháo', 'tracks': None, 'tracks_url': None, 'genius_name': None}\n",
      "---\n",
      "32: {'uri': '4iFNiWhODcMZdmpNkxsTFp', 'name': 'Wowy', 'genius_url': 'https://genius.com/artists/Wowy', 'tracks': None, 'tracks_url': None, 'genius_name': None}\n",
      "---\n",
      "33: {'uri': '1Vc9oJC8vSXfirygPAL2Du', 'name': 'Huỳnh James', 'genius_url': 'https://genius.com/artists/Huỳnh-James', 'tracks': None, 'tracks_url': None, 'genius_name': None}\n",
      "---\n",
      "34: {'uri': '5M3ffmRiOX9Q8Y4jNeR5wu', 'name': 'Wren Evans', 'genius_url': 'https://genius.com/artists/Wren-Evans', 'tracks': None, 'tracks_url': None, 'genius_name': None}\n",
      "---\n",
      "35: {'uri': '6kFhNMq6O8P5QKdqlGMUVW', 'name': 'Tage', 'genius_url': 'https://genius.com/artists/Tage', 'tracks': None, 'tracks_url': None, 'genius_name': None}\n",
      "---\n",
      "36: {'uri': '2rKtPYcwYmevNcaqzJOwvf', 'name': 'MANBO', 'genius_url': 'https://genius.com/artists/MANBO', 'tracks': None, 'tracks_url': None, 'genius_name': None}\n",
      "---\n",
      "37: {'uri': '1Y6nNqZKrsUSLnG5jwXVJv', 'name': 'Phát Hồ', 'genius_url': 'https://genius.com/artists/Phát-Hồ', 'tracks': None, 'tracks_url': None, 'genius_name': None}\n",
      "---\n",
      "38: {'uri': '3EPkqJFzEGSJWtGsu1Xwqt', 'name': 'Kay Trần', 'genius_url': 'https://genius.com/artists/Kay-Trần', 'tracks': None, 'tracks_url': None, 'genius_name': None}\n",
      "---\n",
      "39: {'uri': '0TZKKZG6WHl2aVFPDtND82', 'name': 'Độ Mixi', 'genius_url': 'https://genius.com/artists/Độ-Mixi', 'tracks': None, 'tracks_url': None, 'genius_name': None}\n",
      "---\n",
      "40: {'uri': '3mYnd5Nlmdpg4D9rbAqNUD', 'name': 'JGKiD (Da LAB)', 'genius_url': 'https://genius.com/artists/JGKiD-(Da-LAB)', 'tracks': None, 'tracks_url': None, 'genius_name': None}\n",
      "---\n",
      "41: {'uri': '3JWIaDWHJq11w1xPqJStEv', 'name': 'Hustlang Robber', 'genius_url': 'https://genius.com/artists/Hustlang-Robber', 'tracks': None, 'tracks_url': None, 'genius_name': None}\n",
      "---\n",
      "42: {'uri': '22MX8BG5870DGzpNricY7q', 'name': 'VSOUL', 'genius_url': 'https://genius.com/artists/VSOUL', 'tracks': None, 'tracks_url': None, 'genius_name': None}\n",
      "---\n",
      "43: {'uri': '4IiJbbRn328Zxw8mtHb7bo', 'name': 'Cam', 'genius_url': 'https://genius.com/artists/Cam', 'tracks': None, 'tracks_url': None, 'genius_name': None}\n",
      "---\n",
      "44: {'uri': '23UOCFmQtFKvx2mFufMoJB', 'name': 'Winno', 'genius_url': 'https://genius.com/artists/Winno', 'tracks': None, 'tracks_url': None, 'genius_name': None}\n",
      "---\n",
      "45: {'uri': '6Zx90B1VRgR4TB01S87duQ', 'name': 'Anh Phan', 'genius_url': 'https://genius.com/artists/Anh-Phan', 'tracks': None, 'tracks_url': None, 'genius_name': None}\n",
      "---\n",
      "46: {'uri': '0y8J897IGMESNbBqCpHXH9', 'name': 'NHA', 'genius_url': 'https://genius.com/artists/NHA', 'tracks': None, 'tracks_url': None, 'genius_name': None}\n",
      "---\n",
      "47: {'uri': '4jQZaxfgwiUJFQagCyZNV4', 'name': 'Ricky Star', 'genius_url': 'https://genius.com/artists/Ricky-Star', 'tracks': None, 'tracks_url': None, 'genius_name': None}\n",
      "---\n",
      "48: {'uri': '5yE1xvNIbuEB2kkopCuCVY', 'name': 'PAR SG', 'genius_url': 'https://genius.com/artists/PAR-SG', 'tracks': None, 'tracks_url': None, 'genius_name': None}\n",
      "---\n",
      "49: {'uri': '5Hv9MhUFvGlYurce5BDRUh', 'name': 'Gill', 'genius_url': 'https://genius.com/artists/Gill', 'tracks': None, 'tracks_url': None, 'genius_name': None}\n",
      "---\n",
      "50: {'uri': '7JRDlOAUMJuLKmapm6H2VG', 'name': 'D Blue', 'genius_url': 'https://genius.com/artists/D-Blue', 'tracks': None, 'tracks_url': None, 'genius_name': None}\n",
      "---\n",
      "51: {'uri': '4MWvexpfvuORfFU1XF5G2A', 'name': 'OnlyC Karik', 'genius_url': 'https://genius.com/artists/OnlyC-Karik', 'tracks': None, 'tracks_url': None, 'genius_name': None}\n",
      "---\n",
      "52: {'uri': '49lqmGqzQjQCQvAqGIevkN', 'name': 'BCTM', 'genius_url': 'https://genius.com/artists/BCTM', 'tracks': None, 'tracks_url': None, 'genius_name': None}\n",
      "---\n",
      "53: {'uri': '401ikVSob52311M6Fwnunt', 'name': 'Coldzy', 'genius_url': 'https://genius.com/artists/Coldzy', 'tracks': None, 'tracks_url': None, 'genius_name': None}\n",
      "---\n",
      "54: {'uri': '56su1iNcOlGUPEtBoOoJ5D', 'name': 'Datmaniac', 'genius_url': 'https://genius.com/artists/Datmaniac', 'tracks': None, 'tracks_url': None, 'genius_name': None}\n",
      "---\n",
      "55: {'uri': '6I6fhqfGXTOJjRsDEl3GYc', 'name': 'Nam Đức', 'genius_url': 'https://genius.com/artists/Nam-Đức', 'tracks': None, 'tracks_url': None, 'genius_name': None}\n",
      "---\n",
      "56: {'uri': '71Cy7nzbfpuGJAS5FGxm93', 'name': 'Khoi Vu', 'genius_url': 'https://genius.com/artists/Khoi-Vu', 'tracks': None, 'tracks_url': None, 'genius_name': None}\n",
      "---\n",
      "57: {'uri': '3JlzPlR5FYYa402qPCCaAm', 'name': 'Freaky', 'genius_url': 'https://genius.com/artists/Freaky', 'tracks': None, 'tracks_url': None, 'genius_name': None}\n",
      "---\n",
      "58: {'uri': '0hUr8xEtATxbq2OTiJFAP0', 'name': '24k.Right', 'genius_url': 'https://genius.com/artists/24k.Right', 'tracks': None, 'tracks_url': None, 'genius_name': None}\n",
      "---\n",
      "59: {'uri': '2SWNzbf1maA3oR4x56Uv9W', 'name': 'Tùng TeA', 'genius_url': 'https://genius.com/artists/Tùng-TeA', 'tracks': None, 'tracks_url': None, 'genius_name': None}\n",
      "---\n",
      "60: {'uri': '4w5vfLTFKwpd16ZzmYwcXA', 'name': 'Kimmese', 'genius_url': 'https://genius.com/artists/Kimmese', 'tracks': None, 'tracks_url': None, 'genius_name': None}\n",
      "---\n",
      "61: {'uri': '0Ux2qIQbEeqvv7uYLgHhDH', 'name': 'tofutns', 'genius_url': 'https://genius.com/artists/tofutns', 'tracks': None, 'tracks_url': None, 'genius_name': None}\n",
      "---\n",
      "62: {'uri': '6UiKZD9yB7Gxjol62s431k', 'name': 'Seachains', 'genius_url': 'https://genius.com/artists/Seachains', 'tracks': None, 'tracks_url': None, 'genius_name': None}\n",
      "---\n",
      "63: {'uri': '6Bp5uwItvEEXAuwzOA9iwE', 'name': 'Niz', 'genius_url': 'https://genius.com/artists/Niz', 'tracks': None, 'tracks_url': None, 'genius_name': None}\n",
      "---\n",
      "64: {'uri': '1tikl40deDgJWS57GTKiVh', 'name': 'Dick', 'genius_url': 'https://genius.com/artists/Dick', 'tracks': None, 'tracks_url': None, 'genius_name': None}\n",
      "---\n",
      "65: {'uri': '53hbIxngriO3apa2SXrS29', 'name': 'Trung Tâm Băng Đĩa Lậu Hải Ngoại', 'genius_url': 'https://genius.com/artists/Trung-Tâm-Băng-Đĩa-Lậu-Hải-Ngoại', 'tracks': None, 'tracks_url': None, 'genius_name': None}\n",
      "---\n",
      "66: {'uri': '6JicDimASCwKbuAWbQaixG', 'name': 'ChiuLinh', 'genius_url': 'https://genius.com/artists/ChiuLinh', 'tracks': None, 'tracks_url': None, 'genius_name': None}\n",
      "---\n",
      "67: {'uri': '25JRC8aMGIGBIJ5KiINv3l', 'name': 'RPT Orijinn', 'genius_url': 'https://genius.com/artists/RPT-Orijinn', 'tracks': None, 'tracks_url': None, 'genius_name': None}\n",
      "---\n",
      "68: {'uri': '63rs8Pnm0EG0pw9T0wc888', 'name': \"Lil' Knight\", 'genius_url': \"https://genius.com/artists/Lil'-Knight\", 'tracks': None, 'tracks_url': None, 'genius_name': None}\n",
      "---\n",
      "69: {'uri': '1KLRO4UHKmiwS0grGzFdgT', 'name': 'Dế Choắt (DC)', 'genius_url': 'https://genius.com/artists/Dế-Choắt-(DC)', 'tracks': None, 'tracks_url': None, 'genius_name': None}\n",
      "---\n",
      "70: {'uri': '4WkqpZbj5KZukRCmntVmGB', 'name': 'OCEAN MOB', 'genius_url': 'https://genius.com/artists/OCEAN-MOB', 'tracks': None, 'tracks_url': None, 'genius_name': None}\n",
      "---\n",
      "71: {'uri': '12scI4mEdyEDBi7cdkxkVZ', 'name': '1nG', 'genius_url': 'https://genius.com/artists/1nG', 'tracks': None, 'tracks_url': None, 'genius_name': None}\n",
      "---\n",
      "72: {'uri': '2RmVHHCdiQb8yGa0eRhQjP', 'name': 'King Of Rap', 'genius_url': 'https://genius.com/artists/King-Of-Rap', 'tracks': None, 'tracks_url': None, 'genius_name': None}\n",
      "---\n",
      "73: {'uri': '7zrxCdVQeT3t5LAN3Jpavs', 'name': '95G', 'genius_url': 'https://genius.com/artists/95G', 'tracks': None, 'tracks_url': None, 'genius_name': None}\n",
      "---\n",
      "74: {'uri': '19JOXyTbKnSp1QxnKEeXtq', 'name': 'Koo', 'genius_url': 'https://genius.com/artists/Koo', 'tracks': None, 'tracks_url': None, 'genius_name': None}\n",
      "---\n",
      "75: {'uri': '1eLRJ9F6qwKeI6frD3ZzQg', 'name': 'SMO', 'genius_url': 'https://genius.com/artists/SMO', 'tracks': None, 'tracks_url': None, 'genius_name': None}\n",
      "---\n",
      "76: {'uri': '6lKBdKySIpWUb4tA7hYzU7', 'name': 'Pixel Neko', 'genius_url': 'https://genius.com/artists/Pixel-Neko', 'tracks': None, 'tracks_url': None, 'genius_name': None}\n",
      "---\n",
      "77: {'uri': '0XEYiIh3AzMl9lBaT3gNz7', 'name': 'Willistic', 'genius_url': 'https://genius.com/artists/Willistic', 'tracks': None, 'tracks_url': None, 'genius_name': None}\n",
      "---\n",
      "78: {'uri': '0vTUa2hbNHke3omoGxuKFm', 'name': 'Linh Cáo', 'genius_url': 'https://genius.com/artists/Linh-Cáo', 'tracks': None, 'tracks_url': None, 'genius_name': None}\n",
      "---\n",
      "79: {'uri': '3L2ohE2NX2W5hAauL16VuQ', 'name': 'MinhLai', 'genius_url': 'https://genius.com/artists/MinhLai', 'tracks': None, 'tracks_url': None, 'genius_name': None}\n",
      "---\n",
      "80: {'uri': '4P5sYDkznyMel8jtD0CgE4', 'name': 'Jombie', 'genius_url': 'https://genius.com/artists/Jombie', 'tracks': None, 'tracks_url': None, 'genius_name': None}\n",
      "---\n",
      "81: {'uri': '2x0RPlLEFz7pqXlhc1bl0G', 'name': 'BlackBi', 'genius_url': 'https://genius.com/artists/BlackBi', 'tracks': None, 'tracks_url': None, 'genius_name': None}\n",
      "---\n",
      "82: {'uri': '0JggLWdYe1p6oHZoHpyPSD', 'name': 'Blacka', 'genius_url': 'https://genius.com/artists/Blacka', 'tracks': None, 'tracks_url': None, 'genius_name': None}\n",
      "---\n",
      "83: {'uri': '6S0JgJU2l6ds1EhZUJMQFk', 'name': 'LK', 'genius_url': 'https://genius.com/artists/LK', 'tracks': None, 'tracks_url': None, 'genius_name': None}\n",
      "---\n",
      "84: {'uri': '37rtkoLsW4hQUY8sFTvBMO', 'name': 'Terry Hồ', 'genius_url': 'https://genius.com/artists/Terry-Hồ', 'tracks': None, 'tracks_url': None, 'genius_name': None}\n",
      "---\n",
      "85: {'uri': '2nk2PnWoh8U5lR6xDhDGFu', 'name': 'ICD', 'genius_url': 'https://genius.com/artists/ICD', 'tracks': None, 'tracks_url': None, 'genius_name': None}\n",
      "---\n",
      "86: {'uri': '0FvZX3MHDrlAAnf15FgBkA', 'name': 'Richie D. ICY', 'genius_url': 'https://genius.com/artists/Richie-D.-ICY', 'tracks': None, 'tracks_url': None, 'genius_name': None}\n",
      "---\n",
      "87: {'uri': '68Vj5ArAHBx2K0osGDXK4K', 'name': 'B-Wine', 'genius_url': 'https://genius.com/artists/B-Wine', 'tracks': None, 'tracks_url': None, 'genius_name': None}\n",
      "---\n",
      "88: {'uri': '3EkXXkwTWhJpPDJR4ME3D8', 'name': 'KayC', 'genius_url': 'https://genius.com/artists/KayC', 'tracks': None, 'tracks_url': None, 'genius_name': None}\n",
      "---\n",
      "89: {'uri': '2OkxNsNz7QXCBwlME0fSsk', 'name': 'TGSN', 'genius_url': 'https://genius.com/artists/TGSN', 'tracks': None, 'tracks_url': None, 'genius_name': None}\n",
      "---\n",
      "90: {'uri': '5kooMseQPNPTz5y1UCM5UR', 'name': 'Pjpo', 'genius_url': 'https://genius.com/artists/Pjpo', 'tracks': None, 'tracks_url': None, 'genius_name': None}\n",
      "---\n",
      "91: {'uri': '28XrDF0G35BpyybcGaQTzU', 'name': 'prettyXIX', 'genius_url': 'https://genius.com/artists/prettyXIX', 'tracks': None, 'tracks_url': None, 'genius_name': None}\n",
      "---\n",
      "92: {'uri': '2rl8ec8iY1utOPRWVcAIVU', 'name': '16 Northside', 'genius_url': 'https://genius.com/artists/16-Northside', 'tracks': None, 'tracks_url': None, 'genius_name': None}\n",
      "---\n",
      "93: {'uri': '3VkWfwJgAO5qikm4hFccO6', 'name': 'Mr.A', 'genius_url': 'https://genius.com/artists/Mr.A', 'tracks': None, 'tracks_url': None, 'genius_name': None}\n",
      "---\n",
      "94: {'uri': '0wsS9dAYTiGGG3AFrQeU7x', 'name': 'Shinasty', 'genius_url': 'https://genius.com/artists/Shinasty', 'tracks': None, 'tracks_url': None, 'genius_name': None}\n",
      "---\n",
      "95: {'uri': '4fg8aMZ23d2bxKz7r2vt9v', 'name': 'Negav', 'genius_url': 'https://genius.com/artists/Negav', 'tracks': None, 'tracks_url': None, 'genius_name': None}\n",
      "---\n",
      "96: {'uri': '77b4s2pD9ezxA8EVti2cJw', 'name': 'DÍNH', 'genius_url': 'https://genius.com/artists/DÍNH', 'tracks': None, 'tracks_url': None, 'genius_name': None}\n",
      "---\n",
      "97: {'uri': '5yYhYmHcloJNnC1rXeEEVm', 'name': 'teeayz', 'genius_url': 'https://genius.com/artists/teeayz', 'tracks': None, 'tracks_url': None, 'genius_name': None}\n",
      "---\n",
      "98: {'uri': '0hy8mfXxfD8kQ6MRQkDVrn', 'name': 'itsnk', 'genius_url': 'https://genius.com/artists/itsnk', 'tracks': None, 'tracks_url': None, 'genius_name': None}\n",
      "---\n",
      "99: {'uri': '6NgAx7a1qFwLpTCC43sZrV', 'name': 'Hưng Cao', 'genius_url': 'https://genius.com/artists/Hưng-Cao', 'tracks': None, 'tracks_url': None, 'genius_name': None}\n",
      "---\n",
      "100: {'uri': '50bDh0lNWnngFN237F1rJq', 'name': 'Linh Thộn', 'genius_url': 'https://genius.com/artists/Linh-Thộn', 'tracks': None, 'tracks_url': None, 'genius_name': None}\n",
      "---\n",
      "101: {'uri': '1ZCY6tbHfF0X4oXZJKSXCZ', 'name': 'CROW ON HYENAS', 'genius_url': 'https://genius.com/artists/CROW-ON-HYENAS', 'tracks': None, 'tracks_url': None, 'genius_name': None}\n",
      "---\n",
      "102: {'uri': '3xIg04BrQzREY9e2mQxzAf', 'name': 'Rich Choi', 'genius_url': 'https://genius.com/artists/Rich-Choi', 'tracks': None, 'tracks_url': None, 'genius_name': None}\n",
      "---\n",
      "103: {'uri': '1VQyG9aks9QYQYzwmP12Fz', 'name': 'thaison!', 'genius_url': 'https://genius.com/artists/thaison!', 'tracks': None, 'tracks_url': None, 'genius_name': None}\n",
      "---\n",
      "104: {'uri': '7CvaEyUJFgQOdgzfqqU5t7', 'name': 'Limitlxss', 'genius_url': 'https://genius.com/artists/Limitlxss', 'tracks': None, 'tracks_url': None, 'genius_name': None}\n",
      "---\n",
      "105: {'uri': '66RTVNGciQl20Xabkmyg3e', 'name': 'XAVI Phạm', 'genius_url': 'https://genius.com/artists/XAVI-Phạm', 'tracks': None, 'tracks_url': None, 'genius_name': None}\n",
      "---\n",
      "106: {'uri': '4AmiihgP8NFOtvU9DwLaK0', 'name': 'Antoneus Maximus', 'genius_url': 'https://genius.com/artists/Antoneus-Maximus', 'tracks': None, 'tracks_url': None, 'genius_name': None}\n",
      "---\n",
      "107: {'uri': '5ulyphh5uJrH4Gb1JpSMkV', 'name': 'HURRYKNG', 'genius_url': 'https://genius.com/artists/HURRYKNG', 'tracks': None, 'tracks_url': None, 'genius_name': None}\n",
      "---\n",
      "108: {'uri': '2OHv7sOf5ut7lDKGpHR3nC', 'name': 'NVM', 'genius_url': 'https://genius.com/artists/NVM', 'tracks': None, 'tracks_url': None, 'genius_name': None}\n",
      "---\n",
      "109: {'uri': '0EOMdQwzUG6CKh9oWvcANr', 'name': 'Lăng LD', 'genius_url': 'https://genius.com/artists/Lăng-LD', 'tracks': None, 'tracks_url': None, 'genius_name': None}\n",
      "---\n",
      "110: {'uri': '0wATZebE9ZNj7fTjTdwiJB', 'name': 'Kewtiie', 'genius_url': 'https://genius.com/artists/Kewtiie', 'tracks': None, 'tracks_url': None, 'genius_name': None}\n",
      "---\n",
      "111: {'uri': '4MHq627pFLlhqrdQTamHtm', 'name': '$ativa', 'genius_url': 'https://genius.com/artists/$ativa', 'tracks': None, 'tracks_url': None, 'genius_name': None}\n",
      "---\n",
      "112: {'uri': '7g8l93dx1ctAi9b8iaHDHN', 'name': 'Hazard Clique', 'genius_url': 'https://genius.com/artists/Hazard-Clique', 'tracks': None, 'tracks_url': None, 'genius_name': None}\n",
      "---\n",
      "113: {'uri': '3Ib80uqrBka6P4ncx6vJRF', 'name': 'Gonzo', 'genius_url': 'https://genius.com/artists/Gonzo', 'tracks': None, 'tracks_url': None, 'genius_name': None}\n",
      "---\n",
      "114: {'uri': '0pj1Q5mzTE2xyKrnSdGqLU', 'name': 'Lil Knight', 'genius_url': 'https://genius.com/artists/Lil-Knight', 'tracks': None, 'tracks_url': None, 'genius_name': None}\n",
      "---\n",
      "115: {'uri': '2dP2cG3zK05Y1jtb8Kwdpm', 'name': 'Tuimi', 'genius_url': 'https://genius.com/artists/Tuimi', 'tracks': None, 'tracks_url': None, 'genius_name': None}\n",
      "---\n",
      "116: {'uri': '6kWudkWjOad7NFYhvNfzG0', 'name': 'Cain', 'genius_url': 'https://genius.com/artists/Cain', 'tracks': None, 'tracks_url': None, 'genius_name': None}\n",
      "---\n",
      "117: {'uri': '1yx4rYyjUYupI7Ji1YvXRh', 'name': 'Groovie Lã Thắng', 'genius_url': 'https://genius.com/artists/Groovie-Lã-Thắng', 'tracks': None, 'tracks_url': None, 'genius_name': None}\n",
      "---\n",
      "118: {'uri': '7MkneAWCJX7dUEpx04bfQ9', 'name': 'Aki', 'genius_url': 'https://genius.com/artists/Aki', 'tracks': None, 'tracks_url': None, 'genius_name': None}\n",
      "---\n",
      "119: {'uri': '09haBcrjWACiKVkSkbt28Z', 'name': 'Tequilaz', 'genius_url': 'https://genius.com/artists/Tequilaz', 'tracks': None, 'tracks_url': None, 'genius_name': None}\n",
      "---\n",
      "120: {'uri': '5QOqH8BG0InIySjZEKSdBO', 'name': 'Slow T', 'genius_url': 'https://genius.com/artists/Slow-T', 'tracks': None, 'tracks_url': None, 'genius_name': None}\n",
      "---\n",
      "121: {'uri': '6lT5xCLqQJlHXFdZnUkI2c', 'name': 'Chị Cả', 'genius_url': 'https://genius.com/artists/Chị-Cả', 'tracks': None, 'tracks_url': None, 'genius_name': None}\n",
      "---\n",
      "122: {'uri': '0EEcEHFjh4q0m1Dif55qIB', 'name': 'XOLITXO', 'genius_url': 'https://genius.com/artists/XOLITXO', 'tracks': None, 'tracks_url': None, 'genius_name': None}\n",
      "---\n",
      "123: {'uri': '49hkeOPfjwZ6tFWNRWXMGy', 'name': 'P$mall', 'genius_url': 'https://genius.com/artists/P$mall', 'tracks': None, 'tracks_url': None, 'genius_name': None}\n",
      "---\n",
      "124: {'uri': '05qvgW4tgMM2me9GynXvPw', 'name': 'LDleKING', 'genius_url': 'https://genius.com/artists/LDleKING', 'tracks': None, 'tracks_url': None, 'genius_name': None}\n",
      "---\n",
      "125: {'uri': '7fNOXaInzEPUdWoElie9Hb', 'name': '1337 Battle', 'genius_url': 'https://genius.com/artists/1337-Battle', 'tracks': None, 'tracks_url': None, 'genius_name': None}\n",
      "---\n",
      "126: {'uri': '3rfioXxHtUmA66MpuKdozJ', 'name': 'da/md', 'genius_url': 'https://genius.com/artists/da/md', 'tracks': None, 'tracks_url': None, 'genius_name': None}\n",
      "---\n",
      "127: {'uri': '4AQDXYFCG6whoahYi6KHWM', 'name': 'LOCOBoiz', 'genius_url': 'https://genius.com/artists/LOCOBoiz', 'tracks': None, 'tracks_url': None, 'genius_name': None}\n",
      "---\n",
      "128: {'uri': '4JEtIfgyWLAr4iei0uct3U', 'name': 'LOCOBOIZ', 'genius_url': 'https://genius.com/artists/LOCOBOIZ', 'tracks': None, 'tracks_url': None, 'genius_name': None}\n",
      "---\n",
      "129: {'uri': '69X86hOn5KoIP9He8bQKW2', 'name': 'Kim Nguyen', 'genius_url': 'https://genius.com/artists/Kim-Nguyen', 'tracks': None, 'tracks_url': None, 'genius_name': None}\n",
      "---\n",
      "130: {'uri': '4jIoCS5bJr2TQ2SIbSPnwR', 'name': '16 BrT', 'genius_url': 'https://genius.com/artists/16-BrT', 'tracks': None, 'tracks_url': None, 'genius_name': None}\n",
      "---\n",
      "131: {'uri': '7MNTRRkNNnPM4y7OcPzie7', 'name': 'Ha Okio', 'genius_url': 'https://genius.com/artists/Ha-Okio', 'tracks': None, 'tracks_url': None, 'genius_name': None}\n",
      "---\n",
      "132: {'uri': '5eGFciQFU7LU4JQZeIy9uS', 'name': 'BILLY100', 'genius_url': 'https://genius.com/artists/BILLY100', 'tracks': None, 'tracks_url': None, 'genius_name': None}\n",
      "---\n",
      "133: {'uri': '2JB4tzVQfOOmbkUlXzIlQC', 'name': 'Beon', 'genius_url': 'https://genius.com/artists/Beon', 'tracks': None, 'tracks_url': None, 'genius_name': None}\n",
      "---\n",
      "134: {'uri': '4Mj1MsT19w6qtPytrzLEuu', 'name': 'Droppy', 'genius_url': 'https://genius.com/artists/Droppy', 'tracks': None, 'tracks_url': None, 'genius_name': None}\n",
      "---\n",
      "135: {'uri': '4mk54kenUTmMSMRnMeK5vB', 'name': 'Mixed Miyagi', 'genius_url': 'https://genius.com/artists/Mixed-Miyagi', 'tracks': None, 'tracks_url': None, 'genius_name': None}\n",
      "---\n",
      "136: {'uri': '63fRtpDvXw9m8pWZfdBGlA', 'name': 'RZ Mas', 'genius_url': 'https://genius.com/artists/RZ-Mas', 'tracks': None, 'tracks_url': None, 'genius_name': None}\n",
      "---\n",
      "137: {'uri': '1uBoOwCIbSlAyZZswoeOT3', 'name': 'KraziNoyze', 'genius_url': 'https://genius.com/artists/KraziNoyze', 'tracks': None, 'tracks_url': None, 'genius_name': None}\n",
      "---\n",
      "138: {'uri': '3rU7fyuGPizGdpioF5FSzC', 'name': 'TSL', 'genius_url': 'https://genius.com/artists/TSL', 'tracks': None, 'tracks_url': None, 'genius_name': None}\n",
      "---\n",
      "139: {'uri': '5GNC7Nx6coYxmZivhWEJtm', 'name': 'RPT Duke', 'genius_url': 'https://genius.com/artists/RPT-Duke', 'tracks': None, 'tracks_url': None, 'genius_name': None}\n",
      "---\n",
      "140: {'uri': '3WdwRGfLLxfbtVO16RnHj2', 'name': 'HaMin', 'genius_url': 'https://genius.com/artists/HaMin', 'tracks': None, 'tracks_url': None, 'genius_name': None}\n",
      "---\n",
      "141: {'uri': '636c5IxMgigADpuBq9qVo3', 'name': '16 BeanCd', 'genius_url': 'https://genius.com/artists/16-BeanCd', 'tracks': None, 'tracks_url': None, 'genius_name': None}\n",
      "---\n",
      "142: {'uri': '6oOcfqwwNwjXjYS2beZoKf', 'name': 'Insolent', 'genius_url': 'https://genius.com/artists/Insolent', 'tracks': None, 'tracks_url': None, 'genius_name': None}\n",
      "---\n",
      "143: {'uri': '6JOLzSKhLAz1kgISug7axT', 'name': 'Linh Thon', 'genius_url': 'https://genius.com/artists/Linh-Thon', 'tracks': None, 'tracks_url': None, 'genius_name': None}\n",
      "---\n",
      "144: {'uri': '7f3vs7IeQScnYHmehKrAuv', 'name': 'Kwzzzy', 'genius_url': 'https://genius.com/artists/Kwzzzy', 'tracks': None, 'tracks_url': None, 'genius_name': None}\n",
      "---\n",
      "145: {'uri': '12WkKdSh2d0krjEKnQ1QFY', 'name': 'Phong Le', 'genius_url': 'https://genius.com/artists/Phong-Le', 'tracks': None, 'tracks_url': None, 'genius_name': None}\n",
      "---\n",
      "146: {'uri': '3jbVXHysvUUEctMAS47Q1R', 'name': 'Hoang Rapper', 'genius_url': 'https://genius.com/artists/Hoang-Rapper', 'tracks': None, 'tracks_url': None, 'genius_name': None}\n",
      "---\n",
      "147: {'uri': '6yZuJmKsA5bGl5z1UKsnyq', 'name': '16 Rehtona', 'genius_url': 'https://genius.com/artists/16-Rehtona', 'tracks': None, 'tracks_url': None, 'genius_name': None}\n",
      "---\n",
      "148: {'uri': '319sM5VNTQQ4VPAB8kdHrU', 'name': 'Ntd', 'genius_url': 'https://genius.com/artists/Ntd', 'tracks': None, 'tracks_url': None, 'genius_name': None}\n",
      "---\n",
      "149: {'uri': '3iKq7k9u8i1Y07wvMT4nrk', 'name': 'Color', 'genius_url': 'https://genius.com/artists/Color', 'tracks': None, 'tracks_url': None, 'genius_name': None}\n",
      "---\n",
      "150: {'uri': '3Bx7DTe5CDqozxrsIMPYUR', 'name': 'Godthic', 'genius_url': 'https://genius.com/artists/Godthic', 'tracks': None, 'tracks_url': None, 'genius_name': None}\n",
      "---\n",
      "151: {'uri': '1WbB29yODBJ84DkbJefN7d', 'name': 'Dablo', 'genius_url': 'https://genius.com/artists/Dablo', 'tracks': None, 'tracks_url': None, 'genius_name': None}\n",
      "---\n",
      "152: {'uri': '5ZtLvejWqvfMSBxnhN027V', 'name': 'Hành OR', 'genius_url': 'https://genius.com/artists/Hành-OR', 'tracks': None, 'tracks_url': None, 'genius_name': None}\n",
      "---\n",
      "153: {'uri': '75wcJQ5meDomIleKGw1T8o', 'name': 'Mr T', 'genius_url': 'https://genius.com/artists/Mr-T', 'tracks': None, 'tracks_url': None, 'genius_name': None}\n",
      "---\n",
      "154: {'uri': '4h5VVC6mPxdhuguV9lIG7A', 'name': 'Hoang Dao Chu', 'genius_url': 'https://genius.com/artists/Hoang-Dao-Chu', 'tracks': None, 'tracks_url': None, 'genius_name': None}\n",
      "---\n",
      "155: {'uri': '1NbMjhYmCZw9D254PK1icL', 'name': 'Kenji', 'genius_url': 'https://genius.com/artists/Kenji', 'tracks': None, 'tracks_url': None, 'genius_name': None}\n",
      "---\n",
      "156: {'uri': '3NFhJqdphtxeWnXpB1ksts', 'name': 'Hoàng Touliver', 'genius_url': 'https://genius.com/artists/Hoàng-Touliver', 'tracks': None, 'tracks_url': None, 'genius_name': None}\n",
      "---\n",
      "157: {'uri': '78CLEUTsgtNJ1a811juZAt', 'name': 'KNG', 'genius_url': 'https://genius.com/artists/KNG', 'tracks': None, 'tracks_url': None, 'genius_name': None}\n",
      "---\n",
      "158: {'uri': '7JOOBE1RsNor4MXfxwT50z', 'name': 'Ku Lâm', 'genius_url': 'https://genius.com/artists/Ku-Lâm', 'tracks': None, 'tracks_url': None, 'genius_name': None}\n",
      "---\n",
      "159: {'uri': '274Efl0B3npExaEdiHsPL4', 'name': 'FB Boiz', 'genius_url': 'https://genius.com/artists/FB-Boiz', 'tracks': None, 'tracks_url': None, 'genius_name': None}\n",
      "---\n",
      "160: {'uri': '6nDlluvvIHATNoY3S40dTx', 'name': 'King Kudo', 'genius_url': 'https://genius.com/artists/King-Kudo', 'tracks': None, 'tracks_url': None, 'genius_name': None}\n",
      "---\n",
      "161: {'uri': '0U2ySQ7f4kwPOp1Y38xqJk', 'name': 'Blak Ray', 'genius_url': 'https://genius.com/artists/Blak-Ray', 'tracks': None, 'tracks_url': None, 'genius_name': None}\n",
      "---\n",
      "162: {'uri': '0SHFKeut4NctFFYAnzDfoq', 'name': 'Quờ', 'genius_url': 'https://genius.com/artists/Quờ', 'tracks': None, 'tracks_url': None, 'genius_name': None}\n",
      "---\n",
      "163: {'uri': '2jfbFAZ1SeBTGdjPc4hpSo', 'name': 'SuperC', 'genius_url': 'https://genius.com/artists/SuperC', 'tracks': None, 'tracks_url': None, 'genius_name': None}\n",
      "---\n",
      "164: {'uri': '3ViKR0nzw88ZJcLZN15k4o', 'name': 'Thdc', 'genius_url': 'https://genius.com/artists/Thdc', 'tracks': None, 'tracks_url': None, 'genius_name': None}\n",
      "---\n",
      "165: {'uri': '4E47hrb4KscoTErEqSBSlN', 'name': 'RAF', 'genius_url': 'https://genius.com/artists/RAF', 'tracks': None, 'tracks_url': None, 'genius_name': None}\n",
      "---\n",
      "166: {'uri': '3sDimpHjuoIvAyMN0XIf0g', 'name': 'Soho', 'genius_url': 'https://genius.com/artists/Soho', 'tracks': None, 'tracks_url': None, 'genius_name': None}\n",
      "---\n",
      "167: {'uri': '1J3gv3qQ2oZlgknBdqh7st', 'name': 'Thamz', 'genius_url': 'https://genius.com/artists/Thamz', 'tracks': None, 'tracks_url': None, 'genius_name': None}\n",
      "---\n",
      "168: {'uri': '2jcGcfwmMJfWiSbLsUnWbB', 'name': 'Lee7', 'genius_url': 'https://genius.com/artists/Lee7', 'tracks': None, 'tracks_url': None, 'genius_name': None}\n",
      "---\n",
      "169: {'uri': '0D6zoccwj675dGDyWgQ0xh', 'name': 'Mr Dee', 'genius_url': 'https://genius.com/artists/Mr-Dee', 'tracks': None, 'tracks_url': None, 'genius_name': None}\n",
      "---\n",
      "170: {'uri': '4AlBJcAW8sCpovlNlOGNIU', 'name': 'Tboss', 'genius_url': 'https://genius.com/artists/Tboss', 'tracks': None, 'tracks_url': None, 'genius_name': None}\n",
      "---\n",
      "171: {'uri': '6S8AOyyfy9aRcrG76kBLSq', 'name': 'R.E.V', 'genius_url': 'https://genius.com/artists/R.E.V', 'tracks': None, 'tracks_url': None, 'genius_name': None}\n",
      "---\n",
      "172: {'uri': '7utei79k8RDFD7cFp0oMBZ', 'name': 'Fawng Daw', 'genius_url': 'https://genius.com/artists/Fawng-Daw', 'tracks': None, 'tracks_url': None, 'genius_name': None}\n",
      "---\n",
      "173: {'uri': '2E0335kqvIPuzE3YC7aGp6', 'name': 'Thai Viet G', 'genius_url': 'https://genius.com/artists/Thai-Viet-G', 'tracks': None, 'tracks_url': None, 'genius_name': None}\n",
      "---\n",
      "174: {'uri': '45RcIGyb15hRomDpswA4kq', 'name': 'Prettyxix', 'genius_url': 'https://genius.com/artists/Prettyxix', 'tracks': None, 'tracks_url': None, 'genius_name': None}\n",
      "---\n",
      "175: {'uri': '5L13PcBsD9idjpbTKpwfeL', 'name': 'Twotee', 'genius_url': 'https://genius.com/artists/Twotee', 'tracks': None, 'tracks_url': None, 'genius_name': None}\n",
      "---\n"
     ]
    }
   ],
   "source": [
    "for i, artist in enumerate(artists_dict):\n",
    "    print(f'{i}: {artist}')\n",
    "    print('---')"
   ]
  },
  {
   "cell_type": "markdown",
   "id": "7fefb80d-de8b-4d0a-ac39-a3ae3ac9b3fe",
   "metadata": {
    "jp-MarkdownHeadingCollapsed": true
   },
   "source": [
    "## 1a. Inspect the artists list to see if the track titles are fishy"
   ]
  },
  {
   "cell_type": "code",
   "execution_count": 1068,
   "id": "e2b536e5-0a8e-4204-8585-23be20cbf65f",
   "metadata": {},
   "outputs": [
    {
     "name": "stderr",
     "output_type": "stream",
     "text": [
      "100%|████████████████████████████████████████████████████| 176/176 [01:33<00:00,  1.88it/s]\n"
     ]
    }
   ],
   "source": [
    "# artists_dict[:3]\n",
    "for artist in tqdm(artists_dict):\n",
    "    artist['tracks'] = []\n",
    "    artist['tracks_url'] = []\n",
    "    res = requests.get(artist['genius_url']).text\n",
    "    soup = BeautifulSoup(res)\n",
    "    for track in soup.select('.mini_card-title'):\n",
    "        artist['tracks'].append(track.text)\n",
    "    for link in soup.select('.mini_card'):\n",
    "        artist['tracks_url'].append(link['href'])\n",
    "    for name in soup.select('h1'):\n",
    "        artist['genius_name'] = name.text\n",
    "    "
   ]
  },
  {
   "cell_type": "code",
   "execution_count": 1574,
   "id": "ac9f767d-21f9-43e7-8569-26eb54065225",
   "metadata": {
    "scrolled": true
   },
   "outputs": [
    {
     "data": {
      "text/plain": [
       "[{'uri': '3diftVOq7aEIebXKkC34oR',\n",
       "  'name': 'tlinh',\n",
       "  'genius_url': 'https://genius.com/artists/tlinh',\n",
       "  'tracks': ['Dạy Tôi Cách Yêu (Demo)',\n",
       "   'Nếu lúc đó',\n",
       "   '\\u200bvaicaunoicokhiennguoithaydoi',\n",
       "   'Thích Quá Rùi Nà',\n",
       "   'Chỉ Một Đêm Nữa Thôi',\n",
       "   'Có hẹn với thanh xuân',\n",
       "   'The Regionals: Vietnam',\n",
       "   'Chân Tình',\n",
       "   'Em Là Châu Báu',\n",
       "   'Tình hình thời tiết'],\n",
       "  'tracks_url': ['https://genius.com/Tlinh-day-toi-cach-yeu-demo-lyrics',\n",
       "   'https://genius.com/Tlinh-neu-luc-o-lyrics',\n",
       "   'https://genius.com/Grey-d-vaicaunoicokhiennguoithaydoi-lyrics',\n",
       "   'https://genius.com/Tlinh-thich-qua-rui-na-lyrics',\n",
       "   'https://genius.com/Rpt-mck-chi-mot-em-nua-thoi-lyrics',\n",
       "   'https://genius.com/Grey-d-co-hen-voi-thanh-xuan-lyrics',\n",
       "   'https://genius.com/9th-wonder-the-regionals-vietnam-lyrics',\n",
       "   'https://genius.com/Quang-trung-chan-tinh-lyrics',\n",
       "   'https://genius.com/Tlinh-em-la-chau-bau-lyrics',\n",
       "   'https://genius.com/Ak49-and-tlinh-va-ha-quoc-hoang-tinh-hinh-thoi-tiet-lyrics'],\n",
       "  'genius_name': '\\u200btlinh',\n",
       "  'track_id': ['3diftVOq7aEIebXKkC34oR:Dạy Tôi Cách Yêu (Demo)',\n",
       "   '3diftVOq7aEIebXKkC34oR:Nếu lúc đó',\n",
       "   '3diftVOq7aEIebXKkC34oR:\\u200bvaicaunoicokhiennguoithaydoi',\n",
       "   '3diftVOq7aEIebXKkC34oR:Thích Quá Rùi Nà',\n",
       "   '3diftVOq7aEIebXKkC34oR:Chỉ Một Đêm Nữa Thôi',\n",
       "   '3diftVOq7aEIebXKkC34oR:Có hẹn với thanh xuân',\n",
       "   '3diftVOq7aEIebXKkC34oR:The Regionals: Vietnam',\n",
       "   '3diftVOq7aEIebXKkC34oR:Chân Tình',\n",
       "   '3diftVOq7aEIebXKkC34oR:Em Là Châu Báu',\n",
       "   '3diftVOq7aEIebXKkC34oR:Tình hình thời tiết']},\n",
       " {'uri': '4RGBKkUyyvsim9vdBKCCkc',\n",
       "  'name': 'Ngơ',\n",
       "  'genius_url': 'https://genius.com/artists/Ngơ',\n",
       "  'tracks': ['Balance',\n",
       "   'DeadZone #Freestyle',\n",
       "   'Solo fue una noche',\n",
       "   'Piovere',\n",
       "   'Mbeteka',\n",
       "   'The Return',\n",
       "   'Corri, corri',\n",
       "   'Bad For You',\n",
       "   'BOSS ZONKE FREESTYLE',\n",
       "   'Ziya ngaphi'],\n",
       "  'tracks_url': ['https://genius.com/Ng-balance-lyrics',\n",
       "   'https://genius.com/Ng-deadzone-freestyle-lyrics',\n",
       "   'https://genius.com/Ng-solo-fue-una-noche-lyrics',\n",
       "   'https://genius.com/Ng-piovere-lyrics',\n",
       "   'https://genius.com/Muki-rai-mbeteka-lyrics',\n",
       "   'https://genius.com/Dams-the-return-lyrics',\n",
       "   'https://genius.com/Ng-corri-corri-lyrics',\n",
       "   'https://genius.com/Dams-bad-for-you-lyrics',\n",
       "   'https://genius.com/Ng-boss-zonke-freestyle-lyrics',\n",
       "   'https://genius.com/Ng-ziya-ngaphi-lyrics'],\n",
       "  'genius_name': 'N.G.',\n",
       "  'track_id': ['4RGBKkUyyvsim9vdBKCCkc:Balance',\n",
       "   '4RGBKkUyyvsim9vdBKCCkc:DeadZone #Freestyle',\n",
       "   '4RGBKkUyyvsim9vdBKCCkc:Solo fue una noche',\n",
       "   '4RGBKkUyyvsim9vdBKCCkc:Piovere',\n",
       "   '4RGBKkUyyvsim9vdBKCCkc:Mbeteka',\n",
       "   '4RGBKkUyyvsim9vdBKCCkc:The Return',\n",
       "   '4RGBKkUyyvsim9vdBKCCkc:Corri, corri',\n",
       "   '4RGBKkUyyvsim9vdBKCCkc:Bad For You',\n",
       "   '4RGBKkUyyvsim9vdBKCCkc:BOSS ZONKE FREESTYLE',\n",
       "   '4RGBKkUyyvsim9vdBKCCkc:Ziya ngaphi']},\n",
       " {'uri': '2Bwp23pD4UVsSkchHDZw4F',\n",
       "  'name': 'Karik',\n",
       "  'genius_url': 'https://genius.com/artists/Karik-vnm',\n",
       "  'tracks': ['Em Bé',\n",
       "   'Vì Mẹ Anh Bắt Chia Tay',\n",
       "   'Còn Thương Thì Không Để Em Khóc',\n",
       "   'Thấy Tết Lớn, Mừng Tết Lớn',\n",
       "   'Đây Là Rap Việt',\n",
       "   'Có Chơi Có Chịu',\n",
       "   'Người Lạ Ơi (English Version)',\n",
       "   'Đêm Nay Không Ngủ',\n",
       "   'Người lạ ơi',\n",
       "   'Tình Yêu Là Chuyện Nhỏ'],\n",
       "  'tracks_url': ['https://genius.com/Amee-em-be-lyrics',\n",
       "   'https://genius.com/Miu-le-vi-me-anh-bat-chia-tay-lyrics',\n",
       "   'https://genius.com/Miu-le-con-thuong-thi-khong-e-em-khoc-lyrics',\n",
       "   'https://genius.com/Karik-vnm-thay-tet-lon-mung-tet-lon-lyrics',\n",
       "   'https://genius.com/Rap-viet-ay-la-rap-viet-lyrics',\n",
       "   'https://genius.com/Karik-vnm-co-choi-co-chiu-lyrics',\n",
       "   'https://genius.com/Genius-english-translations-nguoi-la-oi-english-version-lyrics',\n",
       "   'https://genius.com/Karik-vnm-em-nay-khong-ngu-lyrics',\n",
       "   'https://genius.com/Superbrothers-nguoi-la-oi-lyrics',\n",
       "   'https://genius.com/Chau-ang-khoa-tinh-yeu-la-chuyen-nho-lyrics'],\n",
       "  'genius_name': 'KARIK (VNM)',\n",
       "  'track_id': ['2Bwp23pD4UVsSkchHDZw4F:Em Bé',\n",
       "   '2Bwp23pD4UVsSkchHDZw4F:Vì Mẹ Anh Bắt Chia Tay',\n",
       "   '2Bwp23pD4UVsSkchHDZw4F:Còn Thương Thì Không Để Em Khóc',\n",
       "   '2Bwp23pD4UVsSkchHDZw4F:Thấy Tết Lớn, Mừng Tết Lớn',\n",
       "   '2Bwp23pD4UVsSkchHDZw4F:Đây Là Rap Việt',\n",
       "   '2Bwp23pD4UVsSkchHDZw4F:Có Chơi Có Chịu',\n",
       "   '2Bwp23pD4UVsSkchHDZw4F:Người Lạ Ơi (English Version)',\n",
       "   '2Bwp23pD4UVsSkchHDZw4F:Đêm Nay Không Ngủ',\n",
       "   '2Bwp23pD4UVsSkchHDZw4F:Người lạ ơi',\n",
       "   '2Bwp23pD4UVsSkchHDZw4F:Tình Yêu Là Chuyện Nhỏ']},\n",
       " {'uri': '23xCr75lKvnFvKi8ImHE7S',\n",
       "  'name': 'Táo',\n",
       "  'genius_url': 'https://genius.com/artists/Tao-the-megalomaniac',\n",
       "  'tracks': ['Tương Tư',\n",
       "   'Từng Là Của Nhau',\n",
       "   'Blue Tequila',\n",
       "   'Blue Tequila (Beat)'],\n",
       "  'tracks_url': ['https://genius.com/Tao-the-megalomaniac-tuong-tu-lyrics',\n",
       "   'https://genius.com/Bao-anh-tung-la-cua-nhau-lyrics',\n",
       "   'https://genius.com/Tao-the-megalomaniac-blue-tequila-lyrics',\n",
       "   'https://genius.com/Tao-the-megalomaniac-blue-tequila-beat-lyrics'],\n",
       "  'genius_name': 'Táo The Megalomaniac',\n",
       "  'track_id': ['23xCr75lKvnFvKi8ImHE7S:Tương Tư',\n",
       "   '23xCr75lKvnFvKi8ImHE7S:Từng Là Của Nhau',\n",
       "   '23xCr75lKvnFvKi8ImHE7S:Blue Tequila',\n",
       "   '23xCr75lKvnFvKi8ImHE7S:Blue Tequila (Beat)']},\n",
       " {'uri': '3FZ4GX2mWNn7XElse3fQWd',\n",
       "  'name': 'Khói',\n",
       "  'genius_url': 'https://genius.com/artists/Khoi-vietnam',\n",
       "  'tracks': ['Chân Ái',\n",
       "   'Lâu Lâu Nhắc Lại',\n",
       "   'Dưới Cơn Mưa',\n",
       "   'Bleu',\n",
       "   'Là Do Em Xui Thôi',\n",
       "   'Nhớ Người Hay Nhớ',\n",
       "   'Anh Thèm Được Ngủ',\n",
       "   'Tháng 7 Của Anh (Live At Drunk On Music)',\n",
       "   'Buồn Không Em / Nếu Em Ở Lại (Live At Drunk On Music)',\n",
       "   'Đường Một Chiều (Live At Drunk On Music)'],\n",
       "  'tracks_url': ['https://genius.com/Orange-vnm-chan-ai-lyrics',\n",
       "   'https://genius.com/Ha-nhi-lau-lau-nhac-lai-lyrics',\n",
       "   'https://genius.com/Khoi-vietnam-duoi-con-mua-lyrics',\n",
       "   'https://genius.com/Khoi-vietnam-bleu-lyrics',\n",
       "   'https://genius.com/Sofia-vnm-la-do-em-xui-thoi-lyrics',\n",
       "   'https://genius.com/Khoi-vietnam-nho-nguoi-hay-nho-lyrics',\n",
       "   'https://genius.com/Khoi-vietnam-anh-them-uoc-ngu-lyrics',\n",
       "   'https://genius.com/Khoi-vietnam-thang-7-cua-anh-live-at-drunk-on-music-lyrics',\n",
       "   'https://genius.com/At-g-vt-buon-khong-em-neu-em-o-lai-live-at-drunk-on-music-lyrics',\n",
       "   'https://genius.com/Huynh-tu-uong-mot-chieu-live-at-drunk-on-music-lyrics'],\n",
       "  'genius_name': 'Khói (vietnam)',\n",
       "  'track_id': ['3FZ4GX2mWNn7XElse3fQWd:Chân Ái',\n",
       "   '3FZ4GX2mWNn7XElse3fQWd:Lâu Lâu Nhắc Lại',\n",
       "   '3FZ4GX2mWNn7XElse3fQWd:Dưới Cơn Mưa',\n",
       "   '3FZ4GX2mWNn7XElse3fQWd:Bleu',\n",
       "   '3FZ4GX2mWNn7XElse3fQWd:Là Do Em Xui Thôi',\n",
       "   '3FZ4GX2mWNn7XElse3fQWd:Nhớ Người Hay Nhớ',\n",
       "   '3FZ4GX2mWNn7XElse3fQWd:Anh Thèm Được Ngủ',\n",
       "   '3FZ4GX2mWNn7XElse3fQWd:Tháng 7 Của Anh (Live At Drunk On Music)',\n",
       "   '3FZ4GX2mWNn7XElse3fQWd:Buồn Không Em / Nếu Em Ở Lại (Live At Drunk On Music)',\n",
       "   '3FZ4GX2mWNn7XElse3fQWd:Đường Một Chiều (Live At Drunk On Music)']},\n",
       " {'uri': '4R3mugkUqCALXgkwSptTbg',\n",
       "  'name': 'Đạt G',\n",
       "  'genius_url': 'https://genius.com/artists/At-g-vt',\n",
       "  'tracks': ['Bánh Mì Không',\n",
       "   'Cao Ốc 20',\n",
       "   'Buồn Của Anh',\n",
       "   'Còn Thương Thì Không Để Em Khóc',\n",
       "   'Buồn Không Em',\n",
       "   'Anh Ơi Ở Lại',\n",
       "   'Khó Vẽ Nụ Cười',\n",
       "   'Đô Trưởng',\n",
       "   'Em Chưa Giấu Anh Điều Gì',\n",
       "   'Ngày Mai Em Đi Mất'],\n",
       "  'tracks_url': ['https://genius.com/At-g-and-du-uyen-banh-mi-khong-lyrics',\n",
       "   'https://genius.com/B-ray-vnm-cao-oc-20-lyrics',\n",
       "   'https://genius.com/K-icm-buon-cua-anh-lyrics',\n",
       "   'https://genius.com/Miu-le-con-thuong-thi-khong-e-em-khoc-lyrics',\n",
       "   'https://genius.com/At-g-vt-buon-khong-em-lyrics',\n",
       "   'https://genius.com/Chi-pu-anh-oi-o-lai-lyrics',\n",
       "   'https://genius.com/At-g-and-du-uyen-kho-ve-nu-cuoi-lyrics',\n",
       "   'https://genius.com/At-g-vt-o-truong-lyrics',\n",
       "   'https://genius.com/D-blue-and-at-g-em-chua-giau-anh-ieu-gi-lyrics',\n",
       "   'https://genius.com/Khai-ang-ngay-mai-em-i-mat-lyrics'],\n",
       "  'genius_name': 'Đạt G (VT)',\n",
       "  'track_id': ['4R3mugkUqCALXgkwSptTbg:Bánh Mì Không',\n",
       "   '4R3mugkUqCALXgkwSptTbg:Cao Ốc 20',\n",
       "   '4R3mugkUqCALXgkwSptTbg:Buồn Của Anh',\n",
       "   '4R3mugkUqCALXgkwSptTbg:Còn Thương Thì Không Để Em Khóc',\n",
       "   '4R3mugkUqCALXgkwSptTbg:Buồn Không Em',\n",
       "   '4R3mugkUqCALXgkwSptTbg:Anh Ơi Ở Lại',\n",
       "   '4R3mugkUqCALXgkwSptTbg:Khó Vẽ Nụ Cười',\n",
       "   '4R3mugkUqCALXgkwSptTbg:Đô Trưởng',\n",
       "   '4R3mugkUqCALXgkwSptTbg:Em Chưa Giấu Anh Điều Gì',\n",
       "   '4R3mugkUqCALXgkwSptTbg:Ngày Mai Em Đi Mất']},\n",
       " {'uri': '5U1dINFKjJlYNOSdMrHlRh',\n",
       "  'name': '16 Typh',\n",
       "  'genius_url': 'https://genius.com/artists/16-Typh',\n",
       "  'tracks': ['Walk On Da Street',\n",
       "   'SUNDAY HIPHOP CYPHER',\n",
       "   'Million Dollar Boy',\n",
       "   \"Don't Waste My Time\",\n",
       "   'Luật Rừng',\n",
       "   'Trên Tình Bạn Dưới Tình Yêu (with 16 Typh)',\n",
       "   'Ca$h',\n",
       "   'Pray',\n",
       "   'Self Love',\n",
       "   'Sao Hỏa'],\n",
       "  'tracks_url': ['https://genius.com/16-typh-walk-on-da-street-lyrics',\n",
       "   'https://genius.com/16-typh-sunday-hiphop-cypher-lyrics',\n",
       "   'https://genius.com/16-typh-million-dollar-boy-lyrics',\n",
       "   'https://genius.com/16-typh-dont-waste-my-time-lyrics',\n",
       "   'https://genius.com/Binz-da-poet-luat-rung-lyrics',\n",
       "   'https://genius.com/Min-tren-tinh-ban-duoi-tinh-yeu-with-16-typh-lyrics',\n",
       "   'https://genius.com/16-rehtona-ca-h-lyrics',\n",
       "   'https://genius.com/16-typh-pray-lyrics',\n",
       "   'https://genius.com/16-typh-self-love-lyrics',\n",
       "   'https://genius.com/Tuimi-sao-hoa-lyrics'],\n",
       "  'genius_name': '16 Typh',\n",
       "  'track_id': ['5U1dINFKjJlYNOSdMrHlRh:Walk On Da Street',\n",
       "   '5U1dINFKjJlYNOSdMrHlRh:SUNDAY HIPHOP CYPHER',\n",
       "   '5U1dINFKjJlYNOSdMrHlRh:Million Dollar Boy',\n",
       "   \"5U1dINFKjJlYNOSdMrHlRh:Don't Waste My Time\",\n",
       "   '5U1dINFKjJlYNOSdMrHlRh:Luật Rừng',\n",
       "   '5U1dINFKjJlYNOSdMrHlRh:Trên Tình Bạn Dưới Tình Yêu (with 16 Typh)',\n",
       "   '5U1dINFKjJlYNOSdMrHlRh:Ca$h',\n",
       "   '5U1dINFKjJlYNOSdMrHlRh:Pray',\n",
       "   '5U1dINFKjJlYNOSdMrHlRh:Self Love',\n",
       "   '5U1dINFKjJlYNOSdMrHlRh:Sao Hỏa']},\n",
       " {'uri': '30eFAXoU2kTjJPf2cq80B8',\n",
       "  'name': 'WEAN',\n",
       "  'genius_url': 'https://genius.com/artists/WEAN',\n",
       "  'tracks': ['She Said',\n",
       "   'Alone',\n",
       "   'Love U So',\n",
       "   'Retrograde',\n",
       "   'LAVIE',\n",
       "   \"I Don't Know\",\n",
       "   'Chương Hai Của Tương Lai',\n",
       "   'Áo Màu Xanh',\n",
       "   'MOT NGUOI VI EM',\n",
       "   'AI BIET'],\n",
       "  'tracks_url': ['https://genius.com/Wean-she-said-lyrics',\n",
       "   'https://genius.com/Wean-alone-lyrics',\n",
       "   'https://genius.com/Wean-love-u-so-lyrics',\n",
       "   'https://genius.com/Wean-retrograde-lyrics',\n",
       "   'https://genius.com/Wean-lavie-lyrics',\n",
       "   'https://genius.com/Wean-i-dont-know-lyrics',\n",
       "   'https://genius.com/Wean-chuong-hai-cua-tuong-lai-lyrics',\n",
       "   'https://genius.com/Wean-ao-mau-xanh-lyrics',\n",
       "   'https://genius.com/Wean-mot-nguoi-vi-em-lyrics',\n",
       "   'https://genius.com/Wean-ai-biet-lyrics'],\n",
       "  'genius_name': 'Wean',\n",
       "  'track_id': ['30eFAXoU2kTjJPf2cq80B8:She Said',\n",
       "   '30eFAXoU2kTjJPf2cq80B8:Alone',\n",
       "   '30eFAXoU2kTjJPf2cq80B8:Love U So',\n",
       "   '30eFAXoU2kTjJPf2cq80B8:Retrograde',\n",
       "   '30eFAXoU2kTjJPf2cq80B8:LAVIE',\n",
       "   \"30eFAXoU2kTjJPf2cq80B8:I Don't Know\",\n",
       "   '30eFAXoU2kTjJPf2cq80B8:Chương Hai Của Tương Lai',\n",
       "   '30eFAXoU2kTjJPf2cq80B8:Áo Màu Xanh',\n",
       "   '30eFAXoU2kTjJPf2cq80B8:MOT NGUOI VI EM',\n",
       "   '30eFAXoU2kTjJPf2cq80B8:AI BIET']},\n",
       " {'uri': '3oB1lv9FWDKbNOUvdTw75Q',\n",
       "  'name': 'Bình Gold',\n",
       "  'genius_url': 'https://genius.com/artists/Bình-Gold',\n",
       "  'tracks': ['Lái Máy Bay',\n",
       "   'Ông Bà Già Tao Lo Hết',\n",
       "   'Trơn',\n",
       "   'Em iu',\n",
       "   'BCDBL',\n",
       "   'Đớ',\n",
       "   'Quan Hệ Rộng',\n",
       "   'Tuổi Gì Mà Chẳng Thích Lì Xì',\n",
       "   'Bốc Bát Họ',\n",
       "   'No Scandal'],\n",
       "  'tracks_url': ['https://genius.com/Binh-gold-lai-may-bay-lyrics',\n",
       "   'https://genius.com/Binh-gold-ong-ba-gia-tao-lo-het-lyrics',\n",
       "   'https://genius.com/Binh-gold-tron-lyrics',\n",
       "   'https://genius.com/Andree-right-hand-em-iu-lyrics',\n",
       "   'https://genius.com/Binh-gold-bcdbl-lyrics',\n",
       "   'https://genius.com/Binh-gold-o-lyrics',\n",
       "   'https://genius.com/Binh-gold-quan-he-rong-lyrics',\n",
       "   'https://genius.com/Bich-phuong-tuoi-gi-ma-chang-thich-li-xi-lyrics',\n",
       "   'https://genius.com/Binh-gold-boc-bat-ho-lyrics',\n",
       "   'https://genius.com/Binh-gold-no-scandal-lyrics'],\n",
       "  'genius_name': 'Bình Gold',\n",
       "  'track_id': ['3oB1lv9FWDKbNOUvdTw75Q:Lái Máy Bay',\n",
       "   '3oB1lv9FWDKbNOUvdTw75Q:Ông Bà Già Tao Lo Hết',\n",
       "   '3oB1lv9FWDKbNOUvdTw75Q:Trơn',\n",
       "   '3oB1lv9FWDKbNOUvdTw75Q:Em iu',\n",
       "   '3oB1lv9FWDKbNOUvdTw75Q:BCDBL',\n",
       "   '3oB1lv9FWDKbNOUvdTw75Q:Đớ',\n",
       "   '3oB1lv9FWDKbNOUvdTw75Q:Quan Hệ Rộng',\n",
       "   '3oB1lv9FWDKbNOUvdTw75Q:Tuổi Gì Mà Chẳng Thích Lì Xì',\n",
       "   '3oB1lv9FWDKbNOUvdTw75Q:Bốc Bát Họ',\n",
       "   '3oB1lv9FWDKbNOUvdTw75Q:No Scandal']},\n",
       " {'uri': '7H9jPV9qWyp6V629038aXU',\n",
       "  'name': 'Lynk Lee',\n",
       "  'genius_url': 'https://genius.com/artists/Lynk-Lee',\n",
       "  'tracks': ['Buồn Thì Cứ Khóc Đi',\n",
       "   'Đừng Gọi Anh Là Idol',\n",
       "   'Rapcoustic 5',\n",
       "   'Cô Gái Bàn Bên',\n",
       "   'Nắm Chặt Tay Anh Nhé',\n",
       "   'Không Dám',\n",
       "   'Nếu Mình Gần Nhau',\n",
       "   'Giọt Sương Trên Mí Mắt (Remake)',\n",
       "   'Từ Đó',\n",
       "   'Nhìn Lại'],\n",
       "  'tracks_url': ['https://genius.com/Lynk-lee-buon-thi-cu-khoc-i-lyrics',\n",
       "   'https://genius.com/En-ung-goi-anh-la-idol-lyrics',\n",
       "   'https://genius.com/En-rapcoustic-5-lyrics',\n",
       "   'https://genius.com/En-co-gai-ban-ben-lyrics',\n",
       "   'https://genius.com/Lynk-lee-nam-chat-tay-anh-nhe-lyrics',\n",
       "   'https://genius.com/Lynk-lee-khong-dam-lyrics',\n",
       "   'https://genius.com/En-neu-minh-gan-nhau-lyrics',\n",
       "   'https://genius.com/En-giot-suong-tren-mi-mat-remake-lyrics',\n",
       "   'https://genius.com/Lynk-lee-tu-o-lyrics',\n",
       "   'https://genius.com/Gvr-entertainment-southside-rap-free-spirit-rap-nhin-lai-lyrics'],\n",
       "  'genius_name': 'Lynk Lee',\n",
       "  'track_id': ['7H9jPV9qWyp6V629038aXU:Buồn Thì Cứ Khóc Đi',\n",
       "   '7H9jPV9qWyp6V629038aXU:Đừng Gọi Anh Là Idol',\n",
       "   '7H9jPV9qWyp6V629038aXU:Rapcoustic 5',\n",
       "   '7H9jPV9qWyp6V629038aXU:Cô Gái Bàn Bên',\n",
       "   '7H9jPV9qWyp6V629038aXU:Nắm Chặt Tay Anh Nhé',\n",
       "   '7H9jPV9qWyp6V629038aXU:Không Dám',\n",
       "   '7H9jPV9qWyp6V629038aXU:Nếu Mình Gần Nhau',\n",
       "   '7H9jPV9qWyp6V629038aXU:Giọt Sương Trên Mí Mắt (Remake)',\n",
       "   '7H9jPV9qWyp6V629038aXU:Từ Đó',\n",
       "   '7H9jPV9qWyp6V629038aXU:Nhìn Lại']}]"
      ]
     },
     "execution_count": 1574,
     "metadata": {},
     "output_type": "execute_result"
    }
   ],
   "source": [
    "artists_dict[10:20]"
   ]
  },
  {
   "cell_type": "code",
   "execution_count": 1069,
   "id": "63509b21-ac78-41ee-a9fa-9144f5d072e1",
   "metadata": {},
   "outputs": [
    {
     "data": {
      "text/plain": [
       "176"
      ]
     },
     "execution_count": 1069,
     "metadata": {},
     "output_type": "execute_result"
    }
   ],
   "source": [
    "len(artists_dict)"
   ]
  },
  {
   "cell_type": "code",
   "execution_count": 1671,
   "id": "a1c5583e-33c0-432d-824c-8fe3dcd63fbb",
   "metadata": {},
   "outputs": [],
   "source": [
    "tups = [('https://genius.com/artists/Da-LAB','https://genius.com/artists/Dalab'), #2 index\n",
    "        ('https://genius.com/artists/Binz', 'https://genius.com/artists/Binz-da-poet'), #3 index\n",
    "        ('https://genius.com/artists/Low-G', 'https://genius.com/artists/Low-g-vietnam'), #5 index\n",
    "        ('https://genius.com/artists/Karik', 'https://genius.com/artists/Karik-vnm'), #12 index\n",
    "        ('https://genius.com/artists/Táo', 'https://genius.com/artists/Tao-the-megalomaniac'), #13 index\n",
    "        ('https://genius.com/artists/Khói', 'https://genius.com/artists/Khoi-vietnam'), #14 index\n",
    "        ('https://genius.com/artists/Đạt-G', 'https://genius.com/artists/At-g-vt'), #15 index\n",
    "        ('https://genius.com/artists/BigDaddy', 'https://genius.com/artists/Bigdaddy-vnm'), #26 index\n",
    "        ('https://genius.com/artists/Emcee-L-(Da-LAB)', 'https://genius.com/artists/Emcee-l'), #30 index\n",
    "        ('https://genius.com/artists/JGKiD-(Da-LAB)', 'https://genius.com/artists/Jgkid'), #40 index\n",
    "        ('https://genius.com/artists/Cam', 'https://genius.com/artists/Cam-vn'), #43 index\n",
    "        ('https://genius.com/artists/Gill', 'https://genius.com/artists/Gill-vnm'), #49 index\n",
    "        ('https://genius.com/artists/D-Blue', 'https://genius.com/artists/D-blue-vietnam'), #50 index\n",
    "        ('https://genius.com/artists/tofutns', 'https://genius.com/artists/Tofu-vn'), #61 index\n",
    "        ('https://genius.com/artists/Dick','https://genius.com/artists/Dick-vn'), #64 index\n",
    "        ('https://genius.com/artists/Dế-Choắt-(DC)','https://genius.com/artists/Dế-Choắt'), #69\n",
    "        ('https://genius.com/artists/KayC','https://genius.com/artists/Kayc-420ent'), #88 index\n",
    "        ('https://genius.com/artists/Mr.A','https://genius.com/artists/Mra'), #93 index\n",
    "        ('https://genius.com/artists/CROW-ON-HYENAS','https://genius.com/artists/Crow-on-hyenas-entertainment'), #101 index\n",
    "        ('https://genius.com/artists/$ativa','https://genius.com/artists/Sativa-vnm'), #111 index\n",
    "        #51, 72, 75, 83, 86, 92, 94, 96, 114, 118, 119, 125, 126, 127, 128,133, 135, 140, 144, 148, 149, 151, 153, 154, 155, 157, 163, 165, 166, 167, 169, 170, 171 index drop\n",
    "        ('https://genius.com/artists/Insolent','https://genius.com/artists/Insolent-vnm'), #142 index\n",
    "        ('https://genius.com/artists/Ng','https://genius.com/artists/Nger')\n",
    "       ]"
   ]
  },
  {
   "cell_type": "code",
   "execution_count": 1672,
   "id": "29060f45-56e0-43b5-b76c-4ef9f39524a0",
   "metadata": {},
   "outputs": [
    {
     "data": {
      "text/plain": [
       "22"
      ]
     },
     "execution_count": 1672,
     "metadata": {},
     "output_type": "execute_result"
    }
   ],
   "source": [
    "len(tups)"
   ]
  },
  {
   "cell_type": "code",
   "execution_count": 1679,
   "id": "fb628a22-c000-448a-933b-fa49fb24e832",
   "metadata": {},
   "outputs": [],
   "source": [
    "index_remove = [51, 72, 75, 83, 86, 92, 94, 96, 114, 118, 119, 125, 126, 127, 128,133, 135, 140, 144, 148, 149, 151, 153, 154, 155, 157, 163, 165, 166, 167, 169, 170, 171]\n",
    "# pop = [0,1,2]\n",
    "artist_remove = [artists_dict[index] for index in index_remove]\n",
    "cleaned_artist = [artist for artist in artists_dict if artist not in artist_remove]"
   ]
  },
  {
   "cell_type": "code",
   "execution_count": 1682,
   "id": "db062d77-de81-42a1-a5cf-2bdcbbf8927e",
   "metadata": {},
   "outputs": [
    {
     "name": "stdout",
     "output_type": "stream",
     "text": [
      "176\n",
      "143\n"
     ]
    }
   ],
   "source": [
    "print(len(artists_dict))\n",
    "print(len(cleaned_artist))"
   ]
  },
  {
   "cell_type": "code",
   "execution_count": 1674,
   "id": "be7f50b0-ea0e-4652-851c-f46f149b38df",
   "metadata": {},
   "outputs": [],
   "source": [
    "cleaned_artist = [artist['genius_url'] for artist in cleaned_artist for element in tups ]"
   ]
  },
  {
   "cell_type": "code",
   "execution_count": 1685,
   "id": "d16c165e-d6e4-4c99-8ad8-b2861579a706",
   "metadata": {},
   "outputs": [
    {
     "data": {
      "text/plain": [
       "dict_keys(['uri', 'name', 'genius_url', 'tracks', 'tracks_url', 'genius_name', 'track_id'])"
      ]
     },
     "execution_count": 1685,
     "metadata": {},
     "output_type": "execute_result"
    }
   ],
   "source": [
    "cleaned_artist[0].keys()"
   ]
  },
  {
   "cell_type": "code",
   "execution_count": 1675,
   "id": "ff141a29-4df7-4f26-868d-ca7c62b7ee19",
   "metadata": {},
   "outputs": [
    {
     "ename": "TypeError",
     "evalue": "string indices must be integers",
     "output_type": "error",
     "traceback": [
      "\u001b[1;31m---------------------------------------------------------------------------\u001b[0m",
      "\u001b[1;31mTypeError\u001b[0m                                 Traceback (most recent call last)",
      "Cell \u001b[1;32mIn[1675], line 4\u001b[0m\n\u001b[0;32m      1\u001b[0m \u001b[38;5;28;01mfor\u001b[39;00m i,var \u001b[38;5;129;01min\u001b[39;00m \u001b[38;5;28menumerate\u001b[39m(cleaned_artist):\n\u001b[0;32m      2\u001b[0m     \u001b[38;5;66;03m# print(tups[i][0])\u001b[39;00m\n\u001b[0;32m      3\u001b[0m     \u001b[38;5;28;01mfor\u001b[39;00m element \u001b[38;5;129;01min\u001b[39;00m tups:\n\u001b[1;32m----> 4\u001b[0m         \u001b[38;5;28;01mif\u001b[39;00m element[\u001b[38;5;241m0\u001b[39m] \u001b[38;5;241m==\u001b[39m \u001b[43mcleaned_artist\u001b[49m\u001b[43m[\u001b[49m\u001b[43mi\u001b[49m\u001b[43m]\u001b[49m\u001b[43m[\u001b[49m\u001b[38;5;124;43m'\u001b[39;49m\u001b[38;5;124;43mgenius_url\u001b[39;49m\u001b[38;5;124;43m'\u001b[39;49m\u001b[43m]\u001b[49m:\n\u001b[0;32m      5\u001b[0m             cleaned_artist[i][\u001b[38;5;124m'\u001b[39m\u001b[38;5;124mgenius_url\u001b[39m\u001b[38;5;124m'\u001b[39m]\u001b[38;5;241m=\u001b[39melement[\u001b[38;5;241m1\u001b[39m]\n\u001b[0;32m      6\u001b[0m     \u001b[38;5;66;03m# print(cleaned_artist[i])\u001b[39;00m\n",
      "\u001b[1;31mTypeError\u001b[0m: string indices must be integers"
     ]
    }
   ],
   "source": [
    "for i,var in enumerate(cleaned_artist):\n",
    "    # print(tups[i][0])\n",
    "    for element in tups:\n",
    "        if element[0] == cleaned_artist[i]['genius_url']:\n",
    "            cleaned_artist[i]['genius_url']=element[1]\n",
    "    # print(cleaned_artist[i])"
   ]
  },
  {
   "cell_type": "markdown",
   "id": "0bd9a7f1-2558-47fb-96d9-ac2e28a4888e",
   "metadata": {
    "jp-MarkdownHeadingCollapsed": true
   },
   "source": [
    "## 1b. Clean up artist url where the artist is wrong and resend the requests"
   ]
  },
  {
   "cell_type": "code",
   "execution_count": 1686,
   "id": "825fa9dd-49b4-471f-afd9-283e491807bf",
   "metadata": {},
   "outputs": [
    {
     "name": "stderr",
     "output_type": "stream",
     "text": [
      "100%|████████████████████████████████████████████████████| 143/143 [02:23<00:00,  1.00s/it]\n"
     ]
    }
   ],
   "source": [
    "for artist in tqdm(cleaned_artist):\n",
    "    artist['tracks'] = []\n",
    "    artist['tracks_url'] = []\n",
    "    res = requests.get(artist['genius_url']).text\n",
    "    soup = BeautifulSoup(res)\n",
    "    for track in soup.select('.mini_card-title'):\n",
    "        artist['tracks'].append(track.text)\n",
    "    for link in soup.select('.mini_card'):\n",
    "        artist['tracks_url'].append(link['href'])\n",
    "    for name in soup.select('h1'):\n",
    "        artist['genius_name'] = name.text\n",
    "        artist['genius_name'].strip()\n",
    "    sleep(.2)"
   ]
  },
  {
   "cell_type": "code",
   "execution_count": 1093,
   "id": "0e00653b-cf9f-4978-9922-c140e8bd26c7",
   "metadata": {},
   "outputs": [
    {
     "data": {
      "text/plain": [
       "33"
      ]
     },
     "execution_count": 1093,
     "metadata": {},
     "output_type": "execute_result"
    }
   ],
   "source": [
    "len(index_remove)"
   ]
  },
  {
   "cell_type": "code",
   "execution_count": 1688,
   "id": "6653253e-e955-45d0-ab72-206fcd31e92c",
   "metadata": {},
   "outputs": [
    {
     "name": "stdout",
     "output_type": "stream",
     "text": [
      "Stored 'cleaned_artist' (list)\n"
     ]
    }
   ],
   "source": [
    "%store cleaned_artist"
   ]
  },
  {
   "cell_type": "code",
   "execution_count": 1689,
   "id": "70d12813-f4a8-4c9b-9d1e-35b09fbbf479",
   "metadata": {},
   "outputs": [],
   "source": [
    "for name in cleaned_artist:\n",
    "    name['genius_name'] = re.sub(r'\\n.*','',name['genius_name'])"
   ]
  },
  {
   "cell_type": "code",
   "execution_count": 1159,
   "id": "a8d851bc-3906-4d44-83d3-1d4b1c05d760",
   "metadata": {},
   "outputs": [],
   "source": [
    "str = '\\u200bngủ một mình'\n",
    "str = re.sub(r'\\u200b','', str)"
   ]
  },
  {
   "cell_type": "code",
   "execution_count": 1690,
   "id": "b67449cb-c409-47bb-99c6-5f4ae4ce2902",
   "metadata": {
    "scrolled": true
   },
   "outputs": [],
   "source": [
    "for item in cleaned_artist:\n",
    "    item.update({'track_id': []})\n",
    "    item['track_id'] = [f\"{item['uri']}:\" +name for name in item['tracks']]"
   ]
  },
  {
   "cell_type": "code",
   "execution_count": 1691,
   "id": "cdecaabd-2b95-47bf-96b6-c03afc395434",
   "metadata": {},
   "outputs": [],
   "source": [
    "tracks_list = [artist['tracks_url'] for artist in cleaned_artist]\n",
    "tracks_title = [artist['tracks'] for artist in cleaned_artist]\n",
    "tracks_id = [artist['track_id'] for artist in cleaned_artist]"
   ]
  },
  {
   "cell_type": "code",
   "execution_count": 1692,
   "id": "7c8e157c-5e5c-4832-99ea-37b18982066c",
   "metadata": {},
   "outputs": [],
   "source": [
    "tracks_list = [item for sublist in tracks_list for item in sublist]\n",
    "tracks_title = [item for sublist in tracks_title for item in sublist]\n",
    "tracks_id = [item for sublist in tracks_id for item in sublist]"
   ]
  },
  {
   "cell_type": "code",
   "execution_count": 1693,
   "id": "9cf5f38f-f8ce-449f-99eb-5a07695e9808",
   "metadata": {},
   "outputs": [
    {
     "data": {
      "text/plain": [
       "966"
      ]
     },
     "execution_count": 1693,
     "metadata": {},
     "output_type": "execute_result"
    }
   ],
   "source": [
    "len(tracks_list)"
   ]
  },
  {
   "cell_type": "code",
   "execution_count": 1740,
   "id": "a35b7c26-d216-44e2-b037-e95ee378d9f0",
   "metadata": {},
   "outputs": [],
   "source": [
    "lyrics_dict = [{'id':i, 'name':k, 'url': v, 'lyrics': [], 'date_released': None} for i,k,v in zip(tracks_id, tracks_title, tracks_list)]"
   ]
  },
  {
   "cell_type": "code",
   "execution_count": 1741,
   "id": "0d05d180-8a77-4b7e-8d83-9fce77d595a8",
   "metadata": {},
   "outputs": [
    {
     "data": {
      "text/plain": [
       "{'id': '1LEtM3AleYg1xabW6CRkpi:Lối Nhỏ',\n",
       " 'name': 'Lối Nhỏ',\n",
       " 'url': 'https://genius.com/En-loi-nho-lyrics',\n",
       " 'lyrics': [],\n",
       " 'date_released': None}"
      ]
     },
     "execution_count": 1741,
     "metadata": {},
     "output_type": "execute_result"
    }
   ],
   "source": [
    "lyrics_dict[0]"
   ]
  },
  {
   "cell_type": "code",
   "execution_count": 1769,
   "id": "fec8882e-d682-4391-9528-d285747bfd60",
   "metadata": {},
   "outputs": [
    {
     "data": {
      "text/plain": [
       "{'id': '1WvNgEoB66jmHodcj15Zi9:Defense Of The Ancients',\n",
       " 'name': 'Defense Of The Ancients',\n",
       " 'url': 'https://genius.com/The-bonny-situation-defense-of-the-ancients-lyrics',\n",
       " 'lyrics': [],\n",
       " 'date_released': None}"
      ]
     },
     "execution_count": 1769,
     "metadata": {},
     "output_type": "execute_result"
    }
   ],
   "source": [
    "lyrics_dict[95]"
   ]
  },
  {
   "cell_type": "markdown",
   "id": "7b50f754-ea82-4a81-9cab-808b0b8e08e0",
   "metadata": {
    "jp-MarkdownHeadingCollapsed": true
   },
   "source": [
    "## 2. Select lyrics with BeautifulSoup"
   ]
  },
  {
   "cell_type": "code",
   "execution_count": 1772,
   "id": "3b524049-4282-4d6a-b410-4b8a2bd59359",
   "metadata": {},
   "outputs": [
    {
     "name": "stderr",
     "output_type": "stream",
     "text": [
      "100%|████████████████████████████████████████████████████| 966/966 [31:08<00:00,  1.93s/it]\n"
     ]
    }
   ],
   "source": [
    "for song in tqdm(lyrics_dict):\n",
    "    res=requests.get(song['url']).text\n",
    "    soup = BeautifulSoup(res)\n",
    "    for stanza in soup.select('.Lyrics__Container-sc-1ynbvzw-5'):\n",
    "        for line in stanza:\n",
    "            text = line.text\n",
    "            text = re.sub(r'\\[.*', '', text)\n",
    "            text = text.strip()\n",
    "            if text!='':\n",
    "                song['lyrics'].append(text)\n",
    "    for element in soup.select('.hgsvkF')[0]:\n",
    "        try:\n",
    "            date = element.text\n",
    "            date_obj = datetime.strptime(date, '%b. %d, %Y')\n",
    "            date_new = datetime.strftime(date_obj, '%Y-%m-%d')\n",
    "            song['date_released']=date_new\n",
    "        except:\n",
    "            song['date_released']=''\n",
    "    sleep(1.5)"
   ]
  },
  {
   "cell_type": "code",
   "execution_count": 1774,
   "id": "c6848da5-103b-4cfa-92ef-11211ec4f750",
   "metadata": {},
   "outputs": [
    {
     "name": "stdout",
     "output_type": "stream",
     "text": [
      "Stored 'lyrics_dict' (list)\n"
     ]
    }
   ],
   "source": [
    "%store lyrics_dict"
   ]
  },
  {
   "cell_type": "code",
   "execution_count": 1719,
   "id": "c46217db-e22e-4c5f-9a8e-edbd4f7b8d83",
   "metadata": {},
   "outputs": [
    {
     "data": {
      "text/plain": [
       "{'uri': '5L13PcBsD9idjpbTKpwfeL',\n",
       " 'name': 'Twotee',\n",
       " 'genius_url': 'https://genius.com/artists/Twotee',\n",
       " 'tracks': ['Viet World Wide'],\n",
       " 'tracks_url': ['https://genius.com/Fawng-daw-viet-world-wide-lyrics'],\n",
       " 'genius_name': 'TwoTee',\n",
       " 'track_id': ['5L13PcBsD9idjpbTKpwfeL:Viet World Wide']}"
      ]
     },
     "execution_count": 1719,
     "metadata": {},
     "output_type": "execute_result"
    }
   ],
   "source": [
    "artists_dict[-1]"
   ]
  },
  {
   "cell_type": "code",
   "execution_count": 1771,
   "id": "0532f5d4-e314-46a6-b2ea-1cdca86808dc",
   "metadata": {},
   "outputs": [
    {
     "data": {
      "text/plain": [
       "{'id': '1WvNgEoB66jmHodcj15Zi9:Defense Of The Ancients',\n",
       " 'name': 'Defense Of The Ancients',\n",
       " 'url': 'https://genius.com/The-bonny-situation-defense-of-the-ancients-lyrics',\n",
       " 'lyrics': [],\n",
       " 'date_released': None}"
      ]
     },
     "execution_count": 1771,
     "metadata": {},
     "output_type": "execute_result"
    }
   ],
   "source": [
    "tracks_list_2 = [item for sublist in tracks_list for item in sublist]\n",
    "tracks_list[-1]\n",
    "lyrics_dict[95]"
   ]
  },
  {
   "cell_type": "markdown",
   "id": "abfc91e7-d595-4436-8ace-f9a115f8efeb",
   "metadata": {},
   "source": [
    "## 3. Remove songs without any lyrics: 946 songs left from 466 songs"
   ]
  },
  {
   "cell_type": "code",
   "execution_count": 1802,
   "id": "943af0d3-d48e-400e-927e-f1dbb43ed997",
   "metadata": {
    "scrolled": true
   },
   "outputs": [],
   "source": [
    "lyrics_dict_clean = [item for item in lyrics_dict if item['lyrics']!=[]]\n",
    "# lyrics_dict_clean = [lyrics_dict_clean.remove(item) for item in lyrics_dict_clean if item['lyrics'] == []]"
   ]
  },
  {
   "cell_type": "code",
   "execution_count": 1803,
   "id": "7d98463f-b047-48e2-a8e3-4f3a45b8cb30",
   "metadata": {},
   "outputs": [
    {
     "data": {
      "text/plain": [
       "946"
      ]
     },
     "execution_count": 1803,
     "metadata": {},
     "output_type": "execute_result"
    }
   ],
   "source": [
    "len(lyrics_dict_clean)"
   ]
  },
  {
   "cell_type": "code",
   "execution_count": 1777,
   "id": "d2943b61-f8d2-444b-b9dc-166faf81d6ad",
   "metadata": {},
   "outputs": [
    {
     "data": {
      "text/plain": [
       "966"
      ]
     },
     "execution_count": 1777,
     "metadata": {},
     "output_type": "execute_result"
    }
   ],
   "source": [
    "len(lyrics_dict)"
   ]
  },
  {
   "cell_type": "code",
   "execution_count": 1804,
   "id": "a972ce2e-0da1-4134-be0c-d9d64ae11629",
   "metadata": {},
   "outputs": [],
   "source": [
    "for item in lyrics_dict_clean:\n",
    "    item.update({'is_vn':None})"
   ]
  },
  {
   "cell_type": "code",
   "execution_count": 1806,
   "id": "44ede1c5-3221-4853-a272-7c9b8b5a191c",
   "metadata": {},
   "outputs": [],
   "source": [
    "for item in lyrics_dict_clean:\n",
    "    del item['is_en']"
   ]
  },
  {
   "cell_type": "code",
   "execution_count": 1778,
   "id": "47cb8ebb-9a5b-40f1-ac48-aa0be1426a2c",
   "metadata": {},
   "outputs": [],
   "source": [
    "v_chars = '''\n",
    "á ạ à ả ã\n",
    "ă ắ ặ ằ ẳ ẵ\n",
    "â ấ ậ ầ ẩ ẫ\n",
    "é ẹ è ẻ ẽ\n",
    "ê ế ệ ề ể ễ\n",
    "í ị ì ỉ ĩ\n",
    "ó ọ ò ỏ õ\n",
    "ô ố ộ ồ ổ ỗ\n",
    "ơ ớ ợ ờ ở ỡ\n",
    "ú ụ ù ủ ũ\n",
    "ư ứ ự ừ ử ữ\n",
    "ý ỵ ỳ ỷ ỹ\n",
    "đ\n",
    "'''"
   ]
  },
  {
   "cell_type": "code",
   "execution_count": 1779,
   "id": "5d60f5fc-9133-4057-887a-d75022dc6856",
   "metadata": {},
   "outputs": [],
   "source": [
    "v_chars = re.findall('\\w+', v_chars)"
   ]
  },
  {
   "cell_type": "code",
   "execution_count": 1810,
   "id": "e3ea80ce-3917-415d-a572-4452ece4f8b8",
   "metadata": {},
   "outputs": [],
   "source": [
    "for song in lyrics_dict_clean:\n",
    "    lyric = '\\n'.join(song['lyrics'])\n",
    "    # print(song['name'])\n",
    "    # print(song['url'])\n",
    "    res = any(char in lyric for char in v_chars)\n",
    "    song['is_vn'] = res\n",
    "    # print('----')"
   ]
  },
  {
   "cell_type": "code",
   "execution_count": 1816,
   "id": "f5d0af18-826e-432d-b76e-08a66c5340fa",
   "metadata": {},
   "outputs": [],
   "source": [
    "notviet_songs = []\n",
    "for i, song in enumerate(lyrics_dict_clean):\n",
    "    if song['is_vn'] == False:\n",
    "        notviet_songs.append(song)\n",
    "        # print(i, song['name'], song['url'])"
   ]
  },
  {
   "cell_type": "code",
   "execution_count": 1818,
   "id": "2918c0be-e989-4563-9d87-474c80dcf4ff",
   "metadata": {},
   "outputs": [],
   "source": [
    "viet_songs = [item for item in lyrics_dict_clean if item not in notviet_songs]"
   ]
  },
  {
   "cell_type": "code",
   "execution_count": 1819,
   "id": "8074ece8-3339-4239-b140-22c6f7181277",
   "metadata": {},
   "outputs": [
    {
     "data": {
      "text/plain": [
       "861"
      ]
     },
     "execution_count": 1819,
     "metadata": {},
     "output_type": "execute_result"
    }
   ],
   "source": [
    "len(viet_songs)"
   ]
  },
  {
   "cell_type": "code",
   "execution_count": 1820,
   "id": "291bb2fa-391e-4adb-afc7-bb5d225d26c3",
   "metadata": {},
   "outputs": [
    {
     "name": "stdout",
     "output_type": "stream",
     "text": [
      "Stored 'viet_songs' (list)\n"
     ]
    }
   ],
   "source": [
    "%store viet_songs"
   ]
  },
  {
   "cell_type": "code",
   "execution_count": 1937,
   "id": "f2ae9432-9646-4edd-9f83-9f22b536c775",
   "metadata": {},
   "outputs": [
    {
     "name": "stdout",
     "output_type": "stream",
     "text": [
      "dict_keys(['id', 'name', 'url', 'lyrics', 'date_released', 'is_vn'])\n"
     ]
    }
   ],
   "source": [
    "for item in viet_songs[:1]:\n",
    "    print(item.keys())"
   ]
  },
  {
   "cell_type": "markdown",
   "id": "9d32ec90-899f-4f41-85c7-41feaf28a61b",
   "metadata": {},
   "source": [
    "## 4. Create dataframe and remove non vietnamese songs and duplicates"
   ]
  },
  {
   "cell_type": "code",
   "execution_count": 6,
   "id": "ee5b92ac-276d-473e-94b8-e913905ffe9e",
   "metadata": {
    "scrolled": true
   },
   "outputs": [
    {
     "data": {
      "text/plain": [
       "695"
      ]
     },
     "execution_count": 6,
     "metadata": {},
     "output_type": "execute_result"
    }
   ],
   "source": [
    "set_res = set([name['name'] for name in viet_songs ]) \n",
    "# print(\"The unique elements of the input list using set():\\n\") \n",
    "songs_unique = (list(set_res))\n",
    "len(songs_unique)\n",
    "# for item in list_res: \n",
    "# sorted(songs_unique)"
   ]
  },
  {
   "cell_type": "code",
   "execution_count": 7,
   "id": "84d54016-d574-4098-8b2d-658d87431c82",
   "metadata": {},
   "outputs": [
    {
     "data": {
      "text/plain": [
       "699"
      ]
     },
     "execution_count": 7,
     "metadata": {},
     "output_type": "execute_result"
    }
   ],
   "source": [
    "set_url = set([name['url'] for name in viet_songs])\n",
    "url_unique = (list(set_url))\n",
    "len(url_unique)"
   ]
  },
  {
   "cell_type": "code",
   "execution_count": 8,
   "id": "ce4eb67f-a333-4bb5-a5f8-75a3210c7d82",
   "metadata": {},
   "outputs": [],
   "source": [
    "viet_unique = []\n",
    "for item in viet_songs:\n",
    "    if item['name'] not in viet_unique:\n",
    "        viet_unique.append(item)"
   ]
  },
  {
   "cell_type": "code",
   "execution_count": 13,
   "id": "071eef6c-9c3c-44f3-9168-b6bfa2786d1f",
   "metadata": {},
   "outputs": [],
   "source": [
    "lyrics_list = lyrics['lyrics'].to_list()"
   ]
  },
  {
   "cell_type": "code",
   "execution_count": 29,
   "id": "d25fdf8c-a8ce-432d-87b6-cfab4d1b4c30",
   "metadata": {},
   "outputs": [
    {
     "name": "stderr",
     "output_type": "stream",
     "text": [
      "100%|████████████████████████████████████████████████████| 699/699 [19:06<00:00,  1.64s/it]\n"
     ]
    }
   ],
   "source": [
    "lyrics_unique = []\n",
    "for url in tqdm(url_unique):\n",
    "    songs = []\n",
    "    soup = BeautifulSoup(requests.get(url).text)\n",
    "    for stanza in soup.select('.Lyrics__Container-sc-1ynbvzw-5'):\n",
    "        for line in stanza:\n",
    "            text = line.text\n",
    "            # text = re.sub(r'\\[.*', '', text)\n",
    "            text = text.strip()\n",
    "            if text!='':\n",
    "                songs.append(text)\n",
    "                # lyrics_2.append(text)\n",
    "    lyrics_unique.append(songs)\n",
    "    sleep(1)"
   ]
  },
  {
   "cell_type": "code",
   "execution_count": 30,
   "id": "244a22d8-9777-458a-9644-527c32b83088",
   "metadata": {},
   "outputs": [],
   "source": [
    "df_lyrics = pd.DataFrame(list(zip(url_unique, lyrics_unique)), columns=['url', 'lyrics'])"
   ]
  },
  {
   "cell_type": "code",
   "execution_count": 31,
   "id": "1f705878-a296-4a3b-b214-91566351c295",
   "metadata": {},
   "outputs": [],
   "source": [
    "def ad_lib(lyrics):\n",
    "    list = []\n",
    "    for line in lyrics:\n",
    "        word = re.search('(\\((.*)\\)$)', line)\n",
    "        if word != None:\n",
    "            list.append(word.group(2))\n",
    "    return list"
   ]
  },
  {
   "cell_type": "code",
   "execution_count": 32,
   "id": "6139aa63-20d6-4def-96d8-34634440fa38",
   "metadata": {},
   "outputs": [],
   "source": [
    "def sub_lines(lyrics):\n",
    "    line_subbed = []\n",
    "    for line in lyrics:\n",
    "        line = re.sub(r'(^\\[.*\\].?)','', line)\n",
    "        if line != '':\n",
    "            line_subbed.append(line)\n",
    "    return line_subbed  "
   ]
  },
  {
   "cell_type": "code",
   "execution_count": 33,
   "id": "ab58d443-5380-4452-b724-54c33e95dd32",
   "metadata": {},
   "outputs": [],
   "source": [
    "df_lyrics['lyrics'] = df_lyrics['lyrics'].apply(sub_lines)"
   ]
  },
  {
   "cell_type": "code",
   "execution_count": 34,
   "id": "b309de62-48f8-4573-aa00-fb60e6fddc12",
   "metadata": {},
   "outputs": [],
   "source": [
    "df_lyrics['total_lines'] = df_lyrics['lyrics'].apply(lambda row: len(row))"
   ]
  },
  {
   "cell_type": "code",
   "execution_count": 35,
   "id": "87363752-d7e6-4450-8a97-0c89b72601d9",
   "metadata": {},
   "outputs": [],
   "source": [
    "df_lyrics['ad_lib'] = df_lyrics['lyrics'].apply(ad_lib)"
   ]
  },
  {
   "cell_type": "code",
   "execution_count": 36,
   "id": "1c233866-a064-440e-b78e-7afbd31648eb",
   "metadata": {},
   "outputs": [],
   "source": [
    "df_lyrics = df_lyrics.explode('ad_lib')"
   ]
  },
  {
   "cell_type": "code",
   "execution_count": 37,
   "id": "abf53073-a7ab-4a1c-827e-b9f17614bb1e",
   "metadata": {},
   "outputs": [
    {
     "data": {
      "text/html": [
       "<div>\n",
       "<style scoped>\n",
       "    .dataframe tbody tr th:only-of-type {\n",
       "        vertical-align: middle;\n",
       "    }\n",
       "\n",
       "    .dataframe tbody tr th {\n",
       "        vertical-align: top;\n",
       "    }\n",
       "\n",
       "    .dataframe thead th {\n",
       "        text-align: right;\n",
       "    }\n",
       "</style>\n",
       "<table border=\"1\" class=\"dataframe\">\n",
       "  <thead>\n",
       "    <tr style=\"text-align: right;\">\n",
       "      <th></th>\n",
       "      <th>url</th>\n",
       "      <th>lyrics</th>\n",
       "      <th>total_lines</th>\n",
       "      <th>ad_lib</th>\n",
       "    </tr>\n",
       "  </thead>\n",
       "  <tbody>\n",
       "    <tr>\n",
       "      <th>0</th>\n",
       "      <td>https://genius.com/Icd-music-box-lyrics</td>\n",
       "      <td>[Intro:, Đây là những dòng nhật kí cuối cùng, ...</td>\n",
       "      <td>49</td>\n",
       "      <td>NaN</td>\n",
       "    </tr>\n",
       "    <tr>\n",
       "      <th>1</th>\n",
       "      <td>https://genius.com/B-wine-from-the-ghetto-lyrics</td>\n",
       "      <td>[Sài gòn nơi tao sinh, Phú Nhuận nơi tao lớn, ...</td>\n",
       "      <td>70</td>\n",
       "      <td>NaN</td>\n",
       "    </tr>\n",
       "    <tr>\n",
       "      <th>2</th>\n",
       "      <td>https://genius.com/Trung-tam-bang-ia-lau-hai-n...</td>\n",
       "      <td>[Em, Answer, Comment, Đi chứ, Ơ kìa, Sao em, N...</td>\n",
       "      <td>88</td>\n",
       "      <td>Anh dang yeu</td>\n",
       "    </tr>\n",
       "    <tr>\n",
       "      <th>2</th>\n",
       "      <td>https://genius.com/Trung-tam-bang-ia-lau-hai-n...</td>\n",
       "      <td>[Em, Answer, Comment, Đi chứ, Ơ kìa, Sao em, N...</td>\n",
       "      <td>88</td>\n",
       "      <td>Anh yeu em</td>\n",
       "    </tr>\n",
       "    <tr>\n",
       "      <th>2</th>\n",
       "      <td>https://genius.com/Trung-tam-bang-ia-lau-hai-n...</td>\n",
       "      <td>[Em, Answer, Comment, Đi chứ, Ơ kìa, Sao em, N...</td>\n",
       "      <td>88</td>\n",
       "      <td>Chao mi ao mi ao mi ao mi ao</td>\n",
       "    </tr>\n",
       "  </tbody>\n",
       "</table>\n",
       "</div>"
      ],
      "text/plain": [
       "                                                 url  \\\n",
       "0            https://genius.com/Icd-music-box-lyrics   \n",
       "1   https://genius.com/B-wine-from-the-ghetto-lyrics   \n",
       "2  https://genius.com/Trung-tam-bang-ia-lau-hai-n...   \n",
       "2  https://genius.com/Trung-tam-bang-ia-lau-hai-n...   \n",
       "2  https://genius.com/Trung-tam-bang-ia-lau-hai-n...   \n",
       "\n",
       "                                              lyrics  total_lines  \\\n",
       "0  [Intro:, Đây là những dòng nhật kí cuối cùng, ...           49   \n",
       "1  [Sài gòn nơi tao sinh, Phú Nhuận nơi tao lớn, ...           70   \n",
       "2  [Em, Answer, Comment, Đi chứ, Ơ kìa, Sao em, N...           88   \n",
       "2  [Em, Answer, Comment, Đi chứ, Ơ kìa, Sao em, N...           88   \n",
       "2  [Em, Answer, Comment, Đi chứ, Ơ kìa, Sao em, N...           88   \n",
       "\n",
       "                         ad_lib  \n",
       "0                           NaN  \n",
       "1                           NaN  \n",
       "2                  Anh dang yeu  \n",
       "2                    Anh yeu em  \n",
       "2  Chao mi ao mi ao mi ao mi ao  "
      ]
     },
     "execution_count": 37,
     "metadata": {},
     "output_type": "execute_result"
    }
   ],
   "source": [
    "df_lyrics.head()"
   ]
  },
  {
   "cell_type": "code",
   "execution_count": 38,
   "id": "114268d3-0987-48dc-bf9d-0b2c5d14569f",
   "metadata": {},
   "outputs": [
    {
     "data": {
      "text/html": [
       "<div>\n",
       "<style scoped>\n",
       "    .dataframe tbody tr th:only-of-type {\n",
       "        vertical-align: middle;\n",
       "    }\n",
       "\n",
       "    .dataframe tbody tr th {\n",
       "        vertical-align: top;\n",
       "    }\n",
       "\n",
       "    .dataframe thead th {\n",
       "        text-align: right;\n",
       "    }\n",
       "</style>\n",
       "<table border=\"1\" class=\"dataframe\">\n",
       "  <thead>\n",
       "    <tr style=\"text-align: right;\">\n",
       "      <th></th>\n",
       "      <th>uri</th>\n",
       "      <th>name</th>\n",
       "      <th>followers</th>\n",
       "      <th>popularity</th>\n",
       "      <th>genres</th>\n",
       "      <th>url</th>\n",
       "    </tr>\n",
       "  </thead>\n",
       "  <tbody>\n",
       "    <tr>\n",
       "      <th>0</th>\n",
       "      <td>1cPpd989kghzlZqfpP4KwL</td>\n",
       "      <td>RAP VIỆT</td>\n",
       "      <td>1127659</td>\n",
       "      <td>62</td>\n",
       "      <td>[v-pop, vietnamese hip hop, vietnamese melodic...</td>\n",
       "      <td>https://open.spotify.com/artist/1cPpd989kghzlZ...</td>\n",
       "    </tr>\n",
       "    <tr>\n",
       "      <th>1</th>\n",
       "      <td>3diftVOq7aEIebXKkC34oR</td>\n",
       "      <td>tlinh</td>\n",
       "      <td>407913</td>\n",
       "      <td>59</td>\n",
       "      <td>[indie viet, v-pop, vietnamese hip hop, vietna...</td>\n",
       "      <td>https://open.spotify.com/artist/3diftVOq7aEIeb...</td>\n",
       "    </tr>\n",
       "    <tr>\n",
       "      <th>2</th>\n",
       "      <td>3rjcQ5VIWCN4q7UFetzdeO</td>\n",
       "      <td>JustaTee</td>\n",
       "      <td>751607</td>\n",
       "      <td>55</td>\n",
       "      <td>[v-pop, vietnamese hip hop, vietnamese melodic...</td>\n",
       "      <td>https://open.spotify.com/artist/3rjcQ5VIWCN4q7...</td>\n",
       "    </tr>\n",
       "    <tr>\n",
       "      <th>3</th>\n",
       "      <td>1OIYKbmhG0RxPXvVPNj3NN</td>\n",
       "      <td>Madihu</td>\n",
       "      <td>135784</td>\n",
       "      <td>53</td>\n",
       "      <td>[indie viet, v-pop, vietnamese melodic rap]</td>\n",
       "      <td>https://open.spotify.com/artist/1OIYKbmhG0RxPX...</td>\n",
       "    </tr>\n",
       "    <tr>\n",
       "      <th>4</th>\n",
       "      <td>1LEtM3AleYg1xabW6CRkpi</td>\n",
       "      <td>Đen</td>\n",
       "      <td>3409017</td>\n",
       "      <td>58</td>\n",
       "      <td>[indie viet, v-pop, vietnamese hip hop, vietna...</td>\n",
       "      <td>https://open.spotify.com/artist/1LEtM3AleYg1xa...</td>\n",
       "    </tr>\n",
       "  </tbody>\n",
       "</table>\n",
       "</div>"
      ],
      "text/plain": [
       "                      uri      name  followers  popularity  \\\n",
       "0  1cPpd989kghzlZqfpP4KwL  RAP VIỆT    1127659          62   \n",
       "1  3diftVOq7aEIebXKkC34oR     tlinh     407913          59   \n",
       "2  3rjcQ5VIWCN4q7UFetzdeO  JustaTee     751607          55   \n",
       "3  1OIYKbmhG0RxPXvVPNj3NN    Madihu     135784          53   \n",
       "4  1LEtM3AleYg1xabW6CRkpi       Đen    3409017          58   \n",
       "\n",
       "                                              genres  \\\n",
       "0  [v-pop, vietnamese hip hop, vietnamese melodic...   \n",
       "1  [indie viet, v-pop, vietnamese hip hop, vietna...   \n",
       "2  [v-pop, vietnamese hip hop, vietnamese melodic...   \n",
       "3        [indie viet, v-pop, vietnamese melodic rap]   \n",
       "4  [indie viet, v-pop, vietnamese hip hop, vietna...   \n",
       "\n",
       "                                                 url  \n",
       "0  https://open.spotify.com/artist/1cPpd989kghzlZ...  \n",
       "1  https://open.spotify.com/artist/3diftVOq7aEIeb...  \n",
       "2  https://open.spotify.com/artist/3rjcQ5VIWCN4q7...  \n",
       "3  https://open.spotify.com/artist/1OIYKbmhG0RxPX...  \n",
       "4  https://open.spotify.com/artist/1LEtM3AleYg1xa...  "
      ]
     },
     "execution_count": 38,
     "metadata": {},
     "output_type": "execute_result"
    }
   ],
   "source": [
    "artists.head()"
   ]
  },
  {
   "cell_type": "code",
   "execution_count": 39,
   "id": "ae4ad0c7-6109-41c0-a54f-de9cc6091f44",
   "metadata": {},
   "outputs": [],
   "source": [
    "df_artists_songs = pd.DataFrame(cleaned_artist)"
   ]
  },
  {
   "cell_type": "markdown",
   "id": "ab08cb4a-1036-4a9e-83b6-2bbe09940fe4",
   "metadata": {},
   "source": [
    "## 5. Merge exploded tables to get adlibs and songs"
   ]
  },
  {
   "cell_type": "code",
   "execution_count": 41,
   "id": "b9690355-102b-4da4-a95a-6198416be420",
   "metadata": {},
   "outputs": [],
   "source": [
    "df_artists_lyrics = df_artists_songs.explode(['tracks','tracks_url', 'track_id'])"
   ]
  },
  {
   "cell_type": "code",
   "execution_count": 42,
   "id": "af458aed-23b1-460a-884e-f56144885096",
   "metadata": {},
   "outputs": [],
   "source": [
    "df_artists_lyrics = df_artists_lyrics.merge(df_lyrics, left_on='tracks_url', right_on='url', how='right')"
   ]
  },
  {
   "cell_type": "code",
   "execution_count": 43,
   "id": "56b2433e-ba93-4efd-a317-70e1a8826425",
   "metadata": {},
   "outputs": [],
   "source": [
    "def count_adlib(row):\n",
    "    counter = 0\n",
    "    lyrics = row['lyrics']\n",
    "    adlib = row['ad_lib'].__str__()\n",
    "    adlib = f'({adlib})'\n",
    "    # return(adlib)\n",
    "    for line in lyrics:\n",
    "        if adlib in line:\n",
    "            counter+=1\n",
    "    return(counter)"
   ]
  },
  {
   "cell_type": "code",
   "execution_count": 44,
   "id": "97d2cdd6-41c6-4c41-8512-f7d4936a9231",
   "metadata": {},
   "outputs": [
    {
     "data": {
      "text/html": [
       "<div>\n",
       "<style scoped>\n",
       "    .dataframe tbody tr th:only-of-type {\n",
       "        vertical-align: middle;\n",
       "    }\n",
       "\n",
       "    .dataframe tbody tr th {\n",
       "        vertical-align: top;\n",
       "    }\n",
       "\n",
       "    .dataframe thead th {\n",
       "        text-align: right;\n",
       "    }\n",
       "</style>\n",
       "<table border=\"1\" class=\"dataframe\">\n",
       "  <thead>\n",
       "    <tr style=\"text-align: right;\">\n",
       "      <th></th>\n",
       "      <th>uri</th>\n",
       "      <th>name</th>\n",
       "      <th>genius_url</th>\n",
       "      <th>tracks</th>\n",
       "      <th>tracks_url</th>\n",
       "      <th>genius_name</th>\n",
       "      <th>track_id</th>\n",
       "      <th>url</th>\n",
       "      <th>lyrics</th>\n",
       "      <th>total_lines</th>\n",
       "      <th>ad_lib</th>\n",
       "      <th>count_adlib</th>\n",
       "    </tr>\n",
       "  </thead>\n",
       "  <tbody>\n",
       "    <tr>\n",
       "      <th>0</th>\n",
       "      <td>2nk2PnWoh8U5lR6xDhDGFu</td>\n",
       "      <td>ICD</td>\n",
       "      <td>https://genius.com/artists/ICD</td>\n",
       "      <td>Music Box</td>\n",
       "      <td>https://genius.com/Icd-music-box-lyrics</td>\n",
       "      <td>ICD\\n            \\n</td>\n",
       "      <td>2nk2PnWoh8U5lR6xDhDGFu:Music Box</td>\n",
       "      <td>https://genius.com/Icd-music-box-lyrics</td>\n",
       "      <td>[Intro:, Đây là những dòng nhật kí cuối cùng, ...</td>\n",
       "      <td>49</td>\n",
       "      <td>NaN</td>\n",
       "      <td>0</td>\n",
       "    </tr>\n",
       "  </tbody>\n",
       "</table>\n",
       "</div>"
      ],
      "text/plain": [
       "                      uri name                      genius_url     tracks  \\\n",
       "0  2nk2PnWoh8U5lR6xDhDGFu  ICD  https://genius.com/artists/ICD  Music Box   \n",
       "\n",
       "                                tracks_url                    genius_name  \\\n",
       "0  https://genius.com/Icd-music-box-lyrics  ICD\\n            \\n             \n",
       "\n",
       "                           track_id                                      url  \\\n",
       "0  2nk2PnWoh8U5lR6xDhDGFu:Music Box  https://genius.com/Icd-music-box-lyrics   \n",
       "\n",
       "                                              lyrics  total_lines ad_lib  \\\n",
       "0  [Intro:, Đây là những dòng nhật kí cuối cùng, ...           49    NaN   \n",
       "\n",
       "   count_adlib  \n",
       "0            0  "
      ]
     },
     "execution_count": 44,
     "metadata": {},
     "output_type": "execute_result"
    }
   ],
   "source": [
    "# df_artists_lyrics['ad_lib'] = df_artists_lyrics['ad_lib'].astype('string')\n",
    "df_artists_lyrics['count_adlib'] = df_artists_lyrics.apply(count_adlib, axis=1)\n",
    "df_artists_lyrics.head(1)"
   ]
  },
  {
   "cell_type": "code",
   "execution_count": 45,
   "id": "688e81f3-0fd5-4101-aa37-03417b0fcc1a",
   "metadata": {},
   "outputs": [
    {
     "data": {
      "text/html": [
       "<div>\n",
       "<style scoped>\n",
       "    .dataframe tbody tr th:only-of-type {\n",
       "        vertical-align: middle;\n",
       "    }\n",
       "\n",
       "    .dataframe tbody tr th {\n",
       "        vertical-align: top;\n",
       "    }\n",
       "\n",
       "    .dataframe thead th {\n",
       "        text-align: right;\n",
       "    }\n",
       "</style>\n",
       "<table border=\"1\" class=\"dataframe\">\n",
       "  <thead>\n",
       "    <tr style=\"text-align: right;\">\n",
       "      <th></th>\n",
       "      <th>uri</th>\n",
       "      <th>name</th>\n",
       "      <th>genius_url</th>\n",
       "      <th>tracks</th>\n",
       "      <th>tracks_url</th>\n",
       "      <th>genius_name</th>\n",
       "      <th>track_id</th>\n",
       "      <th>url</th>\n",
       "      <th>lyrics</th>\n",
       "      <th>total_lines</th>\n",
       "      <th>ad_lib</th>\n",
       "      <th>count_adlib</th>\n",
       "    </tr>\n",
       "  </thead>\n",
       "  <tbody>\n",
       "    <tr>\n",
       "      <th>1391</th>\n",
       "      <td>5yE1xvNIbuEB2kkopCuCVY</td>\n",
       "      <td>PAR SG</td>\n",
       "      <td>https://genius.com/artists/PAR-SG</td>\n",
       "      <td>Datwassup</td>\n",
       "      <td>https://genius.com/Kim-nguyen-datwassup-lyrics</td>\n",
       "      <td>Par SG\\n            \\n</td>\n",
       "      <td>5yE1xvNIbuEB2kkopCuCVY:Datwassup</td>\n",
       "      <td>https://genius.com/Kim-nguyen-datwassup-lyrics</td>\n",
       "      <td>[Been through all, working hard, Datwassup, ye...</td>\n",
       "      <td>91</td>\n",
       "      <td>Datwassup</td>\n",
       "      <td>18</td>\n",
       "    </tr>\n",
       "    <tr>\n",
       "      <th>1399</th>\n",
       "      <td>5yE1xvNIbuEB2kkopCuCVY</td>\n",
       "      <td>PAR SG</td>\n",
       "      <td>https://genius.com/artists/PAR-SG</td>\n",
       "      <td>Datwassup</td>\n",
       "      <td>https://genius.com/Kim-nguyen-datwassup-lyrics</td>\n",
       "      <td>Par SG\\n            \\n</td>\n",
       "      <td>5yE1xvNIbuEB2kkopCuCVY:Datwassup</td>\n",
       "      <td>https://genius.com/Kim-nguyen-datwassup-lyrics</td>\n",
       "      <td>[Been through all, working hard, Datwassup, ye...</td>\n",
       "      <td>91</td>\n",
       "      <td>Datwassup</td>\n",
       "      <td>18</td>\n",
       "    </tr>\n",
       "  </tbody>\n",
       "</table>\n",
       "</div>"
      ],
      "text/plain": [
       "                         uri    name                         genius_url  \\\n",
       "1391  5yE1xvNIbuEB2kkopCuCVY  PAR SG  https://genius.com/artists/PAR-SG   \n",
       "1399  5yE1xvNIbuEB2kkopCuCVY  PAR SG  https://genius.com/artists/PAR-SG   \n",
       "\n",
       "         tracks                                      tracks_url  \\\n",
       "1391  Datwassup  https://genius.com/Kim-nguyen-datwassup-lyrics   \n",
       "1399  Datwassup  https://genius.com/Kim-nguyen-datwassup-lyrics   \n",
       "\n",
       "                           genius_name                          track_id  \\\n",
       "1391  Par SG\\n            \\n            5yE1xvNIbuEB2kkopCuCVY:Datwassup   \n",
       "1399  Par SG\\n            \\n            5yE1xvNIbuEB2kkopCuCVY:Datwassup   \n",
       "\n",
       "                                                 url  \\\n",
       "1391  https://genius.com/Kim-nguyen-datwassup-lyrics   \n",
       "1399  https://genius.com/Kim-nguyen-datwassup-lyrics   \n",
       "\n",
       "                                                 lyrics  total_lines  \\\n",
       "1391  [Been through all, working hard, Datwassup, ye...           91   \n",
       "1399  [Been through all, working hard, Datwassup, ye...           91   \n",
       "\n",
       "         ad_lib  count_adlib  \n",
       "1391  Datwassup           18  \n",
       "1399  Datwassup           18  "
      ]
     },
     "execution_count": 45,
     "metadata": {},
     "output_type": "execute_result"
    }
   ],
   "source": [
    "df_artists_lyrics.sort_values(by='count_adlib', ascending=False).head(2)"
   ]
  },
  {
   "cell_type": "code",
   "execution_count": 46,
   "id": "3744755d-6d28-45d9-abb5-346de57bd554",
   "metadata": {},
   "outputs": [],
   "source": [
    "df_artists_lyrics['lyrics'] = df_artists_lyrics['lyrics'].str.join('\\n')"
   ]
  },
  {
   "cell_type": "code",
   "execution_count": 47,
   "id": "f70c7b1c-d42f-47fb-b275-a5d6a3fb89e0",
   "metadata": {},
   "outputs": [],
   "source": [
    "df_artists_lyrics = df_artists_lyrics.drop_duplicates()"
   ]
  },
  {
   "cell_type": "code",
   "execution_count": 48,
   "id": "f5cbcc27-a0d0-4707-aeab-7260471d8f60",
   "metadata": {},
   "outputs": [],
   "source": [
    "def pct_adlib(row):\n",
    "    pct = f\"{row['count_adlib']/row['total_lines']: .0%}\"\n",
    "    return pct"
   ]
  },
  {
   "cell_type": "code",
   "execution_count": 49,
   "id": "b6d478bc-8f63-455d-8942-1a2a06441859",
   "metadata": {},
   "outputs": [],
   "source": [
    "df_artists_lyrics['pct_adlib'] = df_artists_lyrics.apply(pct_adlib, axis=1)"
   ]
  },
  {
   "cell_type": "code",
   "execution_count": 50,
   "id": "f5ab8bef-7a58-44db-90b9-e877266f9393",
   "metadata": {},
   "outputs": [
    {
     "data": {
      "text/html": [
       "<div>\n",
       "<style scoped>\n",
       "    .dataframe tbody tr th:only-of-type {\n",
       "        vertical-align: middle;\n",
       "    }\n",
       "\n",
       "    .dataframe tbody tr th {\n",
       "        vertical-align: top;\n",
       "    }\n",
       "\n",
       "    .dataframe thead th {\n",
       "        text-align: right;\n",
       "    }\n",
       "</style>\n",
       "<table border=\"1\" class=\"dataframe\">\n",
       "  <thead>\n",
       "    <tr style=\"text-align: right;\">\n",
       "      <th></th>\n",
       "      <th>uri</th>\n",
       "      <th>name</th>\n",
       "      <th>genius_url</th>\n",
       "      <th>tracks</th>\n",
       "      <th>tracks_url</th>\n",
       "      <th>genius_name</th>\n",
       "      <th>track_id</th>\n",
       "      <th>url</th>\n",
       "      <th>lyrics</th>\n",
       "      <th>total_lines</th>\n",
       "      <th>ad_lib</th>\n",
       "      <th>count_adlib</th>\n",
       "      <th>pct_adlib</th>\n",
       "    </tr>\n",
       "  </thead>\n",
       "  <tbody>\n",
       "    <tr>\n",
       "      <th>0</th>\n",
       "      <td>2nk2PnWoh8U5lR6xDhDGFu</td>\n",
       "      <td>ICD</td>\n",
       "      <td>https://genius.com/artists/ICD</td>\n",
       "      <td>Music Box</td>\n",
       "      <td>https://genius.com/Icd-music-box-lyrics</td>\n",
       "      <td>ICD\\n            \\n</td>\n",
       "      <td>2nk2PnWoh8U5lR6xDhDGFu:Music Box</td>\n",
       "      <td>https://genius.com/Icd-music-box-lyrics</td>\n",
       "      <td>Intro:\\nĐây là những dòng nhật kí cuối cùng\\nK...</td>\n",
       "      <td>49</td>\n",
       "      <td>NaN</td>\n",
       "      <td>0</td>\n",
       "      <td>0%</td>\n",
       "    </tr>\n",
       "    <tr>\n",
       "      <th>1</th>\n",
       "      <td>68Vj5ArAHBx2K0osGDXK4K</td>\n",
       "      <td>B-Wine</td>\n",
       "      <td>https://genius.com/artists/B-Wine</td>\n",
       "      <td>From The Ghetto</td>\n",
       "      <td>https://genius.com/B-wine-from-the-ghetto-lyrics</td>\n",
       "      <td>B-Wine\\n            \\n</td>\n",
       "      <td>68Vj5ArAHBx2K0osGDXK4K:From The Ghetto</td>\n",
       "      <td>https://genius.com/B-wine-from-the-ghetto-lyrics</td>\n",
       "      <td>Sài gòn nơi tao sinh, Phú Nhuận nơi tao lớn\\nN...</td>\n",
       "      <td>70</td>\n",
       "      <td>NaN</td>\n",
       "      <td>0</td>\n",
       "      <td>0%</td>\n",
       "    </tr>\n",
       "  </tbody>\n",
       "</table>\n",
       "</div>"
      ],
      "text/plain": [
       "                      uri    name                         genius_url  \\\n",
       "0  2nk2PnWoh8U5lR6xDhDGFu     ICD     https://genius.com/artists/ICD   \n",
       "1  68Vj5ArAHBx2K0osGDXK4K  B-Wine  https://genius.com/artists/B-Wine   \n",
       "\n",
       "            tracks                                        tracks_url  \\\n",
       "0        Music Box           https://genius.com/Icd-music-box-lyrics   \n",
       "1  From The Ghetto  https://genius.com/B-wine-from-the-ghetto-lyrics   \n",
       "\n",
       "                        genius_name                                track_id  \\\n",
       "0     ICD\\n            \\n                  2nk2PnWoh8U5lR6xDhDGFu:Music Box   \n",
       "1  B-Wine\\n            \\n            68Vj5ArAHBx2K0osGDXK4K:From The Ghetto   \n",
       "\n",
       "                                                url  \\\n",
       "0           https://genius.com/Icd-music-box-lyrics   \n",
       "1  https://genius.com/B-wine-from-the-ghetto-lyrics   \n",
       "\n",
       "                                              lyrics  total_lines ad_lib  \\\n",
       "0  Intro:\\nĐây là những dòng nhật kí cuối cùng\\nK...           49    NaN   \n",
       "1  Sài gòn nơi tao sinh, Phú Nhuận nơi tao lớn\\nN...           70    NaN   \n",
       "\n",
       "   count_adlib pct_adlib  \n",
       "0            0        0%  \n",
       "1            0        0%  "
      ]
     },
     "execution_count": 50,
     "metadata": {},
     "output_type": "execute_result"
    }
   ],
   "source": [
    "df_artists_lyrics.head(2)"
   ]
  },
  {
   "cell_type": "code",
   "execution_count": 51,
   "id": "7aeb5974-3ff4-4229-a3ac-5f4f942dd25d",
   "metadata": {},
   "outputs": [
    {
     "name": "stdout",
     "output_type": "stream",
     "text": [
      "Stored 'df_artists_lyrics' (DataFrame)\n"
     ]
    }
   ],
   "source": [
    "%store df_artists_lyrics"
   ]
  },
  {
   "cell_type": "code",
   "execution_count": 7,
   "id": "bde3eafd-ae3a-4257-bdf5-5b905199cdf3",
   "metadata": {},
   "outputs": [],
   "source": [
    "ad_lib = df_artists_lyrics.groupby(['name', 'uri']).count_adlib.sum().reset_index().sort_values(by='count_adlib', ascending=False)\n",
    "hiphop_10k = hip_hop[hip_hop['followers'] > 10000]\n",
    "ad_lib = ad_lib.merge(hip_hop[['uri', 'followers']], on='uri')\n",
    "# .to_csv('artists_by_adlib_10k.csv', encoding='utf-8-sig')\n",
    "# ad_lib.merge(hiphop_10k[['uri', 'followers']], on='uri').to_csv('artists_by_adlib_10k.csv', encoding='utf-8-sig')\n",
    "# .merge(hip_hop[hip_hop['followers'] > 10000].sort_values(by='followers'), on='uri')\n",
    "# .to_csv('artists_by_adlib.csv', encoding='utf-8-sig')"
   ]
  },
  {
   "cell_type": "code",
   "execution_count": 70,
   "id": "eebb5677-bfa4-46f0-867b-2509e52e8851",
   "metadata": {},
   "outputs": [
    {
     "data": {
      "text/html": [
       "<div>\n",
       "<style scoped>\n",
       "    .dataframe tbody tr th:only-of-type {\n",
       "        vertical-align: middle;\n",
       "    }\n",
       "\n",
       "    .dataframe tbody tr th {\n",
       "        vertical-align: top;\n",
       "    }\n",
       "\n",
       "    .dataframe thead th {\n",
       "        text-align: right;\n",
       "    }\n",
       "</style>\n",
       "<table border=\"1\" class=\"dataframe\">\n",
       "  <thead>\n",
       "    <tr style=\"text-align: right;\">\n",
       "      <th></th>\n",
       "      <th>uri</th>\n",
       "      <th>name</th>\n",
       "      <th>followers</th>\n",
       "      <th>popularity</th>\n",
       "      <th>genres</th>\n",
       "      <th>url</th>\n",
       "    </tr>\n",
       "  </thead>\n",
       "  <tbody>\n",
       "    <tr>\n",
       "      <th>80</th>\n",
       "      <td>2OkxNsNz7QXCBwlME0fSsk</td>\n",
       "      <td>TGSN</td>\n",
       "      <td>10445</td>\n",
       "      <td>38</td>\n",
       "      <td>vietnamese hip hop</td>\n",
       "      <td>https://open.spotify.com/artist/2OkxNsNz7QXCBw...</td>\n",
       "    </tr>\n",
       "    <tr>\n",
       "      <th>103</th>\n",
       "      <td>3EkXXkwTWhJpPDJR4ME3D8</td>\n",
       "      <td>KayC</td>\n",
       "      <td>10648</td>\n",
       "      <td>34</td>\n",
       "      <td>vietnamese hip hop</td>\n",
       "      <td>https://open.spotify.com/artist/3EkXXkwTWhJpPD...</td>\n",
       "    </tr>\n",
       "    <tr>\n",
       "      <th>66</th>\n",
       "      <td>68Vj5ArAHBx2K0osGDXK4K</td>\n",
       "      <td>B-Wine</td>\n",
       "      <td>11506</td>\n",
       "      <td>39</td>\n",
       "      <td>vietnamese hip hop</td>\n",
       "      <td>https://open.spotify.com/artist/68Vj5ArAHBx2K0...</td>\n",
       "    </tr>\n",
       "    <tr>\n",
       "      <th>84</th>\n",
       "      <td>0FvZX3MHDrlAAnf15FgBkA</td>\n",
       "      <td>Richie D. ICY</td>\n",
       "      <td>11559</td>\n",
       "      <td>37</td>\n",
       "      <td>vietnamese hip hop</td>\n",
       "      <td>https://open.spotify.com/artist/0FvZX3MHDrlAAn...</td>\n",
       "    </tr>\n",
       "    <tr>\n",
       "      <th>271</th>\n",
       "      <td>2nk2PnWoh8U5lR6xDhDGFu</td>\n",
       "      <td>ICD</td>\n",
       "      <td>13111</td>\n",
       "      <td>19</td>\n",
       "      <td>vietnamese hip hop</td>\n",
       "      <td>https://open.spotify.com/artist/2nk2PnWoh8U5lR...</td>\n",
       "    </tr>\n",
       "  </tbody>\n",
       "</table>\n",
       "</div>"
      ],
      "text/plain": [
       "                        uri           name  followers  popularity  \\\n",
       "80   2OkxNsNz7QXCBwlME0fSsk           TGSN      10445          38   \n",
       "103  3EkXXkwTWhJpPDJR4ME3D8           KayC      10648          34   \n",
       "66   68Vj5ArAHBx2K0osGDXK4K         B-Wine      11506          39   \n",
       "84   0FvZX3MHDrlAAnf15FgBkA  Richie D. ICY      11559          37   \n",
       "271  2nk2PnWoh8U5lR6xDhDGFu            ICD      13111          19   \n",
       "\n",
       "                 genres                                                url  \n",
       "80   vietnamese hip hop  https://open.spotify.com/artist/2OkxNsNz7QXCBw...  \n",
       "103  vietnamese hip hop  https://open.spotify.com/artist/3EkXXkwTWhJpPD...  \n",
       "66   vietnamese hip hop  https://open.spotify.com/artist/68Vj5ArAHBx2K0...  \n",
       "84   vietnamese hip hop  https://open.spotify.com/artist/0FvZX3MHDrlAAn...  \n",
       "271  vietnamese hip hop  https://open.spotify.com/artist/2nk2PnWoh8U5lR...  "
      ]
     },
     "execution_count": 70,
     "metadata": {},
     "output_type": "execute_result"
    }
   ],
   "source": [
    "hip_hop[hip_hop['followers'] > 10000].sort_values(by='followers').head()"
   ]
  },
  {
   "cell_type": "code",
   "execution_count": 2326,
   "id": "837b5dab-b447-4303-9bf7-3b7abde3e782",
   "metadata": {},
   "outputs": [],
   "source": [
    "df_adlib.sort_values(by='count_adlib', ascending=False).to_csv('adlib_total_count.csv', encoding='utf-8-sig')"
   ]
  },
  {
   "cell_type": "code",
   "execution_count": 10,
   "id": "9feb4118-dd12-4499-880d-258ae4e1437e",
   "metadata": {},
   "outputs": [
    {
     "data": {
      "text/html": [
       "<div>\n",
       "<style scoped>\n",
       "    .dataframe tbody tr th:only-of-type {\n",
       "        vertical-align: middle;\n",
       "    }\n",
       "\n",
       "    .dataframe tbody tr th {\n",
       "        vertical-align: top;\n",
       "    }\n",
       "\n",
       "    .dataframe thead th {\n",
       "        text-align: right;\n",
       "    }\n",
       "</style>\n",
       "<table border=\"1\" class=\"dataframe\">\n",
       "  <thead>\n",
       "    <tr style=\"text-align: right;\">\n",
       "      <th></th>\n",
       "      <th>uri</th>\n",
       "      <th>name</th>\n",
       "      <th>genius_url</th>\n",
       "      <th>tracks</th>\n",
       "      <th>tracks_url</th>\n",
       "      <th>genius_name</th>\n",
       "      <th>track_id</th>\n",
       "      <th>url</th>\n",
       "      <th>lyrics</th>\n",
       "      <th>total_lines</th>\n",
       "      <th>ad_lib</th>\n",
       "      <th>count_adlib</th>\n",
       "      <th>pct_adlib</th>\n",
       "    </tr>\n",
       "  </thead>\n",
       "  <tbody>\n",
       "    <tr>\n",
       "      <th>0</th>\n",
       "      <td>2nk2PnWoh8U5lR6xDhDGFu</td>\n",
       "      <td>ICD</td>\n",
       "      <td>https://genius.com/artists/ICD</td>\n",
       "      <td>Music Box</td>\n",
       "      <td>https://genius.com/Icd-music-box-lyrics</td>\n",
       "      <td>ICD\\n            \\n</td>\n",
       "      <td>2nk2PnWoh8U5lR6xDhDGFu:Music Box</td>\n",
       "      <td>https://genius.com/Icd-music-box-lyrics</td>\n",
       "      <td>Intro:\\nĐây là những dòng nhật kí cuối cùng\\nK...</td>\n",
       "      <td>49</td>\n",
       "      <td>NaN</td>\n",
       "      <td>0</td>\n",
       "      <td>0%</td>\n",
       "    </tr>\n",
       "    <tr>\n",
       "      <th>1</th>\n",
       "      <td>68Vj5ArAHBx2K0osGDXK4K</td>\n",
       "      <td>B-Wine</td>\n",
       "      <td>https://genius.com/artists/B-Wine</td>\n",
       "      <td>From The Ghetto</td>\n",
       "      <td>https://genius.com/B-wine-from-the-ghetto-lyrics</td>\n",
       "      <td>B-Wine\\n            \\n</td>\n",
       "      <td>68Vj5ArAHBx2K0osGDXK4K:From The Ghetto</td>\n",
       "      <td>https://genius.com/B-wine-from-the-ghetto-lyrics</td>\n",
       "      <td>Sài gòn nơi tao sinh, Phú Nhuận nơi tao lớn\\nN...</td>\n",
       "      <td>70</td>\n",
       "      <td>NaN</td>\n",
       "      <td>0</td>\n",
       "      <td>0%</td>\n",
       "    </tr>\n",
       "    <tr>\n",
       "      <th>2</th>\n",
       "      <td>53hbIxngriO3apa2SXrS29</td>\n",
       "      <td>Trung Tâm Băng Đĩa Lậu Hải Ngoại</td>\n",
       "      <td>https://genius.com/artists/Trung-Tâm-Băng-Đĩa-...</td>\n",
       "      <td>Mai</td>\n",
       "      <td>https://genius.com/Trung-tam-bang-ia-lau-hai-n...</td>\n",
       "      <td>Trung Tâm Băng Đĩa Lậu Hải Ngoại\\n            ...</td>\n",
       "      <td>53hbIxngriO3apa2SXrS29:Mai</td>\n",
       "      <td>https://genius.com/Trung-tam-bang-ia-lau-hai-n...</td>\n",
       "      <td>Em\\nAnswer\\nComment\\nĐi chứ\\nƠ kìa\\nSao em\\nNg...</td>\n",
       "      <td>88</td>\n",
       "      <td>Anh dang yeu</td>\n",
       "      <td>1</td>\n",
       "      <td>1%</td>\n",
       "    </tr>\n",
       "    <tr>\n",
       "      <th>3</th>\n",
       "      <td>53hbIxngriO3apa2SXrS29</td>\n",
       "      <td>Trung Tâm Băng Đĩa Lậu Hải Ngoại</td>\n",
       "      <td>https://genius.com/artists/Trung-Tâm-Băng-Đĩa-...</td>\n",
       "      <td>Mai</td>\n",
       "      <td>https://genius.com/Trung-tam-bang-ia-lau-hai-n...</td>\n",
       "      <td>Trung Tâm Băng Đĩa Lậu Hải Ngoại\\n            ...</td>\n",
       "      <td>53hbIxngriO3apa2SXrS29:Mai</td>\n",
       "      <td>https://genius.com/Trung-tam-bang-ia-lau-hai-n...</td>\n",
       "      <td>Em\\nAnswer\\nComment\\nĐi chứ\\nƠ kìa\\nSao em\\nNg...</td>\n",
       "      <td>88</td>\n",
       "      <td>Anh yeu em</td>\n",
       "      <td>1</td>\n",
       "      <td>1%</td>\n",
       "    </tr>\n",
       "    <tr>\n",
       "      <th>4</th>\n",
       "      <td>53hbIxngriO3apa2SXrS29</td>\n",
       "      <td>Trung Tâm Băng Đĩa Lậu Hải Ngoại</td>\n",
       "      <td>https://genius.com/artists/Trung-Tâm-Băng-Đĩa-...</td>\n",
       "      <td>Mai</td>\n",
       "      <td>https://genius.com/Trung-tam-bang-ia-lau-hai-n...</td>\n",
       "      <td>Trung Tâm Băng Đĩa Lậu Hải Ngoại\\n            ...</td>\n",
       "      <td>53hbIxngriO3apa2SXrS29:Mai</td>\n",
       "      <td>https://genius.com/Trung-tam-bang-ia-lau-hai-n...</td>\n",
       "      <td>Em\\nAnswer\\nComment\\nĐi chứ\\nƠ kìa\\nSao em\\nNg...</td>\n",
       "      <td>88</td>\n",
       "      <td>Chao mi ao mi ao mi ao mi ao</td>\n",
       "      <td>1</td>\n",
       "      <td>1%</td>\n",
       "    </tr>\n",
       "    <tr>\n",
       "      <th>...</th>\n",
       "      <td>...</td>\n",
       "      <td>...</td>\n",
       "      <td>...</td>\n",
       "      <td>...</td>\n",
       "      <td>...</td>\n",
       "      <td>...</td>\n",
       "      <td>...</td>\n",
       "      <td>...</td>\n",
       "      <td>...</td>\n",
       "      <td>...</td>\n",
       "      <td>...</td>\n",
       "      <td>...</td>\n",
       "      <td>...</td>\n",
       "    </tr>\n",
       "    <tr>\n",
       "      <th>3920</th>\n",
       "      <td>30eFAXoU2kTjJPf2cq80B8</td>\n",
       "      <td>WEAN</td>\n",
       "      <td>https://genius.com/artists/WEAN</td>\n",
       "      <td>Retrograde</td>\n",
       "      <td>https://genius.com/Wean-retrograde-lyrics</td>\n",
       "      <td>Wean\\n            \\n</td>\n",
       "      <td>30eFAXoU2kTjJPf2cq80B8:Retrograde</td>\n",
       "      <td>https://genius.com/Wean-retrograde-lyrics</td>\n",
       "      <td>Last night I dreamt of you my friend\\nOf how y...</td>\n",
       "      <td>37</td>\n",
       "      <td>your brown eyes</td>\n",
       "      <td>1</td>\n",
       "      <td>3%</td>\n",
       "    </tr>\n",
       "    <tr>\n",
       "      <th>3921</th>\n",
       "      <td>30eFAXoU2kTjJPf2cq80B8</td>\n",
       "      <td>WEAN</td>\n",
       "      <td>https://genius.com/artists/WEAN</td>\n",
       "      <td>Retrograde</td>\n",
       "      <td>https://genius.com/Wean-retrograde-lyrics</td>\n",
       "      <td>Wean\\n            \\n</td>\n",
       "      <td>30eFAXoU2kTjJPf2cq80B8:Retrograde</td>\n",
       "      <td>https://genius.com/Wean-retrograde-lyrics</td>\n",
       "      <td>Last night I dreamt of you my friend\\nOf how y...</td>\n",
       "      <td>37</td>\n",
       "      <td>is a naked bleeding heart of gold</td>\n",
       "      <td>1</td>\n",
       "      <td>3%</td>\n",
       "    </tr>\n",
       "    <tr>\n",
       "      <th>3922</th>\n",
       "      <td>30eFAXoU2kTjJPf2cq80B8</td>\n",
       "      <td>WEAN</td>\n",
       "      <td>https://genius.com/artists/WEAN</td>\n",
       "      <td>Retrograde</td>\n",
       "      <td>https://genius.com/Wean-retrograde-lyrics</td>\n",
       "      <td>Wean\\n            \\n</td>\n",
       "      <td>30eFAXoU2kTjJPf2cq80B8:Retrograde</td>\n",
       "      <td>https://genius.com/Wean-retrograde-lyrics</td>\n",
       "      <td>Last night I dreamt of you my friend\\nOf how y...</td>\n",
       "      <td>37</td>\n",
       "      <td>I know</td>\n",
       "      <td>1</td>\n",
       "      <td>3%</td>\n",
       "    </tr>\n",
       "    <tr>\n",
       "      <th>3923</th>\n",
       "      <td>30eFAXoU2kTjJPf2cq80B8</td>\n",
       "      <td>WEAN</td>\n",
       "      <td>https://genius.com/artists/WEAN</td>\n",
       "      <td>Retrograde</td>\n",
       "      <td>https://genius.com/Wean-retrograde-lyrics</td>\n",
       "      <td>Wean\\n            \\n</td>\n",
       "      <td>30eFAXoU2kTjJPf2cq80B8:Retrograde</td>\n",
       "      <td>https://genius.com/Wean-retrograde-lyrics</td>\n",
       "      <td>Last night I dreamt of you my friend\\nOf how y...</td>\n",
       "      <td>37</td>\n",
       "      <td>That's how we feel) (Ah ah ah</td>\n",
       "      <td>1</td>\n",
       "      <td>3%</td>\n",
       "    </tr>\n",
       "    <tr>\n",
       "      <th>3924</th>\n",
       "      <td>0vTUa2hbNHke3omoGxuKFm</td>\n",
       "      <td>Linh Cáo</td>\n",
       "      <td>https://genius.com/artists/Linh-Cáo</td>\n",
       "      <td>Đưa Nhau Đi Trốn (Chill Version)</td>\n",
       "      <td>https://genius.com/En-ua-nhau-i-tron-chill-ver...</td>\n",
       "      <td>Linh Cáo\\n            \\n</td>\n",
       "      <td>0vTUa2hbNHke3omoGxuKFm:Đưa Nhau Đi Trốn (Chill...</td>\n",
       "      <td>https://genius.com/En-ua-nhau-i-tron-chill-ver...</td>\n",
       "      <td>Bố em hút rất nhiều thuốc\\nMẹ em khóc mắt lệ n...</td>\n",
       "      <td>69</td>\n",
       "      <td>NaN</td>\n",
       "      <td>0</td>\n",
       "      <td>0%</td>\n",
       "    </tr>\n",
       "  </tbody>\n",
       "</table>\n",
       "<p>2926 rows × 13 columns</p>\n",
       "</div>"
      ],
      "text/plain": [
       "                         uri                              name  \\\n",
       "0     2nk2PnWoh8U5lR6xDhDGFu                               ICD   \n",
       "1     68Vj5ArAHBx2K0osGDXK4K                            B-Wine   \n",
       "2     53hbIxngriO3apa2SXrS29  Trung Tâm Băng Đĩa Lậu Hải Ngoại   \n",
       "3     53hbIxngriO3apa2SXrS29  Trung Tâm Băng Đĩa Lậu Hải Ngoại   \n",
       "4     53hbIxngriO3apa2SXrS29  Trung Tâm Băng Đĩa Lậu Hải Ngoại   \n",
       "...                      ...                               ...   \n",
       "3920  30eFAXoU2kTjJPf2cq80B8                              WEAN   \n",
       "3921  30eFAXoU2kTjJPf2cq80B8                              WEAN   \n",
       "3922  30eFAXoU2kTjJPf2cq80B8                              WEAN   \n",
       "3923  30eFAXoU2kTjJPf2cq80B8                              WEAN   \n",
       "3924  0vTUa2hbNHke3omoGxuKFm                          Linh Cáo   \n",
       "\n",
       "                                             genius_url  \\\n",
       "0                        https://genius.com/artists/ICD   \n",
       "1                     https://genius.com/artists/B-Wine   \n",
       "2     https://genius.com/artists/Trung-Tâm-Băng-Đĩa-...   \n",
       "3     https://genius.com/artists/Trung-Tâm-Băng-Đĩa-...   \n",
       "4     https://genius.com/artists/Trung-Tâm-Băng-Đĩa-...   \n",
       "...                                                 ...   \n",
       "3920                    https://genius.com/artists/WEAN   \n",
       "3921                    https://genius.com/artists/WEAN   \n",
       "3922                    https://genius.com/artists/WEAN   \n",
       "3923                    https://genius.com/artists/WEAN   \n",
       "3924                https://genius.com/artists/Linh-Cáo   \n",
       "\n",
       "                                tracks  \\\n",
       "0                            Music Box   \n",
       "1                      From The Ghetto   \n",
       "2                                  Mai   \n",
       "3                                  Mai   \n",
       "4                                  Mai   \n",
       "...                                ...   \n",
       "3920                        Retrograde   \n",
       "3921                        Retrograde   \n",
       "3922                        Retrograde   \n",
       "3923                        Retrograde   \n",
       "3924  Đưa Nhau Đi Trốn (Chill Version)   \n",
       "\n",
       "                                             tracks_url  \\\n",
       "0               https://genius.com/Icd-music-box-lyrics   \n",
       "1      https://genius.com/B-wine-from-the-ghetto-lyrics   \n",
       "2     https://genius.com/Trung-tam-bang-ia-lau-hai-n...   \n",
       "3     https://genius.com/Trung-tam-bang-ia-lau-hai-n...   \n",
       "4     https://genius.com/Trung-tam-bang-ia-lau-hai-n...   \n",
       "...                                                 ...   \n",
       "3920          https://genius.com/Wean-retrograde-lyrics   \n",
       "3921          https://genius.com/Wean-retrograde-lyrics   \n",
       "3922          https://genius.com/Wean-retrograde-lyrics   \n",
       "3923          https://genius.com/Wean-retrograde-lyrics   \n",
       "3924  https://genius.com/En-ua-nhau-i-tron-chill-ver...   \n",
       "\n",
       "                                            genius_name  \\\n",
       "0                         ICD\\n            \\n             \n",
       "1                      B-Wine\\n            \\n             \n",
       "2     Trung Tâm Băng Đĩa Lậu Hải Ngoại\\n            ...   \n",
       "3     Trung Tâm Băng Đĩa Lậu Hải Ngoại\\n            ...   \n",
       "4     Trung Tâm Băng Đĩa Lậu Hải Ngoại\\n            ...   \n",
       "...                                                 ...   \n",
       "3920                     Wean\\n            \\n             \n",
       "3921                     Wean\\n            \\n             \n",
       "3922                     Wean\\n            \\n             \n",
       "3923                     Wean\\n            \\n             \n",
       "3924                 Linh Cáo\\n            \\n             \n",
       "\n",
       "                                               track_id  \\\n",
       "0                      2nk2PnWoh8U5lR6xDhDGFu:Music Box   \n",
       "1                68Vj5ArAHBx2K0osGDXK4K:From The Ghetto   \n",
       "2                            53hbIxngriO3apa2SXrS29:Mai   \n",
       "3                            53hbIxngriO3apa2SXrS29:Mai   \n",
       "4                            53hbIxngriO3apa2SXrS29:Mai   \n",
       "...                                                 ...   \n",
       "3920                  30eFAXoU2kTjJPf2cq80B8:Retrograde   \n",
       "3921                  30eFAXoU2kTjJPf2cq80B8:Retrograde   \n",
       "3922                  30eFAXoU2kTjJPf2cq80B8:Retrograde   \n",
       "3923                  30eFAXoU2kTjJPf2cq80B8:Retrograde   \n",
       "3924  0vTUa2hbNHke3omoGxuKFm:Đưa Nhau Đi Trốn (Chill...   \n",
       "\n",
       "                                                    url  \\\n",
       "0               https://genius.com/Icd-music-box-lyrics   \n",
       "1      https://genius.com/B-wine-from-the-ghetto-lyrics   \n",
       "2     https://genius.com/Trung-tam-bang-ia-lau-hai-n...   \n",
       "3     https://genius.com/Trung-tam-bang-ia-lau-hai-n...   \n",
       "4     https://genius.com/Trung-tam-bang-ia-lau-hai-n...   \n",
       "...                                                 ...   \n",
       "3920          https://genius.com/Wean-retrograde-lyrics   \n",
       "3921          https://genius.com/Wean-retrograde-lyrics   \n",
       "3922          https://genius.com/Wean-retrograde-lyrics   \n",
       "3923          https://genius.com/Wean-retrograde-lyrics   \n",
       "3924  https://genius.com/En-ua-nhau-i-tron-chill-ver...   \n",
       "\n",
       "                                                 lyrics  total_lines  \\\n",
       "0     Intro:\\nĐây là những dòng nhật kí cuối cùng\\nK...           49   \n",
       "1     Sài gòn nơi tao sinh, Phú Nhuận nơi tao lớn\\nN...           70   \n",
       "2     Em\\nAnswer\\nComment\\nĐi chứ\\nƠ kìa\\nSao em\\nNg...           88   \n",
       "3     Em\\nAnswer\\nComment\\nĐi chứ\\nƠ kìa\\nSao em\\nNg...           88   \n",
       "4     Em\\nAnswer\\nComment\\nĐi chứ\\nƠ kìa\\nSao em\\nNg...           88   \n",
       "...                                                 ...          ...   \n",
       "3920  Last night I dreamt of you my friend\\nOf how y...           37   \n",
       "3921  Last night I dreamt of you my friend\\nOf how y...           37   \n",
       "3922  Last night I dreamt of you my friend\\nOf how y...           37   \n",
       "3923  Last night I dreamt of you my friend\\nOf how y...           37   \n",
       "3924  Bố em hút rất nhiều thuốc\\nMẹ em khóc mắt lệ n...           69   \n",
       "\n",
       "                                 ad_lib  count_adlib pct_adlib  \n",
       "0                                   NaN            0        0%  \n",
       "1                                   NaN            0        0%  \n",
       "2                          Anh dang yeu            1        1%  \n",
       "3                            Anh yeu em            1        1%  \n",
       "4          Chao mi ao mi ao mi ao mi ao            1        1%  \n",
       "...                                 ...          ...       ...  \n",
       "3920                    your brown eyes            1        3%  \n",
       "3921  is a naked bleeding heart of gold            1        3%  \n",
       "3922                             I know            1        3%  \n",
       "3923      That's how we feel) (Ah ah ah            1        3%  \n",
       "3924                                NaN            0        0%  \n",
       "\n",
       "[2926 rows x 13 columns]"
      ]
     },
     "execution_count": 10,
     "metadata": {},
     "output_type": "execute_result"
    }
   ],
   "source": [
    "df_artists_lyrics"
   ]
  },
  {
   "cell_type": "code",
   "execution_count": 86,
   "id": "2706fa06-b1d3-441f-8897-1ddad302ba3d",
   "metadata": {},
   "outputs": [],
   "source": [
    "def follower_group(followers):\n",
    "    if followers > 500000:\n",
    "        group = '+500k followers'\n",
    "    elif followers >= 100000 and followers < 500000:\n",
    "        group = '100k-500k followers'\n",
    "    elif followers >=50000 and followers < 100000:\n",
    "        group = '50k-100k followers'\n",
    "    else:\n",
    "        group = 'Under 50k followers'\n",
    "    return group"
   ]
  },
  {
   "cell_type": "code",
   "execution_count": 87,
   "id": "432f61c8-cf9b-4d5a-9e45-ecc9e799946b",
   "metadata": {},
   "outputs": [],
   "source": [
    "ad_lib['follower_grouped'] = ad_lib['followers'].apply(follower_group)"
   ]
  },
  {
   "cell_type": "code",
   "execution_count": 93,
   "id": "dbe4631a-e8a3-447d-ac23-6a784e4b14b4",
   "metadata": {},
   "outputs": [],
   "source": [
    "ad_lib = ad_lib[(ad_lib['count_adlib']!=0) & (ad_lib['followers'] > 5000)]\n",
    "artist_uris = ad_lib['uri'].to_list()\n",
    "# .to_csv('adlib_total_count.csv', encoding='utf-8-sig')"
   ]
  },
  {
   "cell_type": "markdown",
   "id": "9b0794f4-8f34-46d4-a32a-9c90c72df7d9",
   "metadata": {},
   "source": [
    "## 6. Get images for bubble chart"
   ]
  },
  {
   "cell_type": "code",
   "execution_count": 100,
   "id": "33fe979d-494c-47f8-bd84-26aed3e81ce8",
   "metadata": {},
   "outputs": [],
   "source": [
    "# , is %2C\n",
    "# https://api.spotify.com/v1/artists?ids=2CIMQHirSU0MQqyYHq0eOx%2C57dN52uHvrHOxijzpIgu3E%2C1vCWHaC5f2uS3yhpwWbIA6\n",
    "uri_1_50 = '%2C'.join(uri_1_50)"
   ]
  },
  {
   "cell_type": "code",
   "execution_count": 106,
   "id": "46fbca8e-1a51-495b-9be8-2bf6dc8569fc",
   "metadata": {},
   "outputs": [],
   "source": [
    "image_url = f'https://api.spotify.com/v1/artists?ids={uri_1_50}'\n",
    "image_json = requests.get(image_url, headers=headers)\n",
    "image_json = image_json.json()"
   ]
  },
  {
   "cell_type": "code",
   "execution_count": 131,
   "id": "65045d7d-bd2d-47c6-a5e5-f3edb1ed8154",
   "metadata": {},
   "outputs": [],
   "source": [
    "df_images = pd.DataFrame(artists_images)"
   ]
  },
  {
   "cell_type": "code",
   "execution_count": 128,
   "id": "b1c2ae66-d602-401c-b7d4-49cbda0c327c",
   "metadata": {},
   "outputs": [],
   "source": [
    "artists_images = []\n",
    "for artist in image_json['artists']:\n",
    "    images = {'name': None,\n",
    "              'uri': None,\n",
    "             '640px': None}\n",
    "    images['name'] = artist['name']\n",
    "    images['uri'] = artist['id']\n",
    "    for image in artist['images']:\n",
    "        for k,v in image.items():\n",
    "            if v==640 and v not in artists_images:\n",
    "                images['640px'] = image['url']\n",
    "    # images['640px'] = [image['url'][0] for image in artists['images']]\n",
    "    artists_images.append(images)"
   ]
  },
  {
   "cell_type": "code",
   "execution_count": 133,
   "id": "5786bf50-f8a2-46a0-9475-f1a43cb6450a",
   "metadata": {},
   "outputs": [],
   "source": [
    "ad_lib = ad_lib.merge(df_images[['uri', '640px']], on='uri', how='inner')"
   ]
  },
  {
   "cell_type": "code",
   "execution_count": 136,
   "id": "904b3c27-a969-442b-a1ef-aae1d15deb09",
   "metadata": {},
   "outputs": [],
   "source": [
    "ad_lib.to_csv('adlib_total_images.csv', encoding='utf-8-sig')"
   ]
  },
  {
   "cell_type": "code",
   "execution_count": 34,
   "id": "57668737-6256-4e9e-8dcb-c9ca2e4e6813",
   "metadata": {},
   "outputs": [],
   "source": [
    "def format_adlib(adlib):\n",
    "    adlib = str(adlib)\n",
    "    adlib=adlib.lower()\n",
    "    adlib=adlib.strip()\n",
    "    if bool(re.search('yea?h', adlib)) ==True:\n",
    "    # adlib in ['yeah', 'yah', 'yuh']:\n",
    "        adlib = 'yeah-type'\n",
    "    # elif adlib in ['ey', 'ay', 'hey', 'eh']:\n",
    "    #     adlib = 'hey/eh-type'\n",
    "    # elif bool(re.search('oh', adlib)) is True:\n",
    "    #     ad_lib = 'oh-type'\n",
    "    # elif adlib in ['huh', 'hah']:\n",
    "    #     ad_lib = 'ah-type'\n",
    "    return adlib\n",
    "\n",
    "df_artists_lyrics['ad_lib_type'] = df_artists_lyrics['ad_lib'].apply(format_adlib)\n",
    "# df_artists_lyrics.groupby(['ad_lib']).count_adlib.sum().reset_index().sort_values(by=['count_adlib'], ascending=False)\n",
    "# .to_csv('adlib_by_artist.csv', encoding='utf-8-sig')"
   ]
  },
  {
   "cell_type": "code",
   "execution_count": 33,
   "id": "57e719d5-b006-46ed-bb07-d8a148e8b66c",
   "metadata": {},
   "outputs": [
    {
     "data": {
      "text/plain": [
       "True"
      ]
     },
     "execution_count": 33,
     "metadata": {},
     "output_type": "execute_result"
    }
   ],
   "source": [
    "# 'oh' in ['ooh', 'oh-oh-oh']\n",
    "string = 'oh'\n",
    "string2 = 'ooh'\n",
    "bool(re.search('oh', 'oh-oh-oh'))"
   ]
  },
  {
   "cell_type": "code",
   "execution_count": 35,
   "id": "9cb04a41-c0b1-4ee4-aa6b-b53383cc3b90",
   "metadata": {},
   "outputs": [],
   "source": [
    "df_artists_lyrics['ad_lib_type'] = df_artists_lyrics['ad_lib'].apply(format_adlib)"
   ]
  },
  {
   "cell_type": "code",
   "execution_count": 32,
   "id": "8d6197c8-800a-4746-9924-e135e85bafb1",
   "metadata": {},
   "outputs": [
    {
     "data": {
      "text/html": [
       "<div>\n",
       "<style scoped>\n",
       "    .dataframe tbody tr th:only-of-type {\n",
       "        vertical-align: middle;\n",
       "    }\n",
       "\n",
       "    .dataframe tbody tr th {\n",
       "        vertical-align: top;\n",
       "    }\n",
       "\n",
       "    .dataframe thead th {\n",
       "        text-align: right;\n",
       "    }\n",
       "</style>\n",
       "<table border=\"1\" class=\"dataframe\">\n",
       "  <thead>\n",
       "    <tr style=\"text-align: right;\">\n",
       "      <th></th>\n",
       "      <th>uri</th>\n",
       "      <th>name</th>\n",
       "      <th>genius_url</th>\n",
       "      <th>tracks</th>\n",
       "      <th>tracks_url</th>\n",
       "      <th>genius_name</th>\n",
       "      <th>track_id</th>\n",
       "      <th>url</th>\n",
       "      <th>lyrics</th>\n",
       "      <th>total_lines</th>\n",
       "      <th>ad_lib</th>\n",
       "      <th>count_adlib</th>\n",
       "      <th>pct_adlib</th>\n",
       "      <th>ad_lib_type</th>\n",
       "    </tr>\n",
       "  </thead>\n",
       "  <tbody>\n",
       "    <tr>\n",
       "      <th>0</th>\n",
       "      <td>2nk2PnWoh8U5lR6xDhDGFu</td>\n",
       "      <td>ICD</td>\n",
       "      <td>https://genius.com/artists/ICD</td>\n",
       "      <td>Music Box</td>\n",
       "      <td>https://genius.com/Icd-music-box-lyrics</td>\n",
       "      <td>ICD\\n            \\n</td>\n",
       "      <td>2nk2PnWoh8U5lR6xDhDGFu:Music Box</td>\n",
       "      <td>https://genius.com/Icd-music-box-lyrics</td>\n",
       "      <td>Intro:\\nĐây là những dòng nhật kí cuối cùng\\nK...</td>\n",
       "      <td>49</td>\n",
       "      <td>NaN</td>\n",
       "      <td>0</td>\n",
       "      <td>0%</td>\n",
       "      <td>nan</td>\n",
       "    </tr>\n",
       "    <tr>\n",
       "      <th>1</th>\n",
       "      <td>68Vj5ArAHBx2K0osGDXK4K</td>\n",
       "      <td>B-Wine</td>\n",
       "      <td>https://genius.com/artists/B-Wine</td>\n",
       "      <td>From The Ghetto</td>\n",
       "      <td>https://genius.com/B-wine-from-the-ghetto-lyrics</td>\n",
       "      <td>B-Wine\\n            \\n</td>\n",
       "      <td>68Vj5ArAHBx2K0osGDXK4K:From The Ghetto</td>\n",
       "      <td>https://genius.com/B-wine-from-the-ghetto-lyrics</td>\n",
       "      <td>Sài gòn nơi tao sinh, Phú Nhuận nơi tao lớn\\nN...</td>\n",
       "      <td>70</td>\n",
       "      <td>NaN</td>\n",
       "      <td>0</td>\n",
       "      <td>0%</td>\n",
       "      <td>nan</td>\n",
       "    </tr>\n",
       "    <tr>\n",
       "      <th>2</th>\n",
       "      <td>53hbIxngriO3apa2SXrS29</td>\n",
       "      <td>Trung Tâm Băng Đĩa Lậu Hải Ngoại</td>\n",
       "      <td>https://genius.com/artists/Trung-Tâm-Băng-Đĩa-...</td>\n",
       "      <td>Mai</td>\n",
       "      <td>https://genius.com/Trung-tam-bang-ia-lau-hai-n...</td>\n",
       "      <td>Trung Tâm Băng Đĩa Lậu Hải Ngoại\\n            ...</td>\n",
       "      <td>53hbIxngriO3apa2SXrS29:Mai</td>\n",
       "      <td>https://genius.com/Trung-tam-bang-ia-lau-hai-n...</td>\n",
       "      <td>Em\\nAnswer\\nComment\\nĐi chứ\\nƠ kìa\\nSao em\\nNg...</td>\n",
       "      <td>88</td>\n",
       "      <td>Anh dang yeu</td>\n",
       "      <td>1</td>\n",
       "      <td>1%</td>\n",
       "      <td>anh dang yeu</td>\n",
       "    </tr>\n",
       "    <tr>\n",
       "      <th>3</th>\n",
       "      <td>53hbIxngriO3apa2SXrS29</td>\n",
       "      <td>Trung Tâm Băng Đĩa Lậu Hải Ngoại</td>\n",
       "      <td>https://genius.com/artists/Trung-Tâm-Băng-Đĩa-...</td>\n",
       "      <td>Mai</td>\n",
       "      <td>https://genius.com/Trung-tam-bang-ia-lau-hai-n...</td>\n",
       "      <td>Trung Tâm Băng Đĩa Lậu Hải Ngoại\\n            ...</td>\n",
       "      <td>53hbIxngriO3apa2SXrS29:Mai</td>\n",
       "      <td>https://genius.com/Trung-tam-bang-ia-lau-hai-n...</td>\n",
       "      <td>Em\\nAnswer\\nComment\\nĐi chứ\\nƠ kìa\\nSao em\\nNg...</td>\n",
       "      <td>88</td>\n",
       "      <td>Anh yeu em</td>\n",
       "      <td>1</td>\n",
       "      <td>1%</td>\n",
       "      <td>anh yeu em</td>\n",
       "    </tr>\n",
       "    <tr>\n",
       "      <th>4</th>\n",
       "      <td>53hbIxngriO3apa2SXrS29</td>\n",
       "      <td>Trung Tâm Băng Đĩa Lậu Hải Ngoại</td>\n",
       "      <td>https://genius.com/artists/Trung-Tâm-Băng-Đĩa-...</td>\n",
       "      <td>Mai</td>\n",
       "      <td>https://genius.com/Trung-tam-bang-ia-lau-hai-n...</td>\n",
       "      <td>Trung Tâm Băng Đĩa Lậu Hải Ngoại\\n            ...</td>\n",
       "      <td>53hbIxngriO3apa2SXrS29:Mai</td>\n",
       "      <td>https://genius.com/Trung-tam-bang-ia-lau-hai-n...</td>\n",
       "      <td>Em\\nAnswer\\nComment\\nĐi chứ\\nƠ kìa\\nSao em\\nNg...</td>\n",
       "      <td>88</td>\n",
       "      <td>Chao mi ao mi ao mi ao mi ao</td>\n",
       "      <td>1</td>\n",
       "      <td>1%</td>\n",
       "      <td>chao mi ao mi ao mi ao mi ao</td>\n",
       "    </tr>\n",
       "  </tbody>\n",
       "</table>\n",
       "</div>"
      ],
      "text/plain": [
       "                      uri                              name  \\\n",
       "0  2nk2PnWoh8U5lR6xDhDGFu                               ICD   \n",
       "1  68Vj5ArAHBx2K0osGDXK4K                            B-Wine   \n",
       "2  53hbIxngriO3apa2SXrS29  Trung Tâm Băng Đĩa Lậu Hải Ngoại   \n",
       "3  53hbIxngriO3apa2SXrS29  Trung Tâm Băng Đĩa Lậu Hải Ngoại   \n",
       "4  53hbIxngriO3apa2SXrS29  Trung Tâm Băng Đĩa Lậu Hải Ngoại   \n",
       "\n",
       "                                          genius_url           tracks  \\\n",
       "0                     https://genius.com/artists/ICD        Music Box   \n",
       "1                  https://genius.com/artists/B-Wine  From The Ghetto   \n",
       "2  https://genius.com/artists/Trung-Tâm-Băng-Đĩa-...              Mai   \n",
       "3  https://genius.com/artists/Trung-Tâm-Băng-Đĩa-...              Mai   \n",
       "4  https://genius.com/artists/Trung-Tâm-Băng-Đĩa-...              Mai   \n",
       "\n",
       "                                          tracks_url  \\\n",
       "0            https://genius.com/Icd-music-box-lyrics   \n",
       "1   https://genius.com/B-wine-from-the-ghetto-lyrics   \n",
       "2  https://genius.com/Trung-tam-bang-ia-lau-hai-n...   \n",
       "3  https://genius.com/Trung-tam-bang-ia-lau-hai-n...   \n",
       "4  https://genius.com/Trung-tam-bang-ia-lau-hai-n...   \n",
       "\n",
       "                                         genius_name  \\\n",
       "0                      ICD\\n            \\n             \n",
       "1                   B-Wine\\n            \\n             \n",
       "2  Trung Tâm Băng Đĩa Lậu Hải Ngoại\\n            ...   \n",
       "3  Trung Tâm Băng Đĩa Lậu Hải Ngoại\\n            ...   \n",
       "4  Trung Tâm Băng Đĩa Lậu Hải Ngoại\\n            ...   \n",
       "\n",
       "                                 track_id  \\\n",
       "0        2nk2PnWoh8U5lR6xDhDGFu:Music Box   \n",
       "1  68Vj5ArAHBx2K0osGDXK4K:From The Ghetto   \n",
       "2              53hbIxngriO3apa2SXrS29:Mai   \n",
       "3              53hbIxngriO3apa2SXrS29:Mai   \n",
       "4              53hbIxngriO3apa2SXrS29:Mai   \n",
       "\n",
       "                                                 url  \\\n",
       "0            https://genius.com/Icd-music-box-lyrics   \n",
       "1   https://genius.com/B-wine-from-the-ghetto-lyrics   \n",
       "2  https://genius.com/Trung-tam-bang-ia-lau-hai-n...   \n",
       "3  https://genius.com/Trung-tam-bang-ia-lau-hai-n...   \n",
       "4  https://genius.com/Trung-tam-bang-ia-lau-hai-n...   \n",
       "\n",
       "                                              lyrics  total_lines  \\\n",
       "0  Intro:\\nĐây là những dòng nhật kí cuối cùng\\nK...           49   \n",
       "1  Sài gòn nơi tao sinh, Phú Nhuận nơi tao lớn\\nN...           70   \n",
       "2  Em\\nAnswer\\nComment\\nĐi chứ\\nƠ kìa\\nSao em\\nNg...           88   \n",
       "3  Em\\nAnswer\\nComment\\nĐi chứ\\nƠ kìa\\nSao em\\nNg...           88   \n",
       "4  Em\\nAnswer\\nComment\\nĐi chứ\\nƠ kìa\\nSao em\\nNg...           88   \n",
       "\n",
       "                         ad_lib  count_adlib pct_adlib  \\\n",
       "0                           NaN            0        0%   \n",
       "1                           NaN            0        0%   \n",
       "2                  Anh dang yeu            1        1%   \n",
       "3                    Anh yeu em            1        1%   \n",
       "4  Chao mi ao mi ao mi ao mi ao            1        1%   \n",
       "\n",
       "                    ad_lib_type  \n",
       "0                           nan  \n",
       "1                           nan  \n",
       "2                  anh dang yeu  \n",
       "3                    anh yeu em  \n",
       "4  chao mi ao mi ao mi ao mi ao  "
      ]
     },
     "execution_count": 32,
     "metadata": {},
     "output_type": "execute_result"
    }
   ],
   "source": [
    "df_artists_lyrics.head()"
   ]
  },
  {
   "cell_type": "code",
   "execution_count": 36,
   "id": "04f5c775-50ab-429f-983e-b31b18b701ec",
   "metadata": {},
   "outputs": [
    {
     "data": {
      "text/html": [
       "<div>\n",
       "<style scoped>\n",
       "    .dataframe tbody tr th:only-of-type {\n",
       "        vertical-align: middle;\n",
       "    }\n",
       "\n",
       "    .dataframe tbody tr th {\n",
       "        vertical-align: top;\n",
       "    }\n",
       "\n",
       "    .dataframe thead th {\n",
       "        text-align: right;\n",
       "    }\n",
       "</style>\n",
       "<table border=\"1\" class=\"dataframe\">\n",
       "  <thead>\n",
       "    <tr style=\"text-align: right;\">\n",
       "      <th></th>\n",
       "      <th>ad_lib_type</th>\n",
       "      <th>count_adlib</th>\n",
       "    </tr>\n",
       "  </thead>\n",
       "  <tbody>\n",
       "    <tr>\n",
       "      <th>1275</th>\n",
       "      <td>yeah-type</td>\n",
       "      <td>317</td>\n",
       "    </tr>\n",
       "    <tr>\n",
       "      <th>462</th>\n",
       "      <td>hey/eh-type</td>\n",
       "      <td>105</td>\n",
       "    </tr>\n",
       "    <tr>\n",
       "      <th>1262</th>\n",
       "      <td>yah</td>\n",
       "      <td>76</td>\n",
       "    </tr>\n",
       "    <tr>\n",
       "      <th>796</th>\n",
       "      <td>no</td>\n",
       "      <td>28</td>\n",
       "    </tr>\n",
       "    <tr>\n",
       "      <th>877</th>\n",
       "      <td>ooh</td>\n",
       "      <td>26</td>\n",
       "    </tr>\n",
       "    <tr>\n",
       "      <th>837</th>\n",
       "      <td>oh</td>\n",
       "      <td>23</td>\n",
       "    </tr>\n",
       "    <tr>\n",
       "      <th>17</th>\n",
       "      <td>ah</td>\n",
       "      <td>23</td>\n",
       "    </tr>\n",
       "    <tr>\n",
       "      <th>1041</th>\n",
       "      <td>that's right</td>\n",
       "      <td>22</td>\n",
       "    </tr>\n",
       "    <tr>\n",
       "      <th>854</th>\n",
       "      <td>ok</td>\n",
       "      <td>20</td>\n",
       "    </tr>\n",
       "    <tr>\n",
       "      <th>111</th>\n",
       "      <td>bitch</td>\n",
       "      <td>19</td>\n",
       "    </tr>\n",
       "    <tr>\n",
       "      <th>484</th>\n",
       "      <td>huh</td>\n",
       "      <td>18</td>\n",
       "    </tr>\n",
       "    <tr>\n",
       "      <th>288</th>\n",
       "      <td>datwassup</td>\n",
       "      <td>18</td>\n",
       "    </tr>\n",
       "    <tr>\n",
       "      <th>1258</th>\n",
       "      <td>xời</td>\n",
       "      <td>17</td>\n",
       "    </tr>\n",
       "    <tr>\n",
       "      <th>1295</th>\n",
       "      <td>yuh</td>\n",
       "      <td>17</td>\n",
       "    </tr>\n",
       "    <tr>\n",
       "      <th>378</th>\n",
       "      <td>follow me</td>\n",
       "      <td>16</td>\n",
       "    </tr>\n",
       "    <tr>\n",
       "      <th>579</th>\n",
       "      <td>khi tao chơi chơi chơi</td>\n",
       "      <td>16</td>\n",
       "    </tr>\n",
       "    <tr>\n",
       "      <th>429</th>\n",
       "      <td>hah</td>\n",
       "      <td>16</td>\n",
       "    </tr>\n",
       "    <tr>\n",
       "      <th>1277</th>\n",
       "      <td>yeet</td>\n",
       "      <td>16</td>\n",
       "    </tr>\n",
       "    <tr>\n",
       "      <th>422</th>\n",
       "      <td>ha</td>\n",
       "      <td>16</td>\n",
       "    </tr>\n",
       "    <tr>\n",
       "      <th>850</th>\n",
       "      <td>oh-oh-oh</td>\n",
       "      <td>16</td>\n",
       "    </tr>\n",
       "  </tbody>\n",
       "</table>\n",
       "</div>"
      ],
      "text/plain": [
       "                 ad_lib_type  count_adlib\n",
       "1275               yeah-type          317\n",
       "462              hey/eh-type          105\n",
       "1262                     yah           76\n",
       "796                       no           28\n",
       "877                      ooh           26\n",
       "837                       oh           23\n",
       "17                        ah           23\n",
       "1041            that's right           22\n",
       "854                       ok           20\n",
       "111                    bitch           19\n",
       "484                      huh           18\n",
       "288                datwassup           18\n",
       "1258                     xời           17\n",
       "1295                     yuh           17\n",
       "378                follow me           16\n",
       "579   khi tao chơi chơi chơi           16\n",
       "429                      hah           16\n",
       "1277                    yeet           16\n",
       "422                       ha           16\n",
       "850                 oh-oh-oh           16"
      ]
     },
     "execution_count": 36,
     "metadata": {},
     "output_type": "execute_result"
    }
   ],
   "source": [
    "df_artists_lyrics.groupby(['ad_lib_type']).count_adlib.sum().reset_index().sort_values(by=['count_adlib'], ascending=False).head(20)\\\n",
    "# .to_csv('adlib_freq.csv', encoding='utf-8-sig', index=False)"
   ]
  },
  {
   "cell_type": "code",
   "execution_count": 193,
   "id": "229b393e-8491-4ea9-a401-29c7a721b58f",
   "metadata": {},
   "outputs": [
    {
     "data": {
      "text/html": [
       "<div>\n",
       "<style scoped>\n",
       "    .dataframe tbody tr th:only-of-type {\n",
       "        vertical-align: middle;\n",
       "    }\n",
       "\n",
       "    .dataframe tbody tr th {\n",
       "        vertical-align: top;\n",
       "    }\n",
       "\n",
       "    .dataframe thead th {\n",
       "        text-align: right;\n",
       "    }\n",
       "</style>\n",
       "<table border=\"1\" class=\"dataframe\">\n",
       "  <thead>\n",
       "    <tr style=\"text-align: right;\">\n",
       "      <th></th>\n",
       "      <th>uri</th>\n",
       "      <th>name</th>\n",
       "      <th>genius_url</th>\n",
       "      <th>tracks</th>\n",
       "      <th>tracks_url</th>\n",
       "      <th>genius_name</th>\n",
       "      <th>track_id</th>\n",
       "      <th>url</th>\n",
       "      <th>lyrics</th>\n",
       "      <th>total_lines</th>\n",
       "      <th>ad_lib</th>\n",
       "      <th>count_adlib</th>\n",
       "      <th>pct_adlib</th>\n",
       "      <th>ad_lib_type</th>\n",
       "    </tr>\n",
       "  </thead>\n",
       "  <tbody>\n",
       "    <tr>\n",
       "      <th>1524</th>\n",
       "      <td>6TITnFVRcl0AcZ4syE7Toe</td>\n",
       "      <td>Low G</td>\n",
       "      <td>https://genius.com/artists/Low-g-vietnam</td>\n",
       "      <td>Okeokeoke</td>\n",
       "      <td>https://genius.com/Low-g-vietnam-okeokeoke-lyrics</td>\n",
       "      <td>Low G (Vietnam)\\n            \\n</td>\n",
       "      <td>6TITnFVRcl0AcZ4syE7Toe:Okeokeoke</td>\n",
       "      <td>https://genius.com/Low-g-vietnam-okeokeoke-lyrics</td>\n",
       "      <td>Fantom\\nYeah, uh\\nOke, oke, oke\\nOkeokeoke, và...</td>\n",
       "      <td>59</td>\n",
       "      <td>xời</td>\n",
       "      <td>3</td>\n",
       "      <td>5%</td>\n",
       "      <td>xời</td>\n",
       "    </tr>\n",
       "    <tr>\n",
       "      <th>1941</th>\n",
       "      <td>6TITnFVRcl0AcZ4syE7Toe</td>\n",
       "      <td>Low G</td>\n",
       "      <td>https://genius.com/artists/Low-g-vietnam</td>\n",
       "      <td>Thủ Đô Cypher</td>\n",
       "      <td>https://genius.com/Beckstage-x-bitis-hunter-th...</td>\n",
       "      <td>Low G (Vietnam)\\n            \\n</td>\n",
       "      <td>6TITnFVRcl0AcZ4syE7Toe:Thủ Đô Cypher</td>\n",
       "      <td>https://genius.com/Beckstage-x-bitis-hunter-th...</td>\n",
       "      <td>Hà Nội thứ 7 phải lên đồ\\nĐi xem dân tổ vỉa bê...</td>\n",
       "      <td>88</td>\n",
       "      <td>xời</td>\n",
       "      <td>1</td>\n",
       "      <td>1%</td>\n",
       "      <td>xời</td>\n",
       "    </tr>\n",
       "    <tr>\n",
       "      <th>1942</th>\n",
       "      <td>1zSv9qZANOWB4HRE8sxeTL</td>\n",
       "      <td>RPT MCK</td>\n",
       "      <td>https://genius.com/artists/RPT-MCK</td>\n",
       "      <td>Thủ Đô Cypher</td>\n",
       "      <td>https://genius.com/Beckstage-x-bitis-hunter-th...</td>\n",
       "      <td>RPT MCK\\n            \\n</td>\n",
       "      <td>1zSv9qZANOWB4HRE8sxeTL:Thủ Đô Cypher</td>\n",
       "      <td>https://genius.com/Beckstage-x-bitis-hunter-th...</td>\n",
       "      <td>Hà Nội thứ 7 phải lên đồ\\nĐi xem dân tổ vỉa bê...</td>\n",
       "      <td>88</td>\n",
       "      <td>xời</td>\n",
       "      <td>1</td>\n",
       "      <td>1%</td>\n",
       "      <td>xời</td>\n",
       "    </tr>\n",
       "    <tr>\n",
       "      <th>1943</th>\n",
       "      <td>25JRC8aMGIGBIJ5KiINv3l</td>\n",
       "      <td>RPT Orijinn</td>\n",
       "      <td>https://genius.com/artists/RPT-Orijinn</td>\n",
       "      <td>Thủ Đô Cypher</td>\n",
       "      <td>https://genius.com/Beckstage-x-bitis-hunter-th...</td>\n",
       "      <td>RPT ORIJINN\\n            \\n</td>\n",
       "      <td>25JRC8aMGIGBIJ5KiINv3l:Thủ Đô Cypher</td>\n",
       "      <td>https://genius.com/Beckstage-x-bitis-hunter-th...</td>\n",
       "      <td>Hà Nội thứ 7 phải lên đồ\\nĐi xem dân tổ vỉa bê...</td>\n",
       "      <td>88</td>\n",
       "      <td>xời</td>\n",
       "      <td>1</td>\n",
       "      <td>1%</td>\n",
       "      <td>xời</td>\n",
       "    </tr>\n",
       "    <tr>\n",
       "      <th>2713</th>\n",
       "      <td>6TITnFVRcl0AcZ4syE7Toe</td>\n",
       "      <td>Low G</td>\n",
       "      <td>https://genius.com/artists/Low-g-vietnam</td>\n",
       "      <td>Tam Giác</td>\n",
       "      <td>https://genius.com/Anh-phan-tam-giac-lyrics</td>\n",
       "      <td>Low G (Vietnam)\\n            \\n</td>\n",
       "      <td>6TITnFVRcl0AcZ4syE7Toe:Tam Giác</td>\n",
       "      <td>https://genius.com/Anh-phan-tam-giac-lyrics</td>\n",
       "      <td>*cười**thở dài*\\nWoah, woah, woah\\n*ngáp*\\nZui...</td>\n",
       "      <td>64</td>\n",
       "      <td>xời</td>\n",
       "      <td>4</td>\n",
       "      <td>6%</td>\n",
       "      <td>xời</td>\n",
       "    </tr>\n",
       "    <tr>\n",
       "      <th>2714</th>\n",
       "      <td>6Zx90B1VRgR4TB01S87duQ</td>\n",
       "      <td>Anh Phan</td>\n",
       "      <td>https://genius.com/artists/Anh-Phan</td>\n",
       "      <td>Tam Giác</td>\n",
       "      <td>https://genius.com/Anh-phan-tam-giac-lyrics</td>\n",
       "      <td>Anh Phan\\n            \\n</td>\n",
       "      <td>6Zx90B1VRgR4TB01S87duQ:Tam Giác</td>\n",
       "      <td>https://genius.com/Anh-phan-tam-giac-lyrics</td>\n",
       "      <td>*cười**thở dài*\\nWoah, woah, woah\\n*ngáp*\\nZui...</td>\n",
       "      <td>64</td>\n",
       "      <td>xời</td>\n",
       "      <td>4</td>\n",
       "      <td>6%</td>\n",
       "      <td>xời</td>\n",
       "    </tr>\n",
       "    <tr>\n",
       "      <th>3267</th>\n",
       "      <td>6TITnFVRcl0AcZ4syE7Toe</td>\n",
       "      <td>Low G</td>\n",
       "      <td>https://genius.com/artists/Low-g-vietnam</td>\n",
       "      <td>Dáng Xinh</td>\n",
       "      <td>https://genius.com/Low-g-vietnam-dang-xinh-lyrics</td>\n",
       "      <td>Low G (Vietnam)\\n            \\n</td>\n",
       "      <td>6TITnFVRcl0AcZ4syE7Toe:Dáng Xinh</td>\n",
       "      <td>https://genius.com/Low-g-vietnam-dang-xinh-lyrics</td>\n",
       "      <td>Damn Trungng\\nSmoking that purp (ay)\\nHai chân...</td>\n",
       "      <td>97</td>\n",
       "      <td>xời</td>\n",
       "      <td>3</td>\n",
       "      <td>3%</td>\n",
       "      <td>xời</td>\n",
       "    </tr>\n",
       "  </tbody>\n",
       "</table>\n",
       "</div>"
      ],
      "text/plain": [
       "                         uri         name  \\\n",
       "1524  6TITnFVRcl0AcZ4syE7Toe        Low G   \n",
       "1941  6TITnFVRcl0AcZ4syE7Toe        Low G   \n",
       "1942  1zSv9qZANOWB4HRE8sxeTL      RPT MCK   \n",
       "1943  25JRC8aMGIGBIJ5KiINv3l  RPT Orijinn   \n",
       "2713  6TITnFVRcl0AcZ4syE7Toe        Low G   \n",
       "2714  6Zx90B1VRgR4TB01S87duQ     Anh Phan   \n",
       "3267  6TITnFVRcl0AcZ4syE7Toe        Low G   \n",
       "\n",
       "                                    genius_url         tracks  \\\n",
       "1524  https://genius.com/artists/Low-g-vietnam      Okeokeoke   \n",
       "1941  https://genius.com/artists/Low-g-vietnam  Thủ Đô Cypher   \n",
       "1942        https://genius.com/artists/RPT-MCK  Thủ Đô Cypher   \n",
       "1943    https://genius.com/artists/RPT-Orijinn  Thủ Đô Cypher   \n",
       "2713  https://genius.com/artists/Low-g-vietnam       Tam Giác   \n",
       "2714       https://genius.com/artists/Anh-Phan       Tam Giác   \n",
       "3267  https://genius.com/artists/Low-g-vietnam      Dáng Xinh   \n",
       "\n",
       "                                             tracks_url  \\\n",
       "1524  https://genius.com/Low-g-vietnam-okeokeoke-lyrics   \n",
       "1941  https://genius.com/Beckstage-x-bitis-hunter-th...   \n",
       "1942  https://genius.com/Beckstage-x-bitis-hunter-th...   \n",
       "1943  https://genius.com/Beckstage-x-bitis-hunter-th...   \n",
       "2713        https://genius.com/Anh-phan-tam-giac-lyrics   \n",
       "2714        https://genius.com/Anh-phan-tam-giac-lyrics   \n",
       "3267  https://genius.com/Low-g-vietnam-dang-xinh-lyrics   \n",
       "\n",
       "                                    genius_name  \\\n",
       "1524  Low G (Vietnam)\\n            \\n             \n",
       "1941  Low G (Vietnam)\\n            \\n             \n",
       "1942          RPT MCK\\n            \\n             \n",
       "1943      RPT ORIJINN\\n            \\n             \n",
       "2713  Low G (Vietnam)\\n            \\n             \n",
       "2714         Anh Phan\\n            \\n             \n",
       "3267  Low G (Vietnam)\\n            \\n             \n",
       "\n",
       "                                  track_id  \\\n",
       "1524      6TITnFVRcl0AcZ4syE7Toe:Okeokeoke   \n",
       "1941  6TITnFVRcl0AcZ4syE7Toe:Thủ Đô Cypher   \n",
       "1942  1zSv9qZANOWB4HRE8sxeTL:Thủ Đô Cypher   \n",
       "1943  25JRC8aMGIGBIJ5KiINv3l:Thủ Đô Cypher   \n",
       "2713       6TITnFVRcl0AcZ4syE7Toe:Tam Giác   \n",
       "2714       6Zx90B1VRgR4TB01S87duQ:Tam Giác   \n",
       "3267      6TITnFVRcl0AcZ4syE7Toe:Dáng Xinh   \n",
       "\n",
       "                                                    url  \\\n",
       "1524  https://genius.com/Low-g-vietnam-okeokeoke-lyrics   \n",
       "1941  https://genius.com/Beckstage-x-bitis-hunter-th...   \n",
       "1942  https://genius.com/Beckstage-x-bitis-hunter-th...   \n",
       "1943  https://genius.com/Beckstage-x-bitis-hunter-th...   \n",
       "2713        https://genius.com/Anh-phan-tam-giac-lyrics   \n",
       "2714        https://genius.com/Anh-phan-tam-giac-lyrics   \n",
       "3267  https://genius.com/Low-g-vietnam-dang-xinh-lyrics   \n",
       "\n",
       "                                                 lyrics  total_lines ad_lib  \\\n",
       "1524  Fantom\\nYeah, uh\\nOke, oke, oke\\nOkeokeoke, và...           59    xời   \n",
       "1941  Hà Nội thứ 7 phải lên đồ\\nĐi xem dân tổ vỉa bê...           88    xời   \n",
       "1942  Hà Nội thứ 7 phải lên đồ\\nĐi xem dân tổ vỉa bê...           88    xời   \n",
       "1943  Hà Nội thứ 7 phải lên đồ\\nĐi xem dân tổ vỉa bê...           88    xời   \n",
       "2713  *cười**thở dài*\\nWoah, woah, woah\\n*ngáp*\\nZui...           64    xời   \n",
       "2714  *cười**thở dài*\\nWoah, woah, woah\\n*ngáp*\\nZui...           64    xời   \n",
       "3267  Damn Trungng\\nSmoking that purp (ay)\\nHai chân...           97    xời   \n",
       "\n",
       "      count_adlib pct_adlib ad_lib_type  \n",
       "1524            3        5%         xời  \n",
       "1941            1        1%         xời  \n",
       "1942            1        1%         xời  \n",
       "1943            1        1%         xời  \n",
       "2713            4        6%         xời  \n",
       "2714            4        6%         xời  \n",
       "3267            3        3%         xời  "
      ]
     },
     "execution_count": 193,
     "metadata": {},
     "output_type": "execute_result"
    }
   ],
   "source": [
    "df_artists_lyrics[df_artists_lyrics['ad_lib_type']=='xời']"
   ]
  },
  {
   "cell_type": "code",
   "execution_count": 1,
   "id": "61f106c1-2cff-4665-9f47-2bfec5726549",
   "metadata": {},
   "outputs": [
    {
     "ename": "NameError",
     "evalue": "name 'df_artists_lyrics' is not defined",
     "output_type": "error",
     "traceback": [
      "\u001b[1;31m---------------------------------------------------------------------------\u001b[0m",
      "\u001b[1;31mNameError\u001b[0m                                 Traceback (most recent call last)",
      "Cell \u001b[1;32mIn[1], line 2\u001b[0m\n\u001b[0;32m      1\u001b[0m \u001b[38;5;66;03m# df_artists_lyrics[df_artists_lyrics['ad_lib']=='hey, kewtiie']\u001b[39;00m\n\u001b[1;32m----> 2\u001b[0m \u001b[43mdf_artists_lyrics\u001b[49m\u001b[38;5;241m.\u001b[39mgroupby([\u001b[38;5;124m'\u001b[39m\u001b[38;5;124mad_lib_type\u001b[39m\u001b[38;5;124m'\u001b[39m])\u001b[38;5;241m.\u001b[39mgenius_url\u001b[38;5;241m.\u001b[39mcount()\u001b[38;5;241m.\u001b[39mreset_index()\u001b[38;5;241m.\u001b[39msort_values(by\u001b[38;5;241m=\u001b[39m[\u001b[38;5;124m'\u001b[39m\u001b[38;5;124mgenius_url\u001b[39m\u001b[38;5;124m'\u001b[39m], ascending\u001b[38;5;241m=\u001b[39m\u001b[38;5;28;01mFalse\u001b[39;00m)\u001b[38;5;241m.\u001b[39mhead(\u001b[38;5;241m30\u001b[39m)\n\u001b[0;32m      3\u001b[0m \u001b[38;5;66;03m# df_artists_lyrics.sort_values(by='count_adlib', ascending=False).head()\u001b[39;00m\n",
      "\u001b[1;31mNameError\u001b[0m: name 'df_artists_lyrics' is not defined"
     ]
    }
   ],
   "source": [
    "# df_artists_lyrics[df_artists_lyrics['ad_lib']=='hey, kewtiie']\n",
    "df_artists_lyrics.groupby(['ad_lib_type']).genius_url.count().reset_index().sort_values(by=['genius_url'], ascending=False).head(30)\n",
    "# df_artists_lyrics.sort_values(by='count_adlib', ascending=False).head()"
   ]
  },
  {
   "cell_type": "code",
   "execution_count": 95,
   "id": "d088897f-77a6-4e72-a640-5d8ba1ccc07a",
   "metadata": {},
   "outputs": [
    {
     "data": {
      "text/plain": [
       "82"
      ]
     },
     "execution_count": 95,
     "metadata": {},
     "output_type": "execute_result"
    }
   ],
   "source": [
    "len(artist_uris)"
   ]
  },
  {
   "cell_type": "code",
   "execution_count": 645,
   "id": "334a5f61-9c0e-4c1c-8977-c8b906f0f9d5",
   "metadata": {},
   "outputs": [
    {
     "name": "stdout",
     "output_type": "stream",
     "text": [
      "Stored 'words_df' (DataFrame)\n"
     ]
    }
   ],
   "source": [
    "%store words_df"
   ]
  },
  {
   "cell_type": "code",
   "execution_count": 646,
   "id": "a2e6f089-95e2-471d-bdbb-1ab4083d7e29",
   "metadata": {},
   "outputs": [
    {
     "name": "stdout",
     "output_type": "stream",
     "text": [
      "Stored 'flat_words' (list)\n"
     ]
    }
   ],
   "source": [
    "%store flat_words"
   ]
  },
  {
   "cell_type": "code",
   "execution_count": 647,
   "id": "534ac363-40c3-4496-b921-5d03c64f9909",
   "metadata": {},
   "outputs": [
    {
     "name": "stdout",
     "output_type": "stream",
     "text": [
      "Stored 'words_list' (list)\n"
     ]
    }
   ],
   "source": [
    "%store words_list"
   ]
  },
  {
   "cell_type": "raw",
   "id": "439fc77c-f2cc-40aa-bdfb-8dd645e1ba12",
   "metadata": {},
   "source": [
    "rows_4 = []\n",
    "for i in range(0, 800, 50):\n",
    "    modified_url = f\"{tag_url}&offset={i}&limit=50\"\n",
    "    print(modified_url)\n",
    "    request = requests.get(modified_url, headers=headers)\n",
    "    request = request.json()\n",
    "    # # print(request)\n",
    "    # # print(request['artists']['items'])\n",
    "    for artist in request['artists']['items']:\n",
    "        cells = {\n",
    "        'uri': None,\n",
    "        'name': None,\n",
    "        'followers': None,\n",
    "        'popularity': None,\n",
    "        'genres': None,\n",
    "        'url': None}\n",
    "        cells['uri'] = artist['uri'].replace('spotify:artist:','')\n",
    "        cells['name'] = artist['name']\n",
    "        cells['followers'] = artist['followers']['total']\n",
    "        cells['popularity'] = artist['popularity']\n",
    "        cells['genres'] = artist['genres']\n",
    "        cells['url'] = artist['external_urls']['spotify']\n",
    "        rows_3.append(cells)"
   ]
  }
 ],
 "metadata": {
  "kernelspec": {
   "display_name": "Python 3 (ipykernel)",
   "language": "python",
   "name": "python3"
  },
  "language_info": {
   "codemirror_mode": {
    "name": "ipython",
    "version": 3
   },
   "file_extension": ".py",
   "mimetype": "text/x-python",
   "name": "python",
   "nbconvert_exporter": "python",
   "pygments_lexer": "ipython3",
   "version": "3.10.11"
  }
 },
 "nbformat": 4,
 "nbformat_minor": 5
}
